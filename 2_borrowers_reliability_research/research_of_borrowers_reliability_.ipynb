{
 "cells": [
  {
   "cell_type": "markdown",
   "metadata": {},
   "source": [
    "# Исследование платежеспособности клиентов банка"
   ]
  },
  {
   "cell_type": "markdown",
   "metadata": {},
   "source": [
    "Влияет ли семейное положение клиентов и количество детей на факт погашения кредита в срок?"
   ]
  },
  {
   "cell_type": "markdown",
   "metadata": {},
   "source": [
    "Чтобы ноутбук работал локально, требуется установка библиотеки для лемматизации (ячейка ниже):"
   ]
  },
  {
   "cell_type": "code",
   "execution_count": 1,
   "metadata": {},
   "outputs": [
    {
     "name": "stdout",
     "output_type": "stream",
     "text": [
      "Defaulting to user installation because normal site-packages is not writeable\n",
      "Requirement already satisfied: pymystem3 in c:\\users\\olgas\\appdata\\roaming\\python\\python39\\site-packages (0.2.0)\n",
      "Requirement already satisfied: requests in c:\\programdata\\anaconda3\\lib\\site-packages (from pymystem3) (2.27.1)\n",
      "Requirement already satisfied: certifi>=2017.4.17 in c:\\programdata\\anaconda3\\lib\\site-packages (from requests->pymystem3) (2021.10.8)\n",
      "Requirement already satisfied: urllib3<1.27,>=1.21.1 in c:\\programdata\\anaconda3\\lib\\site-packages (from requests->pymystem3) (1.26.9)\n",
      "Requirement already satisfied: charset-normalizer~=2.0.0 in c:\\programdata\\anaconda3\\lib\\site-packages (from requests->pymystem3) (2.0.4)\n",
      "Requirement already satisfied: idna<4,>=2.5 in c:\\programdata\\anaconda3\\lib\\site-packages (from requests->pymystem3) (3.3)\n"
     ]
    }
   ],
   "source": [
    "!pip install pymystem3 -U"
   ]
  },
  {
   "cell_type": "markdown",
   "metadata": {},
   "source": [
    "## Импорт библиотек и предобработка данных"
   ]
  },
  {
   "cell_type": "code",
   "execution_count": 2,
   "metadata": {},
   "outputs": [],
   "source": [
    "import pymystem3"
   ]
  },
  {
   "cell_type": "code",
   "execution_count": 3,
   "metadata": {},
   "outputs": [],
   "source": [
    "import pandas as pd\n",
    "import matplotlib.pyplot as plt\n",
    "import seaborn as sb\n",
    "import numpy as np\n",
    "from pymystem3 import Mystem\n",
    "import warnings\n",
    "\n",
    "warnings.filterwarnings(\"ignore\")"
   ]
  },
  {
   "cell_type": "code",
   "execution_count": 4,
   "metadata": {},
   "outputs": [
    {
     "data": {
      "text/html": [
       "<div>\n",
       "<style scoped>\n",
       "    .dataframe tbody tr th:only-of-type {\n",
       "        vertical-align: middle;\n",
       "    }\n",
       "\n",
       "    .dataframe tbody tr th {\n",
       "        vertical-align: top;\n",
       "    }\n",
       "\n",
       "    .dataframe thead th {\n",
       "        text-align: right;\n",
       "    }\n",
       "</style>\n",
       "<table border=\"1\" class=\"dataframe\">\n",
       "  <thead>\n",
       "    <tr style=\"text-align: right;\">\n",
       "      <th></th>\n",
       "      <th>children</th>\n",
       "      <th>days_employed</th>\n",
       "      <th>dob_years</th>\n",
       "      <th>education</th>\n",
       "      <th>education_id</th>\n",
       "      <th>family_status</th>\n",
       "      <th>family_status_id</th>\n",
       "      <th>gender</th>\n",
       "      <th>income_type</th>\n",
       "      <th>debt</th>\n",
       "      <th>total_income</th>\n",
       "      <th>purpose</th>\n",
       "    </tr>\n",
       "  </thead>\n",
       "  <tbody>\n",
       "    <tr>\n",
       "      <th>1383</th>\n",
       "      <td>0</td>\n",
       "      <td>353802.811675</td>\n",
       "      <td>37</td>\n",
       "      <td>среднее</td>\n",
       "      <td>1</td>\n",
       "      <td>вдовец / вдова</td>\n",
       "      <td>2</td>\n",
       "      <td>F</td>\n",
       "      <td>пенсионер</td>\n",
       "      <td>0</td>\n",
       "      <td>216452.226085</td>\n",
       "      <td>строительство недвижимости</td>\n",
       "    </tr>\n",
       "    <tr>\n",
       "      <th>300</th>\n",
       "      <td>1</td>\n",
       "      <td>-359.193975</td>\n",
       "      <td>33</td>\n",
       "      <td>СРЕДНЕЕ</td>\n",
       "      <td>1</td>\n",
       "      <td>гражданский брак</td>\n",
       "      <td>1</td>\n",
       "      <td>M</td>\n",
       "      <td>сотрудник</td>\n",
       "      <td>0</td>\n",
       "      <td>223001.623994</td>\n",
       "      <td>на проведение свадьбы</td>\n",
       "    </tr>\n",
       "    <tr>\n",
       "      <th>6565</th>\n",
       "      <td>2</td>\n",
       "      <td>-1064.854333</td>\n",
       "      <td>35</td>\n",
       "      <td>среднее</td>\n",
       "      <td>1</td>\n",
       "      <td>гражданский брак</td>\n",
       "      <td>1</td>\n",
       "      <td>F</td>\n",
       "      <td>компаньон</td>\n",
       "      <td>0</td>\n",
       "      <td>163591.209323</td>\n",
       "      <td>свадьба</td>\n",
       "    </tr>\n",
       "    <tr>\n",
       "      <th>17027</th>\n",
       "      <td>0</td>\n",
       "      <td>NaN</td>\n",
       "      <td>48</td>\n",
       "      <td>высшее</td>\n",
       "      <td>0</td>\n",
       "      <td>гражданский брак</td>\n",
       "      <td>1</td>\n",
       "      <td>F</td>\n",
       "      <td>сотрудник</td>\n",
       "      <td>0</td>\n",
       "      <td>NaN</td>\n",
       "      <td>операции с жильем</td>\n",
       "    </tr>\n",
       "    <tr>\n",
       "      <th>4077</th>\n",
       "      <td>0</td>\n",
       "      <td>-7059.100220</td>\n",
       "      <td>45</td>\n",
       "      <td>высшее</td>\n",
       "      <td>0</td>\n",
       "      <td>гражданский брак</td>\n",
       "      <td>1</td>\n",
       "      <td>F</td>\n",
       "      <td>компаньон</td>\n",
       "      <td>1</td>\n",
       "      <td>194820.185757</td>\n",
       "      <td>сыграть свадьбу</td>\n",
       "    </tr>\n",
       "  </tbody>\n",
       "</table>\n",
       "</div>"
      ],
      "text/plain": [
       "       children  days_employed  dob_years education  education_id  \\\n",
       "1383          0  353802.811675         37   среднее             1   \n",
       "300           1    -359.193975         33   СРЕДНЕЕ             1   \n",
       "6565          2   -1064.854333         35   среднее             1   \n",
       "17027         0            NaN         48    высшее             0   \n",
       "4077          0   -7059.100220         45    высшее             0   \n",
       "\n",
       "          family_status  family_status_id gender income_type  debt  \\\n",
       "1383     вдовец / вдова                 2      F   пенсионер     0   \n",
       "300    гражданский брак                 1      M   сотрудник     0   \n",
       "6565   гражданский брак                 1      F   компаньон     0   \n",
       "17027  гражданский брак                 1      F   сотрудник     0   \n",
       "4077   гражданский брак                 1      F   компаньон     1   \n",
       "\n",
       "        total_income                     purpose  \n",
       "1383   216452.226085  строительство недвижимости  \n",
       "300    223001.623994       на проведение свадьбы  \n",
       "6565   163591.209323                     свадьба  \n",
       "17027            NaN           операции с жильем  \n",
       "4077   194820.185757             сыграть свадьбу  "
      ]
     },
     "execution_count": 4,
     "metadata": {},
     "output_type": "execute_result"
    }
   ],
   "source": [
    "df=pd.read_csv('borrorers_data.csv')\n",
    "df.sample(n=5, random_state=1)"
   ]
  },
  {
   "cell_type": "code",
   "execution_count": 5,
   "metadata": {},
   "outputs": [
    {
     "name": "stdout",
     "output_type": "stream",
     "text": [
      "<class 'pandas.core.frame.DataFrame'>\n",
      "RangeIndex: 21525 entries, 0 to 21524\n",
      "Data columns (total 12 columns):\n",
      " #   Column            Non-Null Count  Dtype  \n",
      "---  ------            --------------  -----  \n",
      " 0   children          21525 non-null  int64  \n",
      " 1   days_employed     19351 non-null  float64\n",
      " 2   dob_years         21525 non-null  int64  \n",
      " 3   education         21525 non-null  object \n",
      " 4   education_id      21525 non-null  int64  \n",
      " 5   family_status     21525 non-null  object \n",
      " 6   family_status_id  21525 non-null  int64  \n",
      " 7   gender            21525 non-null  object \n",
      " 8   income_type       21525 non-null  object \n",
      " 9   debt              21525 non-null  int64  \n",
      " 10  total_income      19351 non-null  float64\n",
      " 11  purpose           21525 non-null  object \n",
      "dtypes: float64(2), int64(5), object(5)\n",
      "memory usage: 2.0+ MB\n"
     ]
    }
   ],
   "source": [
    "df.info()"
   ]
  },
  {
   "cell_type": "code",
   "execution_count": 6,
   "metadata": {},
   "outputs": [
    {
     "data": {
      "text/html": [
       "<div>\n",
       "<style scoped>\n",
       "    .dataframe tbody tr th:only-of-type {\n",
       "        vertical-align: middle;\n",
       "    }\n",
       "\n",
       "    .dataframe tbody tr th {\n",
       "        vertical-align: top;\n",
       "    }\n",
       "\n",
       "    .dataframe thead th {\n",
       "        text-align: right;\n",
       "    }\n",
       "</style>\n",
       "<table border=\"1\" class=\"dataframe\">\n",
       "  <thead>\n",
       "    <tr style=\"text-align: right;\">\n",
       "      <th></th>\n",
       "      <th>count</th>\n",
       "      <th>mean</th>\n",
       "      <th>std</th>\n",
       "      <th>min</th>\n",
       "      <th>25%</th>\n",
       "      <th>50%</th>\n",
       "      <th>75%</th>\n",
       "      <th>max</th>\n",
       "    </tr>\n",
       "  </thead>\n",
       "  <tbody>\n",
       "    <tr>\n",
       "      <th>children</th>\n",
       "      <td>21525.0</td>\n",
       "      <td>0.538908</td>\n",
       "      <td>1.381587</td>\n",
       "      <td>-1.000000</td>\n",
       "      <td>0.000000</td>\n",
       "      <td>0.000000</td>\n",
       "      <td>1.000000</td>\n",
       "      <td>2.000000e+01</td>\n",
       "    </tr>\n",
       "    <tr>\n",
       "      <th>days_employed</th>\n",
       "      <td>19351.0</td>\n",
       "      <td>63046.497661</td>\n",
       "      <td>140827.311974</td>\n",
       "      <td>-18388.949901</td>\n",
       "      <td>-2747.423625</td>\n",
       "      <td>-1203.369529</td>\n",
       "      <td>-291.095954</td>\n",
       "      <td>4.017554e+05</td>\n",
       "    </tr>\n",
       "    <tr>\n",
       "      <th>dob_years</th>\n",
       "      <td>21525.0</td>\n",
       "      <td>43.293380</td>\n",
       "      <td>12.574584</td>\n",
       "      <td>0.000000</td>\n",
       "      <td>33.000000</td>\n",
       "      <td>42.000000</td>\n",
       "      <td>53.000000</td>\n",
       "      <td>7.500000e+01</td>\n",
       "    </tr>\n",
       "    <tr>\n",
       "      <th>education_id</th>\n",
       "      <td>21525.0</td>\n",
       "      <td>0.817236</td>\n",
       "      <td>0.548138</td>\n",
       "      <td>0.000000</td>\n",
       "      <td>1.000000</td>\n",
       "      <td>1.000000</td>\n",
       "      <td>1.000000</td>\n",
       "      <td>4.000000e+00</td>\n",
       "    </tr>\n",
       "    <tr>\n",
       "      <th>family_status_id</th>\n",
       "      <td>21525.0</td>\n",
       "      <td>0.972544</td>\n",
       "      <td>1.420324</td>\n",
       "      <td>0.000000</td>\n",
       "      <td>0.000000</td>\n",
       "      <td>0.000000</td>\n",
       "      <td>1.000000</td>\n",
       "      <td>4.000000e+00</td>\n",
       "    </tr>\n",
       "    <tr>\n",
       "      <th>debt</th>\n",
       "      <td>21525.0</td>\n",
       "      <td>0.080883</td>\n",
       "      <td>0.272661</td>\n",
       "      <td>0.000000</td>\n",
       "      <td>0.000000</td>\n",
       "      <td>0.000000</td>\n",
       "      <td>0.000000</td>\n",
       "      <td>1.000000e+00</td>\n",
       "    </tr>\n",
       "    <tr>\n",
       "      <th>total_income</th>\n",
       "      <td>19351.0</td>\n",
       "      <td>167422.302208</td>\n",
       "      <td>102971.566448</td>\n",
       "      <td>20667.263793</td>\n",
       "      <td>103053.152913</td>\n",
       "      <td>145017.937533</td>\n",
       "      <td>203435.067663</td>\n",
       "      <td>2.265604e+06</td>\n",
       "    </tr>\n",
       "  </tbody>\n",
       "</table>\n",
       "</div>"
      ],
      "text/plain": [
       "                    count           mean            std           min  \\\n",
       "children          21525.0       0.538908       1.381587     -1.000000   \n",
       "days_employed     19351.0   63046.497661  140827.311974 -18388.949901   \n",
       "dob_years         21525.0      43.293380      12.574584      0.000000   \n",
       "education_id      21525.0       0.817236       0.548138      0.000000   \n",
       "family_status_id  21525.0       0.972544       1.420324      0.000000   \n",
       "debt              21525.0       0.080883       0.272661      0.000000   \n",
       "total_income      19351.0  167422.302208  102971.566448  20667.263793   \n",
       "\n",
       "                            25%            50%            75%           max  \n",
       "children               0.000000       0.000000       1.000000  2.000000e+01  \n",
       "days_employed      -2747.423625   -1203.369529    -291.095954  4.017554e+05  \n",
       "dob_years             33.000000      42.000000      53.000000  7.500000e+01  \n",
       "education_id           1.000000       1.000000       1.000000  4.000000e+00  \n",
       "family_status_id       0.000000       0.000000       1.000000  4.000000e+00  \n",
       "debt                   0.000000       0.000000       0.000000  1.000000e+00  \n",
       "total_income      103053.152913  145017.937533  203435.067663  2.265604e+06  "
      ]
     },
     "execution_count": 6,
     "metadata": {},
     "output_type": "execute_result"
    }
   ],
   "source": [
    "df.describe().T"
   ]
  },
  {
   "cell_type": "markdown",
   "metadata": {},
   "source": [
    "Как видно из описания, в таблице есть 21525 записи, в 2 столбцах допущены пропуски days_employed и total_income, по 2174 записи."
   ]
  },
  {
   "cell_type": "markdown",
   "metadata": {},
   "source": [
    "## <span style='color:green'>Предобработка данных </span>"
   ]
  },
  {
   "cell_type": "markdown",
   "metadata": {},
   "source": [
    "Посмотрим уникальные значения каждого из столбцов, например у детей обнаружились записи -1 и 20 детей."
   ]
  },
  {
   "cell_type": "code",
   "execution_count": 7,
   "metadata": {},
   "outputs": [
    {
     "data": {
      "text/plain": [
       "[-1, 0, 1, 2, 3, 4, 5, 20]"
      ]
     },
     "execution_count": 7,
     "metadata": {},
     "output_type": "execute_result"
    }
   ],
   "source": [
    "sorted(df['children'].unique())"
   ]
  },
  {
   "cell_type": "markdown",
   "metadata": {},
   "source": [
    "47 записей с количеством детей -1 и 76 записей для клиентов с 20 детьми (!!!)"
   ]
  },
  {
   "cell_type": "code",
   "execution_count": 8,
   "metadata": {},
   "outputs": [
    {
     "data": {
      "text/plain": [
       "47"
      ]
     },
     "execution_count": 8,
     "metadata": {},
     "output_type": "execute_result"
    }
   ],
   "source": [
    "df[df['children'] == -1]['children'].count()"
   ]
  },
  {
   "cell_type": "code",
   "execution_count": 9,
   "metadata": {},
   "outputs": [
    {
     "data": {
      "text/plain": [
       "76"
      ]
     },
     "execution_count": 9,
     "metadata": {},
     "output_type": "execute_result"
    }
   ],
   "source": [
    "df[df['children'] == 20]['children'].count()"
   ]
  },
  {
   "cell_type": "markdown",
   "metadata": {},
   "source": [
    "Если посмотреть среднее и медиану по столбцу children, исключая значение -1, то получится 0.0 и 0.54\n",
    "если посмотреть среднее и медиану по столбцу children, исключая значение 20, то получится 0.0 и 0.47"
   ]
  },
  {
   "cell_type": "code",
   "execution_count": 10,
   "metadata": {
    "scrolled": true
   },
   "outputs": [
    {
     "name": "stdout",
     "output_type": "stream",
     "text": [
      "0.0\n",
      "0.4699519791132454\n"
     ]
    }
   ],
   "source": [
    "print(df[df['children'] != 20]['children'].median())\n",
    "print(df[df['children'] != 20]['children'].mean())\n"
   ]
  },
  {
   "cell_type": "markdown",
   "metadata": {},
   "source": [
    "Принимаю решение заменить наблюдения -1 и 20 нулями. На всякий случай поискала статистику, в 2018 году на 23,75 млн семей в России приходилось около 943 семьи, воспитывающей 11 детей и более, частота получается намного меньше,чем если смотреть в нашей таблице. Также, если смотреть на все уникальные наблюдений, в ряду после 5 детей нет наблюдений с 6 до 19 (а это невозможно, такой резкий разброс), значит значение 20 детей также ошибочно."
   ]
  },
  {
   "cell_type": "code",
   "execution_count": 11,
   "metadata": {},
   "outputs": [
    {
     "data": {
      "text/plain": [
       "0    14272\n",
       "1     4818\n",
       "2     2055\n",
       "3      330\n",
       "4       41\n",
       "5        9\n",
       "Name: children, dtype: int64"
      ]
     },
     "execution_count": 11,
     "metadata": {},
     "output_type": "execute_result"
    }
   ],
   "source": [
    "df.loc[df['children'] == -1, 'children'] = 0\n",
    "df.loc[df['children'] == 20, 'children'] = 0\n",
    "\n",
    "df['children'].value_counts()"
   ]
  },
  {
   "cell_type": "markdown",
   "metadata": {},
   "source": [
    "В days_employed есть немножко чертовщины, положительные, отрицательные, дробные. "
   ]
  },
  {
   "cell_type": "code",
   "execution_count": 12,
   "metadata": {},
   "outputs": [
    {
     "data": {
      "text/plain": [
       "array([-8437.67302776, -4024.80375385, -5623.42261023, ...,\n",
       "       -2113.3468877 , -3112.4817052 , -1984.50758853])"
      ]
     },
     "execution_count": 12,
     "metadata": {},
     "output_type": "execute_result"
    }
   ],
   "source": [
    "df['days_employed'].unique()"
   ]
  },
  {
   "cell_type": "markdown",
   "metadata": {},
   "source": [
    "сначала избавимся от минуса в стаже, скорее всего случайно поставили. Например, иногда минус можно спутать с тире н лет - к дней"
   ]
  },
  {
   "cell_type": "code",
   "execution_count": 13,
   "metadata": {},
   "outputs": [],
   "source": [
    "df['days_employed'] = df['days_employed'].abs()"
   ]
  },
  {
   "cell_type": "markdown",
   "metadata": {},
   "source": [
    "оценим метрики столбцов days_employed"
   ]
  },
  {
   "cell_type": "code",
   "execution_count": 14,
   "metadata": {},
   "outputs": [
    {
     "name": "stdout",
     "output_type": "stream",
     "text": [
      "min        0.00000\n",
      "max       75.00000\n",
      "mean      43.29338\n",
      "median    42.00000\n",
      "Name: dob_years, dtype: float64\n",
      "min           24.141633\n",
      "max       401755.400475\n",
      "mean       66914.728907\n",
      "median      2194.220567\n",
      "Name: days_employed, dtype: float64\n"
     ]
    }
   ],
   "source": [
    "print(df['dob_years'].agg(['min', 'max','mean', 'median']))\n",
    "print(df['days_employed'].agg(['min', 'max','mean', 'median']))"
   ]
  },
  {
   "cell_type": "code",
   "execution_count": 15,
   "metadata": {},
   "outputs": [
    {
     "data": {
      "text/plain": [
       "2174"
      ]
     },
     "execution_count": 15,
     "metadata": {},
     "output_type": "execute_result"
    }
   ],
   "source": [
    "df['days_employed'].isna().sum()"
   ]
  },
  {
   "cell_type": "markdown",
   "metadata": {},
   "source": [
    "2174 записи составляют 10,09% от всех записей таблицы сейчас."
   ]
  },
  {
   "cell_type": "code",
   "execution_count": 16,
   "metadata": {},
   "outputs": [],
   "source": [
    "def fillmedian(age):\n",
    "    ''' функция считает медиану трудового стажа в днях для фиксированного возраста в таблице'''\n",
    "    return df[df['dob_years'] == age]['days_employed'].median()"
   ]
  },
  {
   "cell_type": "code",
   "execution_count": 17,
   "metadata": {},
   "outputs": [
    {
     "data": {
      "text/plain": [
       "0"
      ]
     },
     "execution_count": 17,
     "metadata": {},
     "output_type": "execute_result"
    }
   ],
   "source": [
    "nan_indexes = df.loc[df['days_employed'].isna()].index.tolist()\n",
    "#формируем список индексов строк с пропущенными значениями в стаже\n",
    "for item in nan_indexes:\n",
    "# заменяем каждое пропущенное медианой по возрасту, указанному в этой же строке    \n",
    "    df.loc[item,'days_employed'] = fillmedian(df.loc[item,'dob_years']) \n",
    "df['days_employed'].isna().sum()"
   ]
  },
  {
   "cell_type": "code",
   "execution_count": 18,
   "metadata": {},
   "outputs": [
    {
     "data": {
      "text/plain": [
       "children               0\n",
       "days_employed          0\n",
       "dob_years              0\n",
       "education              0\n",
       "education_id           0\n",
       "family_status          0\n",
       "family_status_id       0\n",
       "gender                 0\n",
       "income_type            0\n",
       "debt                   0\n",
       "total_income        2174\n",
       "purpose                0\n",
       "dtype: int64"
      ]
     },
     "execution_count": 18,
     "metadata": {},
     "output_type": "execute_result"
    }
   ],
   "source": [
    "df.isna().sum()"
   ]
  },
  {
   "cell_type": "markdown",
   "metadata": {},
   "source": [
    "исправим тип данных в столбце с вещественного на целый (количество лет клиента целое, количество дней стажа тоже должно быть целым)"
   ]
  },
  {
   "cell_type": "code",
   "execution_count": 19,
   "metadata": {},
   "outputs": [
    {
     "data": {
      "text/plain": [
       "array([  8437,   4024,   5623, ..., 362161, 373995, 343937])"
      ]
     },
     "metadata": {},
     "output_type": "display_data"
    },
    {
     "data": {
      "text/plain": [
       "min           24.000000\n",
       "max       401755.000000\n",
       "mean       66931.591266\n",
       "median      2170.000000\n",
       "Name: days_employed, dtype: float64"
      ]
     },
     "metadata": {},
     "output_type": "display_data"
    }
   ],
   "source": [
    "df['days_employed'] = df['days_employed'].astype('int')\n",
    "display(df['days_employed'].unique())\n",
    "display(df['days_employed'].agg(['min', 'max','mean', 'median']))"
   ]
  },
  {
   "cell_type": "code",
   "execution_count": 20,
   "metadata": {},
   "outputs": [
    {
     "name": "stdout",
     "output_type": "stream",
     "text": [
      "Average memory usage for float columns: 0.08 MB\n",
      "Average memory usage for int columns: 0.13 MB\n",
      "Average memory usage for object columns: 1.69 MB\n"
     ]
    }
   ],
   "source": [
    "for dtype in ['float','int','object']:\n",
    "    selected_dtype = df.select_dtypes(include=[dtype])\n",
    "    mean_usage_b = selected_dtype.memory_usage(deep=True).mean()\n",
    "    mean_usage_mb = mean_usage_b / 1024 ** 2\n",
    "    print(\"Average memory usage for {} columns: {:03.2f} MB\".format(dtype,mean_usage_mb))"
   ]
  },
  {
   "cell_type": "code",
   "execution_count": 21,
   "metadata": {},
   "outputs": [
    {
     "name": "stdout",
     "output_type": "stream",
     "text": [
      "0.90 MB\n",
      "0.18 MB\n"
     ]
    },
    {
     "data": {
      "text/html": [
       "<div>\n",
       "<style scoped>\n",
       "    .dataframe tbody tr th:only-of-type {\n",
       "        vertical-align: middle;\n",
       "    }\n",
       "\n",
       "    .dataframe tbody tr th {\n",
       "        vertical-align: top;\n",
       "    }\n",
       "\n",
       "    .dataframe thead th {\n",
       "        text-align: right;\n",
       "    }\n",
       "</style>\n",
       "<table border=\"1\" class=\"dataframe\">\n",
       "  <thead>\n",
       "    <tr style=\"text-align: right;\">\n",
       "      <th></th>\n",
       "      <th>before</th>\n",
       "      <th>after</th>\n",
       "    </tr>\n",
       "  </thead>\n",
       "  <tbody>\n",
       "    <tr>\n",
       "      <th>uint8</th>\n",
       "      <td>NaN</td>\n",
       "      <td>5.0</td>\n",
       "    </tr>\n",
       "    <tr>\n",
       "      <th>int32</th>\n",
       "      <td>1.0</td>\n",
       "      <td>NaN</td>\n",
       "    </tr>\n",
       "    <tr>\n",
       "      <th>uint32</th>\n",
       "      <td>NaN</td>\n",
       "      <td>1.0</td>\n",
       "    </tr>\n",
       "    <tr>\n",
       "      <th>int64</th>\n",
       "      <td>5.0</td>\n",
       "      <td>NaN</td>\n",
       "    </tr>\n",
       "  </tbody>\n",
       "</table>\n",
       "</div>"
      ],
      "text/plain": [
       "        before  after\n",
       "uint8      NaN    5.0\n",
       "int32      1.0    NaN\n",
       "uint32     NaN    1.0\n",
       "int64      5.0    NaN"
      ]
     },
     "execution_count": 21,
     "metadata": {},
     "output_type": "execute_result"
    }
   ],
   "source": [
    "def mem_usage(pandas_obj):\n",
    "    if isinstance(pandas_obj,pd.DataFrame):\n",
    "        usage_b = pandas_obj.memory_usage(deep=True).sum()\n",
    "    else: # исходим из предположения о том, что если это не DataFrame, то это Series\n",
    "        usage_b = pandas_obj.memory_usage(deep=True)\n",
    "    usage_mb = usage_b / 1024 ** 2 # преобразуем байты в мегабайты\n",
    "    return \"{:03.2f} MB\".format(usage_mb)\n",
    "\n",
    "df_int = df.select_dtypes(include=['int'])\n",
    "converted_int = df_int.apply(pd.to_numeric,downcast='unsigned')\n",
    "\n",
    "print(mem_usage(df_int))\n",
    "print(mem_usage(converted_int))\n",
    "\n",
    "compare_ints = pd.concat([df_int.dtypes,converted_int.dtypes],axis=1)\n",
    "compare_ints.columns = ['before','after']\n",
    "compare_ints.apply(pd.Series.value_counts)"
   ]
  },
  {
   "cell_type": "markdown",
   "metadata": {},
   "source": [
    "<span style='color:blue'> с помощью вот такого преобразования типов снизилось потребление памяти на 82% </span> "
   ]
  },
  {
   "cell_type": "code",
   "execution_count": 22,
   "metadata": {},
   "outputs": [
    {
     "name": "stdout",
     "output_type": "stream",
     "text": [
      "0.16 MB\n",
      "0.08 MB\n"
     ]
    },
    {
     "data": {
      "text/html": [
       "<div>\n",
       "<style scoped>\n",
       "    .dataframe tbody tr th:only-of-type {\n",
       "        vertical-align: middle;\n",
       "    }\n",
       "\n",
       "    .dataframe tbody tr th {\n",
       "        vertical-align: top;\n",
       "    }\n",
       "\n",
       "    .dataframe thead th {\n",
       "        text-align: right;\n",
       "    }\n",
       "</style>\n",
       "<table border=\"1\" class=\"dataframe\">\n",
       "  <thead>\n",
       "    <tr style=\"text-align: right;\">\n",
       "      <th></th>\n",
       "      <th>before</th>\n",
       "      <th>after</th>\n",
       "    </tr>\n",
       "  </thead>\n",
       "  <tbody>\n",
       "    <tr>\n",
       "      <th>float32</th>\n",
       "      <td>NaN</td>\n",
       "      <td>1.0</td>\n",
       "    </tr>\n",
       "    <tr>\n",
       "      <th>float64</th>\n",
       "      <td>1.0</td>\n",
       "      <td>NaN</td>\n",
       "    </tr>\n",
       "  </tbody>\n",
       "</table>\n",
       "</div>"
      ],
      "text/plain": [
       "         before  after\n",
       "float32     NaN    1.0\n",
       "float64     1.0    NaN"
      ]
     },
     "execution_count": 22,
     "metadata": {},
     "output_type": "execute_result"
    }
   ],
   "source": [
    "df_float = df.select_dtypes(include=['float'])\n",
    "converted_float = df_float.apply(pd.to_numeric,downcast='float')\n",
    "\n",
    "print(mem_usage(df_float))\n",
    "print(mem_usage(converted_float))\n",
    "\n",
    "compare_floats = pd.concat([df_float.dtypes,converted_float.dtypes],axis=1)\n",
    "compare_floats.columns = ['before','after']\n",
    "compare_floats.apply(pd.Series.value_counts)\n"
   ]
  },
  {
   "cell_type": "markdown",
   "metadata": {},
   "source": [
    "<span style='color:blue'> объем памяти, необходимый для хранения типов с плавающей точкой  сократился на 50% </span> "
   ]
  },
  {
   "cell_type": "code",
   "execution_count": 23,
   "metadata": {},
   "outputs": [
    {
     "name": "stdout",
     "output_type": "stream",
     "text": [
      "11.20 MB\n",
      "10.40 MB\n"
     ]
    }
   ],
   "source": [
    "optimized_df = df.copy()\n",
    "\n",
    "optimized_df[converted_int.columns] = converted_int\n",
    "optimized_df[converted_float.columns] = converted_float\n",
    "\n",
    "print(mem_usage(df))\n",
    "print(mem_usage(optimized_df))"
   ]
  },
  {
   "cell_type": "markdown",
   "metadata": {},
   "source": [
    "<span style='color:blue'> потребление памяти сократилось на 5%</span>  "
   ]
  },
  {
   "cell_type": "markdown",
   "metadata": {},
   "source": [
    "при сортировке уникальных значений возрастов клиентов обнаружился клиент возрастом 0 лет (???)\n",
    "print использован, чтобы вывести уникальные значения в строчку"
   ]
  },
  {
   "cell_type": "code",
   "execution_count": 24,
   "metadata": {},
   "outputs": [
    {
     "name": "stdout",
     "output_type": "stream",
     "text": [
      "[0, 19, 20, 21, 22, 23, 24, 25, 26, 27, 28, 29, 30, 31, 32, 33, 34, 35, 36, 37, 38, 39, 40, 41, 42, 43, 44, 45, 46, 47, 48, 49, 50, 51, 52, 53, 54, 55, 56, 57, 58, 59, 60, 61, 62, 63, 64, 65, 66, 67, 68, 69, 70, 71, 72, 73, 74, 75]\n"
     ]
    }
   ],
   "source": [
    "print(sorted(df['dob_years'].unique()))"
   ]
  },
  {
   "cell_type": "code",
   "execution_count": 25,
   "metadata": {},
   "outputs": [
    {
     "data": {
      "text/plain": [
       "min        0.00000\n",
       "max       75.00000\n",
       "mean      43.29338\n",
       "median    42.00000\n",
       "Name: dob_years, dtype: float64"
      ]
     },
     "execution_count": 25,
     "metadata": {},
     "output_type": "execute_result"
    }
   ],
   "source": [
    "df['dob_years'].agg(['min', 'max','mean', 'median'])"
   ]
  },
  {
   "cell_type": "markdown",
   "metadata": {},
   "source": [
    "медианный возраст клиентов, без учета нулей 42 года, средний возраст 43, принимаю решение заменить значение 0 на значение 42"
   ]
  },
  {
   "cell_type": "code",
   "execution_count": 26,
   "metadata": {},
   "outputs": [
    {
     "data": {
      "text/plain": [
       "43.497479462285284"
      ]
     },
     "execution_count": 26,
     "metadata": {},
     "output_type": "execute_result"
    }
   ],
   "source": [
    "df[df['dob_years'] != 0]['dob_years'].mean()"
   ]
  },
  {
   "cell_type": "code",
   "execution_count": 27,
   "metadata": {},
   "outputs": [],
   "source": [
    "df['dob_years']= df['dob_years'].replace(0,42)"
   ]
  },
  {
   "cell_type": "code",
   "execution_count": 28,
   "metadata": {},
   "outputs": [
    {
     "data": {
      "text/plain": [
       "0"
      ]
     },
     "execution_count": 28,
     "metadata": {},
     "output_type": "execute_result"
    }
   ],
   "source": [
    "df[df['dob_years']==0]['dob_years'].count()"
   ]
  },
  {
   "cell_type": "markdown",
   "metadata": {},
   "source": [
    "при просмотре уровней образования явно возникла необходимость привести все к одному регистру"
   ]
  },
  {
   "cell_type": "code",
   "execution_count": 29,
   "metadata": {},
   "outputs": [],
   "source": [
    "df['education'] = df['education'].str.lower()"
   ]
  },
  {
   "cell_type": "code",
   "execution_count": 30,
   "metadata": {},
   "outputs": [
    {
     "data": {
      "text/plain": [
       "array(['высшее', 'среднее', 'неоконченное высшее', 'начальное',\n",
       "       'ученая степень'], dtype=object)"
      ]
     },
     "execution_count": 30,
     "metadata": {},
     "output_type": "execute_result"
    }
   ],
   "source": [
    "df['education'].unique()"
   ]
  },
  {
   "cell_type": "markdown",
   "metadata": {},
   "source": [
    "все правильно, уникальные значения 5 штук для идентификатора образования"
   ]
  },
  {
   "cell_type": "code",
   "execution_count": 31,
   "metadata": {},
   "outputs": [
    {
     "data": {
      "text/plain": [
       "array([0, 1, 2, 3, 4], dtype=int64)"
      ]
     },
     "execution_count": 31,
     "metadata": {},
     "output_type": "execute_result"
    }
   ],
   "source": [
    "df['education_id'].unique()"
   ]
  },
  {
   "cell_type": "markdown",
   "metadata": {},
   "source": [
    "Небольшая ремарка по поводу education_id и education. Можно было бы вынести в отдельную таблицу столбец education, оставив в этой только education_id, это бы сократило объем необходимой памяти для хранения,и немного упростило таблицу, тк education_id является категориальной переменной (но неправильно сформированной, к сожалению). Но, как видно из ячейки ниже, значения education_id не упорядочены. И если бы потребовалось ответить на вопрос, есть ли зависимость между образованием клиента и риском невозврата кредита, то тогда бы да, надо было аккуратнее использовать эти переменные. Но такая задача не ставилась в рамках проекта. \n",
    "\n",
    "Я не могу сказать, что это ошибка - то, как формировались education_id или education Со своей стороны, но для использования в анализе, я бы переназначила значения и уровни образования:\n",
    "0 - начальное\n",
    "1 - среднее\n",
    "2 - неоконченное высшее\n",
    "3 -  высшее\n",
    "4-  ученая степень"
   ]
  },
  {
   "cell_type": "code",
   "execution_count": 32,
   "metadata": {},
   "outputs": [
    {
     "name": "stdout",
     "output_type": "stream",
     "text": [
      "высшее 0    5260\n",
      "Name: education_id, dtype: int64\n",
      "среднее 1    15233\n",
      "Name: education_id, dtype: int64\n",
      "неоконченное высшее 2    744\n",
      "Name: education_id, dtype: int64\n",
      "начальное 3    282\n",
      "Name: education_id, dtype: int64\n",
      "ученая степень 4    6\n",
      "Name: education_id, dtype: int64\n"
     ]
    }
   ],
   "source": [
    "for item in ['высшее', 'среднее', 'неоконченное высшее', 'начальное', 'ученая степень']:\n",
    "    print(item, df[df['education'] == item]['education_id'].value_counts())"
   ]
  },
  {
   "cell_type": "code",
   "execution_count": 33,
   "metadata": {},
   "outputs": [
    {
     "name": "stdout",
     "output_type": "stream",
     "text": [
      "начальное 0    282\n",
      "Name: education_id, dtype: int64\n",
      "среднее 1    15233\n",
      "Name: education_id, dtype: int64\n",
      "неоконченное высшее 2    744\n",
      "Name: education_id, dtype: int64\n",
      "высшее 3    5260\n",
      "Name: education_id, dtype: int64\n",
      "ученая степень 4    6\n",
      "Name: education_id, dtype: int64\n"
     ]
    }
   ],
   "source": [
    "df['education_id'] = df['education_id'].replace(3,5)   \n",
    "df['education_id']= df['education_id'].replace(0,3)  \n",
    "df['education_id']= df['education_id'].replace(5,0)  \n",
    "for item in ['начальное','среднее','неоконченное высшее', 'высшее', 'ученая степень']:\n",
    "    print(item, df[df['education'] == item]['education_id'].value_counts())"
   ]
  },
  {
   "cell_type": "markdown",
   "metadata": {},
   "source": [
    "у семейного статуса и идентификатора семейного статуса \"странных\" значений не обнаружено"
   ]
  },
  {
   "cell_type": "code",
   "execution_count": 34,
   "metadata": {},
   "outputs": [
    {
     "data": {
      "text/plain": [
       "array(['женат / замужем', 'гражданский брак', 'вдовец / вдова',\n",
       "       'в разводе', 'Не женат / не замужем'], dtype=object)"
      ]
     },
     "execution_count": 34,
     "metadata": {},
     "output_type": "execute_result"
    }
   ],
   "source": [
    "df['family_status'].unique()"
   ]
  },
  {
   "cell_type": "code",
   "execution_count": 35,
   "metadata": {},
   "outputs": [
    {
     "data": {
      "text/plain": [
       "array([0, 1, 2, 3, 4], dtype=int64)"
      ]
     },
     "execution_count": 35,
     "metadata": {},
     "output_type": "execute_result"
    }
   ],
   "source": [
    "df['family_status_id'].unique()"
   ]
  },
  {
   "cell_type": "markdown",
   "metadata": {},
   "source": [
    "Если сопоставить категории семейного положения и семейный статус, то я не могу сказать, что не женат \"лучше\", чем \"женат\", строго говоря их нельзя упорядочить. Да, family_status_id однозначно определяет family_status, но в решении задачи дальше я использовала только family_status, для наглядности."
   ]
  },
  {
   "cell_type": "code",
   "execution_count": 36,
   "metadata": {},
   "outputs": [
    {
     "name": "stdout",
     "output_type": "stream",
     "text": [
      "женат / замужем 0    12380\n",
      "Name: family_status_id, dtype: int64\n",
      "гражданский брак 1    4177\n",
      "Name: family_status_id, dtype: int64\n",
      "вдовец / вдова 2    960\n",
      "Name: family_status_id, dtype: int64\n",
      "в разводе 3    1195\n",
      "Name: family_status_id, dtype: int64\n",
      "Не женат / не замужем 4    2813\n",
      "Name: family_status_id, dtype: int64\n"
     ]
    }
   ],
   "source": [
    "for item in ['женат / замужем', 'гражданский брак', 'вдовец / вдова', 'в разводе', 'Не женат / не замужем']:\n",
    "    print(item, df[df['family_status'] == item]['family_status_id'].value_counts())"
   ]
  },
  {
   "cell_type": "markdown",
   "metadata": {},
   "source": [
    "В столбце ежемесячный доход сделаем оценку метрик, и количества пропущенных значений. Заменим пропущенные на "
   ]
  },
  {
   "cell_type": "code",
   "execution_count": 37,
   "metadata": {},
   "outputs": [
    {
     "data": {
      "text/plain": [
       "min       2.066726e+04\n",
       "max       2.265604e+06\n",
       "mean      1.674223e+05\n",
       "median    1.450179e+05\n",
       "Name: total_income, dtype: float64"
      ]
     },
     "execution_count": 37,
     "metadata": {},
     "output_type": "execute_result"
    }
   ],
   "source": [
    "df['total_income'].agg(['min', 'max','mean', 'median'])"
   ]
  },
  {
   "cell_type": "code",
   "execution_count": 38,
   "metadata": {},
   "outputs": [
    {
     "data": {
      "text/plain": [
       "2174"
      ]
     },
     "execution_count": 38,
     "metadata": {},
     "output_type": "execute_result"
    }
   ],
   "source": [
    "df['total_income'].isna().sum()"
   ]
  },
  {
   "cell_type": "code",
   "execution_count": 39,
   "metadata": {},
   "outputs": [
    {
     "data": {
      "text/plain": [
       "0"
      ]
     },
     "execution_count": 39,
     "metadata": {},
     "output_type": "execute_result"
    }
   ],
   "source": [
    "medium_income = df['total_income'].median()\n",
    "df['total_income']= df['total_income'].fillna(medium_income)\n",
    "df['total_income'].isna().sum()"
   ]
  },
  {
   "cell_type": "markdown",
   "metadata": {},
   "source": [
    "В столбце пол возникла проблема -у нас есть люди с неопределенным (или неопределившимся полом), что значит XNA ???"
   ]
  },
  {
   "cell_type": "code",
   "execution_count": 40,
   "metadata": {},
   "outputs": [
    {
     "data": {
      "text/plain": [
       "F      14236\n",
       "M       7288\n",
       "XNA        1\n",
       "Name: gender, dtype: int64"
      ]
     },
     "execution_count": 40,
     "metadata": {},
     "output_type": "execute_result"
    }
   ],
   "source": [
    "df['gender'].value_counts()"
   ]
  },
  {
   "cell_type": "markdown",
   "metadata": {},
   "source": [
    "Попробуем оценить средний доход для людей каждого пола.\n",
    "Согласно записи РБК от 29 марта 2019 (сейчас не буду искать), по подсчетам Института экономики РАН, \n",
    "в среднем в России женщины получают сейчас на 27% меньше мужчин. В Москве разница намного\n",
    "меньше — всего 11%. Если разница в доходе в нашей таблице будет различаться, попробуем заменить \n",
    "наблюдение 'XNA'на тот пол , к среднему доходу которого значение будет ближе\n",
    "и еще доклад фбк: \n",
    "\n",
    "https://www.fbk.ru/upload/medialibrary/bce/Gendernyi%20razryv%20v%20oplate%20truda_doklad.pdf\n",
    "В последние годы в России отмечается сокращение гендерного разрыва в\n",
    "оплате труда работников в пользу мужчин: с 39,3% в 2005 году до 27,4% в\n",
    "2015 году. В странах Европейского союза наблюдается аналогичная\n",
    "тенденция, хотя и гораздо менее выраженная: гендерный разрыв сократился с\n",
    "17,7% в 2006 году до 16,4% в 2015 году."
   ]
  },
  {
   "cell_type": "code",
   "execution_count": 41,
   "metadata": {},
   "outputs": [
    {
     "data": {
      "text/plain": [
       "gender\n",
       "F      153151.047940\n",
       "M      188610.831861\n",
       "XNA    203905.157261\n",
       "Name: total_income, dtype: float64"
      ]
     },
     "execution_count": 41,
     "metadata": {},
     "output_type": "execute_result"
    }
   ],
   "source": [
    "df.groupby('gender')['total_income'].mean()"
   ]
  },
  {
   "cell_type": "markdown",
   "metadata": {},
   "source": [
    "как видим из средних значений, средний доход женщин порядка 154 тысячи, а мужчин 193 тысячи. Загадочные XNA имеют средний доход даже больше мужчин, 203 тысячи. поэтому заменим XNA на M"
   ]
  },
  {
   "cell_type": "code",
   "execution_count": 42,
   "metadata": {},
   "outputs": [
    {
     "data": {
      "text/plain": [
       "F    14236\n",
       "M     7289\n",
       "Name: gender, dtype: int64"
      ]
     },
     "execution_count": 42,
     "metadata": {},
     "output_type": "execute_result"
    }
   ],
   "source": [
    "df['gender']= df['gender'].replace('XNA','M')\n",
    "df['gender'].value_counts()"
   ]
  },
  {
   "cell_type": "markdown",
   "metadata": {},
   "source": [
    "в столбце тип занятости тоже все в порядке"
   ]
  },
  {
   "cell_type": "code",
   "execution_count": 43,
   "metadata": {},
   "outputs": [
    {
     "data": {
      "text/plain": [
       "array(['сотрудник', 'пенсионер', 'компаньон', 'госслужащий',\n",
       "       'безработный', 'предприниматель', 'студент', 'в декрете'],\n",
       "      dtype=object)"
      ]
     },
     "execution_count": 43,
     "metadata": {},
     "output_type": "execute_result"
    }
   ],
   "source": [
    "df['income_type'].unique()"
   ]
  },
  {
   "cell_type": "markdown",
   "metadata": {},
   "source": [
    "столбец имел ли задолженность логичен - либо имел, либо не имел"
   ]
  },
  {
   "cell_type": "code",
   "execution_count": 44,
   "metadata": {},
   "outputs": [
    {
     "data": {
      "text/plain": [
       "array([0, 1], dtype=int64)"
      ]
     },
     "execution_count": 44,
     "metadata": {},
     "output_type": "execute_result"
    }
   ],
   "source": [
    "df['debt'].unique()"
   ]
  },
  {
   "cell_type": "markdown",
   "metadata": {},
   "source": [
    "Причин кредитов много. Применим лемматизацию, классифицируем причины, выделим категории, и тогда все станет понятнее"
   ]
  },
  {
   "cell_type": "code",
   "execution_count": 45,
   "metadata": {},
   "outputs": [
    {
     "data": {
      "text/plain": [
       "array(['покупка жилья', 'приобретение автомобиля',\n",
       "       'дополнительное образование', 'сыграть свадьбу',\n",
       "       'операции с жильем', 'образование', 'на проведение свадьбы',\n",
       "       'покупка жилья для семьи', 'покупка недвижимости',\n",
       "       'покупка коммерческой недвижимости', 'покупка жилой недвижимости',\n",
       "       'строительство собственной недвижимости', 'недвижимость',\n",
       "       'строительство недвижимости', 'на покупку подержанного автомобиля',\n",
       "       'на покупку своего автомобиля',\n",
       "       'операции с коммерческой недвижимостью',\n",
       "       'строительство жилой недвижимости', 'жилье',\n",
       "       'операции со своей недвижимостью', 'автомобили',\n",
       "       'заняться образованием', 'сделка с подержанным автомобилем',\n",
       "       'получение образования', 'автомобиль', 'свадьба',\n",
       "       'получение дополнительного образования', 'покупка своего жилья',\n",
       "       'операции с недвижимостью', 'получение высшего образования',\n",
       "       'свой автомобиль', 'сделка с автомобилем',\n",
       "       'профильное образование', 'высшее образование',\n",
       "       'покупка жилья для сдачи', 'на покупку автомобиля', 'ремонт жилью',\n",
       "       'заняться высшим образованием'], dtype=object)"
      ]
     },
     "execution_count": 45,
     "metadata": {},
     "output_type": "execute_result"
    }
   ],
   "source": [
    "df['purpose'].unique()"
   ]
  },
  {
   "cell_type": "code",
   "execution_count": 46,
   "metadata": {},
   "outputs": [
    {
     "name": "stdout",
     "output_type": "stream",
     "text": [
      "['покупка', ' ', 'жилье', '\\n', 'приобретение', 'автомобиль', 'дополнительный', 'образование', 'сыграть', 'свадьба', 'операция', 'с', 'на', 'проведение', 'для', 'семья', 'недвижимость', 'коммерческий', 'жилой', 'строительство', 'собственный', 'подержать', 'свой', 'со', 'заниматься', 'сделка', 'подержанный', 'получение', 'высокий', 'профильный', 'сдача', 'ремонт']\n"
     ]
    }
   ],
   "source": [
    "df_purpose_unique = list(df['purpose'].unique())\n",
    "m = Mystem()\n",
    "lemmas_list=[]\n",
    "for row in df_purpose_unique:\n",
    "    lemmas = m.lemmatize(row)\n",
    "    for item in lemmas:\n",
    "        if item not in lemmas_list:\n",
    "            lemmas_list.append(item)\n",
    "print(lemmas_list)"
   ]
  },
  {
   "cell_type": "markdown",
   "metadata": {},
   "source": [
    "немножко почистим наш получившийся список. Потом подумала, и решила строительство тоже убрать из уникальных категорий, (строительство отнесла к недвижимости)"
   ]
  },
  {
   "cell_type": "code",
   "execution_count": 47,
   "metadata": {},
   "outputs": [
    {
     "name": "stdout",
     "output_type": "stream",
     "text": [
      "['автомобиль', 'образование', 'свадьба', 'недвижимость', 'строительство', 'ремонт']\n"
     ]
    }
   ],
   "source": [
    "unnecessary_values = ['покупка', ' ', '\\n', 'приобретение', 'дополнительный', 'жилье',\n",
    "                     'сыграть', 'операция', 'с', 'на', 'проведение', 'для', 'семья',\n",
    "                     'коммерческий', 'жилой', 'собственный', 'подержать', 'свой', 'со',\n",
    "                      'заниматься', 'сделка', 'подержанный', 'получение', 'высокий', 'профильный', 'сдача']\n",
    "for value in unnecessary_values:\n",
    "    lemmas_list.remove(value)\n",
    "\n",
    "print(lemmas_list)"
   ]
  },
  {
   "cell_type": "code",
   "execution_count": 48,
   "metadata": {},
   "outputs": [],
   "source": [
    "def purpose_group(purpose): \n",
    "    '''Функция ищет по ключевому слову в фразе с целью совпадения и присваивает строке в таблице категорию '''\n",
    "    purpose_words = purpose.split()\n",
    "    for word in purpose_words:\n",
    "        if 'автомобил' in word:\n",
    "            return 'автомобиль'\n",
    "        if 'образован' in word:\n",
    "            return 'образование'\n",
    "        if 'свадьб' in word:\n",
    "            return 'свадьба'\n",
    "        if ('недвижимост' in word) or ('жил' in word):\n",
    "            return 'недвижимость'\n",
    "        if 'ремонт' in word:\n",
    "            return 'ремонт'"
   ]
  },
  {
   "cell_type": "code",
   "execution_count": 49,
   "metadata": {},
   "outputs": [
    {
     "data": {
      "text/html": [
       "<div>\n",
       "<style scoped>\n",
       "    .dataframe tbody tr th:only-of-type {\n",
       "        vertical-align: middle;\n",
       "    }\n",
       "\n",
       "    .dataframe tbody tr th {\n",
       "        vertical-align: top;\n",
       "    }\n",
       "\n",
       "    .dataframe thead th {\n",
       "        text-align: right;\n",
       "    }\n",
       "</style>\n",
       "<table border=\"1\" class=\"dataframe\">\n",
       "  <thead>\n",
       "    <tr style=\"text-align: right;\">\n",
       "      <th></th>\n",
       "      <th>children</th>\n",
       "      <th>days_employed</th>\n",
       "      <th>dob_years</th>\n",
       "      <th>education</th>\n",
       "      <th>education_id</th>\n",
       "      <th>family_status</th>\n",
       "      <th>family_status_id</th>\n",
       "      <th>gender</th>\n",
       "      <th>income_type</th>\n",
       "      <th>debt</th>\n",
       "      <th>total_income</th>\n",
       "      <th>purpose</th>\n",
       "      <th>purpose_new</th>\n",
       "    </tr>\n",
       "  </thead>\n",
       "  <tbody>\n",
       "    <tr>\n",
       "      <th>0</th>\n",
       "      <td>1</td>\n",
       "      <td>8437</td>\n",
       "      <td>42</td>\n",
       "      <td>высшее</td>\n",
       "      <td>3</td>\n",
       "      <td>женат / замужем</td>\n",
       "      <td>0</td>\n",
       "      <td>F</td>\n",
       "      <td>сотрудник</td>\n",
       "      <td>0</td>\n",
       "      <td>253875.639453</td>\n",
       "      <td>покупка жилья</td>\n",
       "      <td>недвижимость</td>\n",
       "    </tr>\n",
       "    <tr>\n",
       "      <th>1</th>\n",
       "      <td>1</td>\n",
       "      <td>4024</td>\n",
       "      <td>36</td>\n",
       "      <td>среднее</td>\n",
       "      <td>1</td>\n",
       "      <td>женат / замужем</td>\n",
       "      <td>0</td>\n",
       "      <td>F</td>\n",
       "      <td>сотрудник</td>\n",
       "      <td>0</td>\n",
       "      <td>112080.014102</td>\n",
       "      <td>приобретение автомобиля</td>\n",
       "      <td>автомобиль</td>\n",
       "    </tr>\n",
       "    <tr>\n",
       "      <th>2</th>\n",
       "      <td>0</td>\n",
       "      <td>5623</td>\n",
       "      <td>33</td>\n",
       "      <td>среднее</td>\n",
       "      <td>1</td>\n",
       "      <td>женат / замужем</td>\n",
       "      <td>0</td>\n",
       "      <td>M</td>\n",
       "      <td>сотрудник</td>\n",
       "      <td>0</td>\n",
       "      <td>145885.952297</td>\n",
       "      <td>покупка жилья</td>\n",
       "      <td>недвижимость</td>\n",
       "    </tr>\n",
       "    <tr>\n",
       "      <th>3</th>\n",
       "      <td>3</td>\n",
       "      <td>4124</td>\n",
       "      <td>32</td>\n",
       "      <td>среднее</td>\n",
       "      <td>1</td>\n",
       "      <td>женат / замужем</td>\n",
       "      <td>0</td>\n",
       "      <td>M</td>\n",
       "      <td>сотрудник</td>\n",
       "      <td>0</td>\n",
       "      <td>267628.550329</td>\n",
       "      <td>дополнительное образование</td>\n",
       "      <td>образование</td>\n",
       "    </tr>\n",
       "    <tr>\n",
       "      <th>4</th>\n",
       "      <td>0</td>\n",
       "      <td>340266</td>\n",
       "      <td>53</td>\n",
       "      <td>среднее</td>\n",
       "      <td>1</td>\n",
       "      <td>гражданский брак</td>\n",
       "      <td>1</td>\n",
       "      <td>F</td>\n",
       "      <td>пенсионер</td>\n",
       "      <td>0</td>\n",
       "      <td>158616.077870</td>\n",
       "      <td>сыграть свадьбу</td>\n",
       "      <td>свадьба</td>\n",
       "    </tr>\n",
       "  </tbody>\n",
       "</table>\n",
       "</div>"
      ],
      "text/plain": [
       "   children  days_employed  dob_years education  education_id  \\\n",
       "0         1           8437         42    высшее             3   \n",
       "1         1           4024         36   среднее             1   \n",
       "2         0           5623         33   среднее             1   \n",
       "3         3           4124         32   среднее             1   \n",
       "4         0         340266         53   среднее             1   \n",
       "\n",
       "      family_status  family_status_id gender income_type  debt   total_income  \\\n",
       "0   женат / замужем                 0      F   сотрудник     0  253875.639453   \n",
       "1   женат / замужем                 0      F   сотрудник     0  112080.014102   \n",
       "2   женат / замужем                 0      M   сотрудник     0  145885.952297   \n",
       "3   женат / замужем                 0      M   сотрудник     0  267628.550329   \n",
       "4  гражданский брак                 1      F   пенсионер     0  158616.077870   \n",
       "\n",
       "                      purpose   purpose_new  \n",
       "0               покупка жилья  недвижимость  \n",
       "1     приобретение автомобиля    автомобиль  \n",
       "2               покупка жилья  недвижимость  \n",
       "3  дополнительное образование   образование  \n",
       "4             сыграть свадьбу       свадьба  "
      ]
     },
     "execution_count": 49,
     "metadata": {},
     "output_type": "execute_result"
    }
   ],
   "source": [
    "df['purpose_new'] = df['purpose'].apply(purpose_group) \n",
    "df.head(5)"
   ]
  },
  {
   "cell_type": "markdown",
   "metadata": {},
   "source": [
    "проверим, заполнился ли новый столбец полностью, нет ли там пропусков (пропусков нет)"
   ]
  },
  {
   "cell_type": "code",
   "execution_count": 50,
   "metadata": {},
   "outputs": [
    {
     "data": {
      "text/plain": [
       "0"
      ]
     },
     "execution_count": 50,
     "metadata": {},
     "output_type": "execute_result"
    }
   ],
   "source": [
    "df['purpose_new'].isna().sum()"
   ]
  },
  {
   "cell_type": "markdown",
   "metadata": {},
   "source": [
    "удалю старый столбец с целями"
   ]
  },
  {
   "cell_type": "code",
   "execution_count": 51,
   "metadata": {},
   "outputs": [
    {
     "data": {
      "text/html": [
       "<div>\n",
       "<style scoped>\n",
       "    .dataframe tbody tr th:only-of-type {\n",
       "        vertical-align: middle;\n",
       "    }\n",
       "\n",
       "    .dataframe tbody tr th {\n",
       "        vertical-align: top;\n",
       "    }\n",
       "\n",
       "    .dataframe thead th {\n",
       "        text-align: right;\n",
       "    }\n",
       "</style>\n",
       "<table border=\"1\" class=\"dataframe\">\n",
       "  <thead>\n",
       "    <tr style=\"text-align: right;\">\n",
       "      <th></th>\n",
       "      <th>children</th>\n",
       "      <th>days_employed</th>\n",
       "      <th>dob_years</th>\n",
       "      <th>education</th>\n",
       "      <th>education_id</th>\n",
       "      <th>family_status</th>\n",
       "      <th>family_status_id</th>\n",
       "      <th>gender</th>\n",
       "      <th>income_type</th>\n",
       "      <th>debt</th>\n",
       "      <th>total_income</th>\n",
       "      <th>purpose_new</th>\n",
       "    </tr>\n",
       "  </thead>\n",
       "  <tbody>\n",
       "    <tr>\n",
       "      <th>0</th>\n",
       "      <td>1</td>\n",
       "      <td>8437</td>\n",
       "      <td>42</td>\n",
       "      <td>высшее</td>\n",
       "      <td>3</td>\n",
       "      <td>женат / замужем</td>\n",
       "      <td>0</td>\n",
       "      <td>F</td>\n",
       "      <td>сотрудник</td>\n",
       "      <td>0</td>\n",
       "      <td>253875.639453</td>\n",
       "      <td>недвижимость</td>\n",
       "    </tr>\n",
       "    <tr>\n",
       "      <th>1</th>\n",
       "      <td>1</td>\n",
       "      <td>4024</td>\n",
       "      <td>36</td>\n",
       "      <td>среднее</td>\n",
       "      <td>1</td>\n",
       "      <td>женат / замужем</td>\n",
       "      <td>0</td>\n",
       "      <td>F</td>\n",
       "      <td>сотрудник</td>\n",
       "      <td>0</td>\n",
       "      <td>112080.014102</td>\n",
       "      <td>автомобиль</td>\n",
       "    </tr>\n",
       "    <tr>\n",
       "      <th>2</th>\n",
       "      <td>0</td>\n",
       "      <td>5623</td>\n",
       "      <td>33</td>\n",
       "      <td>среднее</td>\n",
       "      <td>1</td>\n",
       "      <td>женат / замужем</td>\n",
       "      <td>0</td>\n",
       "      <td>M</td>\n",
       "      <td>сотрудник</td>\n",
       "      <td>0</td>\n",
       "      <td>145885.952297</td>\n",
       "      <td>недвижимость</td>\n",
       "    </tr>\n",
       "    <tr>\n",
       "      <th>3</th>\n",
       "      <td>3</td>\n",
       "      <td>4124</td>\n",
       "      <td>32</td>\n",
       "      <td>среднее</td>\n",
       "      <td>1</td>\n",
       "      <td>женат / замужем</td>\n",
       "      <td>0</td>\n",
       "      <td>M</td>\n",
       "      <td>сотрудник</td>\n",
       "      <td>0</td>\n",
       "      <td>267628.550329</td>\n",
       "      <td>образование</td>\n",
       "    </tr>\n",
       "    <tr>\n",
       "      <th>4</th>\n",
       "      <td>0</td>\n",
       "      <td>340266</td>\n",
       "      <td>53</td>\n",
       "      <td>среднее</td>\n",
       "      <td>1</td>\n",
       "      <td>гражданский брак</td>\n",
       "      <td>1</td>\n",
       "      <td>F</td>\n",
       "      <td>пенсионер</td>\n",
       "      <td>0</td>\n",
       "      <td>158616.077870</td>\n",
       "      <td>свадьба</td>\n",
       "    </tr>\n",
       "  </tbody>\n",
       "</table>\n",
       "</div>"
      ],
      "text/plain": [
       "   children  days_employed  dob_years education  education_id  \\\n",
       "0         1           8437         42    высшее             3   \n",
       "1         1           4024         36   среднее             1   \n",
       "2         0           5623         33   среднее             1   \n",
       "3         3           4124         32   среднее             1   \n",
       "4         0         340266         53   среднее             1   \n",
       "\n",
       "      family_status  family_status_id gender income_type  debt   total_income  \\\n",
       "0   женат / замужем                 0      F   сотрудник     0  253875.639453   \n",
       "1   женат / замужем                 0      F   сотрудник     0  112080.014102   \n",
       "2   женат / замужем                 0      M   сотрудник     0  145885.952297   \n",
       "3   женат / замужем                 0      M   сотрудник     0  267628.550329   \n",
       "4  гражданский брак                 1      F   пенсионер     0  158616.077870   \n",
       "\n",
       "    purpose_new  \n",
       "0  недвижимость  \n",
       "1    автомобиль  \n",
       "2  недвижимость  \n",
       "3   образование  \n",
       "4       свадьба  "
      ]
     },
     "execution_count": 51,
     "metadata": {},
     "output_type": "execute_result"
    }
   ],
   "source": [
    "df.drop('purpose', axis=1, inplace=True)\n",
    "df.head(5)"
   ]
  },
  {
   "cell_type": "markdown",
   "metadata": {},
   "source": [
    "Вот теперь посмотрим дубликаты в таблице. Так как метод .duplicated() ищет именно полные дубликаты строчки, вполне можем их удалить. 389 дубликатов это 1,8% от первоначального объема таблицы."
   ]
  },
  {
   "cell_type": "code",
   "execution_count": 52,
   "metadata": {},
   "outputs": [
    {
     "data": {
      "text/plain": [
       "2174"
      ]
     },
     "execution_count": 52,
     "metadata": {},
     "output_type": "execute_result"
    }
   ],
   "source": [
    "len(df) - len(df['total_income'].unique())"
   ]
  },
  {
   "cell_type": "markdown",
   "metadata": {},
   "source": [
    "Какова вероятность полного совпадения значения дохода в столбце total_income? В силу большой вариативности этого столбца, и если посмотреть, отнять от общей длины датафрейма длину массива из уникальных значений total_income, то мы получим как раз количество пропусков в столбце total_income, а значит все суммы были уникальными. И в некотором смысле, идентифицируют строки уникально (хотя я не могу сказать, что это хорошо - идентифицировать строки по числовому параметру)"
   ]
  },
  {
   "cell_type": "code",
   "execution_count": 53,
   "metadata": {},
   "outputs": [
    {
     "data": {
      "text/plain": [
       "386"
      ]
     },
     "execution_count": 53,
     "metadata": {},
     "output_type": "execute_result"
    }
   ],
   "source": [
    "df.duplicated().sum()"
   ]
  },
  {
   "cell_type": "markdown",
   "metadata": {},
   "source": [
    "еще раз проверяем, остались ли дубликаты - нет. Удаляем с обновлением индекса строк в таблице."
   ]
  },
  {
   "cell_type": "code",
   "execution_count": 54,
   "metadata": {},
   "outputs": [
    {
     "data": {
      "text/plain": [
       "0"
      ]
     },
     "execution_count": 54,
     "metadata": {},
     "output_type": "execute_result"
    }
   ],
   "source": [
    "df = df.drop_duplicates().reset_index(drop = True)\n",
    "df.duplicated().sum()"
   ]
  },
  {
   "cell_type": "markdown",
   "metadata": {},
   "source": [
    "Какие могут быть причины появления дубликатов? Например, повторные заявки клиентов на кредит. Когда они писали тоже самое, но другими словами в текстовой причине кредита. \n",
    "И еще раз взглянем на свойства таблицы - теперь все хорошо."
   ]
  },
  {
   "cell_type": "code",
   "execution_count": 55,
   "metadata": {},
   "outputs": [
    {
     "name": "stdout",
     "output_type": "stream",
     "text": [
      "<class 'pandas.core.frame.DataFrame'>\n",
      "RangeIndex: 21139 entries, 0 to 21138\n",
      "Data columns (total 12 columns):\n",
      " #   Column            Non-Null Count  Dtype  \n",
      "---  ------            --------------  -----  \n",
      " 0   children          21139 non-null  int64  \n",
      " 1   days_employed     21139 non-null  int32  \n",
      " 2   dob_years         21139 non-null  int64  \n",
      " 3   education         21139 non-null  object \n",
      " 4   education_id      21139 non-null  int64  \n",
      " 5   family_status     21139 non-null  object \n",
      " 6   family_status_id  21139 non-null  int64  \n",
      " 7   gender            21139 non-null  object \n",
      " 8   income_type       21139 non-null  object \n",
      " 9   debt              21139 non-null  int64  \n",
      " 10  total_income      21139 non-null  float64\n",
      " 11  purpose_new       21139 non-null  object \n",
      "dtypes: float64(1), int32(1), int64(5), object(5)\n",
      "memory usage: 1.9+ MB\n"
     ]
    }
   ],
   "source": [
    "df.info()"
   ]
  },
  {
   "cell_type": "markdown",
   "metadata": {},
   "source": [
    "##  Ответы на вопросы"
   ]
  },
  {
   "cell_type": "markdown",
   "metadata": {},
   "source": [
    "### Есть ли зависимость между наличием детей и возвратом кредита в срок?"
   ]
  },
  {
   "cell_type": "markdown",
   "metadata": {},
   "source": [
    "Для начала посмотрим, что 0 - не имел задолженности (19397 наблюдений), 1 - имел задолженность (1739 наблюдений)"
   ]
  },
  {
   "cell_type": "code",
   "execution_count": 56,
   "metadata": {},
   "outputs": [
    {
     "data": {
      "text/plain": [
       "0    19400\n",
       "1     1739\n",
       "Name: debt, dtype: int64"
      ]
     },
     "execution_count": 56,
     "metadata": {},
     "output_type": "execute_result"
    }
   ],
   "source": [
    "df['debt'].value_counts()"
   ]
  },
  {
   "cell_type": "markdown",
   "metadata": {},
   "source": [
    "Я использовала свои наработки из другого проекта. В целом, пока решала данную задачу, общее число заявок сделала и обычной группировкой. Но никак не могла разобраться, как посчитать доли заявок (что на мой взгляд информативнее, чем абсолютные значения)"
   ]
  },
  {
   "cell_type": "code",
   "execution_count": 57,
   "metadata": {},
   "outputs": [],
   "source": [
    "def number_children(children, debt): \n",
    "    '''функция, которая сначала создает отфильтрованный\n",
    "    по параметрам children (количество детей), debt (были ли просрочки) DataFrame, \n",
    "    а потом подсчитывает количество строк, удовлетворяющих фильтру '''    \n",
    "    children_list = df[df['children'] == children]  \n",
    "    children_list = children_list[children_list['debt'] == debt] \n",
    "    children_list_count = children_list['children'].count()  \n",
    "    return children_list_count"
   ]
  },
  {
   "cell_type": "markdown",
   "metadata": {},
   "source": [
    "сделаем сводную таблицу, рассчитывающую доли заявок с просрочкой в зависимости от количества детей"
   ]
  },
  {
   "cell_type": "code",
   "execution_count": 58,
   "metadata": {},
   "outputs": [
    {
     "data": {
      "text/html": [
       "<div>\n",
       "<style scoped>\n",
       "    .dataframe tbody tr th:only-of-type {\n",
       "        vertical-align: middle;\n",
       "    }\n",
       "\n",
       "    .dataframe tbody tr th {\n",
       "        vertical-align: top;\n",
       "    }\n",
       "\n",
       "    .dataframe thead th {\n",
       "        text-align: right;\n",
       "    }\n",
       "</style>\n",
       "<table border=\"1\" class=\"dataframe\">\n",
       "  <thead>\n",
       "    <tr style=\"text-align: right;\">\n",
       "      <th></th>\n",
       "      <th>child_count</th>\n",
       "      <th>0</th>\n",
       "      <th>1</th>\n",
       "      <th>2</th>\n",
       "      <th>&gt;2</th>\n",
       "    </tr>\n",
       "  </thead>\n",
       "  <tbody>\n",
       "    <tr>\n",
       "      <th>нет просрочки</th>\n",
       "      <td>0</td>\n",
       "      <td>92.337988</td>\n",
       "      <td>90.666386</td>\n",
       "      <td>90.485532</td>\n",
       "      <td>91.798942</td>\n",
       "    </tr>\n",
       "    <tr>\n",
       "      <th>есть просрочка</th>\n",
       "      <td>1</td>\n",
       "      <td>7.662012</td>\n",
       "      <td>9.333614</td>\n",
       "      <td>9.514468</td>\n",
       "      <td>8.201058</td>\n",
       "    </tr>\n",
       "  </tbody>\n",
       "</table>\n",
       "</div>"
      ],
      "text/plain": [
       "                child_count          0          1          2         >2\n",
       "нет просрочки             0  92.337988  90.666386  90.485532  91.798942\n",
       "есть просрочка            1   7.662012   9.333614   9.514468   8.201058"
      ]
     },
     "execution_count": 58,
     "metadata": {},
     "output_type": "execute_result"
    }
   ],
   "source": [
    "name_columns = ['child_count','0', '1', '2', '3', '4', '5']\n",
    "request_counts = []\n",
    "for item_debt in [0, 1]:\n",
    "    row = []\n",
    "    row.append(item_debt)\n",
    "    for item_child in [0, 1, 2, 3, 4, 5]:\n",
    "        row.append(number_children(item_child, item_debt))\n",
    "    request_counts.append(row)\n",
    "request_child = pd.DataFrame(data = request_counts ,columns = name_columns, index = ['нет просрочки', 'есть просрочка'])\n",
    "request_child['>2'] = request_child['3'] + request_child['4'] + request_child['5']\n",
    "request_child.drop(['3','4','5'], axis=1, inplace=True)\n",
    "for item in ['0','1','2','>2']:\n",
    "    request_child[item] = request_child[item] / request_child[item].sum()*100\n",
    "\n",
    "request_child"
   ]
  },
  {
   "cell_type": "markdown",
   "metadata": {},
   "source": [
    "Нас интересует в первую очередь вторая строка, и в целом можно утверждать, что с увеличением детей доля просроченных кредитов будет увеличиваться. Данных по просрочке с  5 детьми нет в таблице.\n",
    "Самая большая доля просрочек возникает в случае 4 детей. Самая низкая частота просрочек в случае 0 детей."
   ]
  },
  {
   "cell_type": "code",
   "execution_count": 59,
   "metadata": {},
   "outputs": [
    {
     "data": {
      "text/plain": [
       "0    13965\n",
       "1     4757\n",
       "2     2039\n",
       "3      329\n",
       "4       40\n",
       "5        9\n",
       "Name: children, dtype: int64"
      ]
     },
     "execution_count": 59,
     "metadata": {},
     "output_type": "execute_result"
    }
   ],
   "source": [
    "df['children'].value_counts()"
   ]
  },
  {
   "cell_type": "markdown",
   "metadata": {},
   "source": [
    "### Есть ли зависимость между семейным положением и возвратом кредита в срок?"
   ]
  },
  {
   "cell_type": "code",
   "execution_count": 60,
   "metadata": {},
   "outputs": [
    {
     "data": {
      "text/plain": [
       "женат / замужем          12093\n",
       "гражданский брак          4124\n",
       "Не женат / не замужем     2785\n",
       "в разводе                 1193\n",
       "вдовец / вдова             944\n",
       "Name: family_status, dtype: int64"
      ]
     },
     "execution_count": 60,
     "metadata": {},
     "output_type": "execute_result"
    }
   ],
   "source": [
    "df['family_status'].value_counts()"
   ]
  },
  {
   "cell_type": "code",
   "execution_count": 61,
   "metadata": {},
   "outputs": [],
   "source": [
    "def number_family(status, debt): \n",
    "    '''функция, которая сначала создает отфильтрованный\n",
    "    по параметрe status (семейное положение), debt (были ли просрочки) DataFrame, \n",
    "    а потом подсчитывает количество строк, удовлетворяющих фильтру '''    \n",
    "    family_list = df[df['family_status'] == status]  \n",
    "    family_list = family_list[family_list['debt'] == debt] \n",
    "    family_list_count = family_list['family_status'].count()  \n",
    "    return family_list_count"
   ]
  },
  {
   "cell_type": "code",
   "execution_count": 62,
   "metadata": {},
   "outputs": [
    {
     "data": {
      "text/html": [
       "<div>\n",
       "<style scoped>\n",
       "    .dataframe tbody tr th:only-of-type {\n",
       "        vertical-align: middle;\n",
       "    }\n",
       "\n",
       "    .dataframe tbody tr th {\n",
       "        vertical-align: top;\n",
       "    }\n",
       "\n",
       "    .dataframe thead th {\n",
       "        text-align: right;\n",
       "    }\n",
       "</style>\n",
       "<table border=\"1\" class=\"dataframe\">\n",
       "  <thead>\n",
       "    <tr style=\"text-align: right;\">\n",
       "      <th></th>\n",
       "      <th>family_count</th>\n",
       "      <th>женат / замужем</th>\n",
       "      <th>гражданский брак</th>\n",
       "      <th>Не женат / не замужем</th>\n",
       "      <th>в разводе</th>\n",
       "      <th>вдовец / вдова</th>\n",
       "    </tr>\n",
       "  </thead>\n",
       "  <tbody>\n",
       "    <tr>\n",
       "      <th>нет просрочки</th>\n",
       "      <td>0</td>\n",
       "      <td>92.31787</td>\n",
       "      <td>90.591659</td>\n",
       "      <td>90.16158</td>\n",
       "      <td>92.875105</td>\n",
       "      <td>93.326271</td>\n",
       "    </tr>\n",
       "    <tr>\n",
       "      <th>есть просрочка</th>\n",
       "      <td>1</td>\n",
       "      <td>7.68213</td>\n",
       "      <td>9.408341</td>\n",
       "      <td>9.83842</td>\n",
       "      <td>7.124895</td>\n",
       "      <td>6.673729</td>\n",
       "    </tr>\n",
       "  </tbody>\n",
       "</table>\n",
       "</div>"
      ],
      "text/plain": [
       "                family_count  женат / замужем  гражданский брак  \\\n",
       "нет просрочки              0         92.31787         90.591659   \n",
       "есть просрочка             1          7.68213          9.408341   \n",
       "\n",
       "                Не женат / не замужем  в разводе  вдовец / вдова  \n",
       "нет просрочки                90.16158  92.875105       93.326271  \n",
       "есть просрочка                9.83842   7.124895        6.673729  "
      ]
     },
     "execution_count": 62,
     "metadata": {},
     "output_type": "execute_result"
    }
   ],
   "source": [
    "name_columns = ['family_count','женат / замужем', 'гражданский брак', 'Не женат / не замужем', 'в разводе', 'вдовец / вдова']\n",
    "request_counts = []\n",
    "for item_debt in [0, 1]:\n",
    "    row = []\n",
    "    row.append(item_debt)\n",
    "    for item_family in ['женат / замужем', 'гражданский брак', 'Не женат / не замужем', 'в разводе', 'вдовец / вдова']:\n",
    "        row.append(number_family(item_family, item_debt))\n",
    "    request_counts.append(row)\n",
    "request_family = pd.DataFrame(data = request_counts ,columns = name_columns, index = ['нет просрочки', 'есть просрочка'])\n",
    "for item in ['женат / замужем', 'гражданский брак', 'Не женат / не замужем', 'в разводе', 'вдовец / вдова']:\n",
    "    request_family[item] = request_family[item] / request_family[item].sum()*100\n",
    "request_family"
   ]
  },
  {
   "cell_type": "markdown",
   "metadata": {},
   "source": [
    "Самая большая доля просрочек по кредитам возникает в случае неженатых/незамужних клиентов. Самая низкая доля просрочки в случае семейного положения вдовец / вдова. В целом можно сказать, что семейный статус влияет на частоту возникновения просрочек по кредитам."
   ]
  },
  {
   "cell_type": "markdown",
   "metadata": {},
   "source": [
    "### Есть ли зависимость между уровнем дохода и возвратом кредита в срок?"
   ]
  },
  {
   "cell_type": "markdown",
   "metadata": {},
   "source": [
    "выделить категории доходов, сделать доп столбец, написать функцию см практикум"
   ]
  },
  {
   "cell_type": "code",
   "execution_count": 63,
   "metadata": {},
   "outputs": [
    {
     "data": {
      "text/plain": [
       "min       2.066726e+04\n",
       "max       2.265604e+06\n",
       "mean      1.655273e+05\n",
       "median    1.450179e+05\n",
       "Name: total_income, dtype: float64"
      ]
     },
     "execution_count": 63,
     "metadata": {},
     "output_type": "execute_result"
    }
   ],
   "source": [
    "df['total_income'].agg(['min', 'max','mean', 'median'])"
   ]
  },
  {
   "cell_type": "markdown",
   "metadata": {},
   "source": [
    "Для решения задач сделаем новую категориальную переменную, разобьем диапазон значений доходов на 5 равных интервалов, напишем функцию"
   ]
  },
  {
   "cell_type": "code",
   "execution_count": 64,
   "metadata": {},
   "outputs": [],
   "source": [
    "def income_rank(amount):\n",
    "    ''' функция присваивает категорию от очень низкого до очень высокого сумме дохода, весь диапазон разбит на 5 категорий'''\n",
    "    d = (df['total_income'].max() - df['total_income'].min() ) / 5\n",
    "    if (amount >= df['total_income'].min()) and (amount < df['total_income'].min() + d):\n",
    "        return 'очень низкий'\n",
    "    if (amount >= df['total_income'].min() + d) and (amount < df['total_income'].min() + 2*d):\n",
    "        return 'низкий'\n",
    "    if (amount >= df['total_income'].min()+2*d) and (amount < df['total_income'].min() + 3*d):\n",
    "        return 'средний'\n",
    "    if (amount >= df['total_income'].min() + 3*d) and (amount < df['total_income'].min() + 4*d):\n",
    "        return 'высокий'\n",
    "    if (amount >= df['total_income'].min() + 4*d) and (amount < df['total_income'].min() + 5*d):\n",
    "        return 'очень высокий'"
   ]
  },
  {
   "cell_type": "code",
   "execution_count": 65,
   "metadata": {},
   "outputs": [
    {
     "data": {
      "text/html": [
       "<div>\n",
       "<style scoped>\n",
       "    .dataframe tbody tr th:only-of-type {\n",
       "        vertical-align: middle;\n",
       "    }\n",
       "\n",
       "    .dataframe tbody tr th {\n",
       "        vertical-align: top;\n",
       "    }\n",
       "\n",
       "    .dataframe thead th {\n",
       "        text-align: right;\n",
       "    }\n",
       "</style>\n",
       "<table border=\"1\" class=\"dataframe\">\n",
       "  <thead>\n",
       "    <tr style=\"text-align: right;\">\n",
       "      <th></th>\n",
       "      <th>children</th>\n",
       "      <th>days_employed</th>\n",
       "      <th>dob_years</th>\n",
       "      <th>education</th>\n",
       "      <th>education_id</th>\n",
       "      <th>family_status</th>\n",
       "      <th>family_status_id</th>\n",
       "      <th>gender</th>\n",
       "      <th>income_type</th>\n",
       "      <th>debt</th>\n",
       "      <th>total_income</th>\n",
       "      <th>purpose_new</th>\n",
       "      <th>income_status</th>\n",
       "    </tr>\n",
       "  </thead>\n",
       "  <tbody>\n",
       "    <tr>\n",
       "      <th>0</th>\n",
       "      <td>1</td>\n",
       "      <td>8437</td>\n",
       "      <td>42</td>\n",
       "      <td>высшее</td>\n",
       "      <td>3</td>\n",
       "      <td>женат / замужем</td>\n",
       "      <td>0</td>\n",
       "      <td>F</td>\n",
       "      <td>сотрудник</td>\n",
       "      <td>0</td>\n",
       "      <td>253875.639453</td>\n",
       "      <td>недвижимость</td>\n",
       "      <td>очень низкий</td>\n",
       "    </tr>\n",
       "    <tr>\n",
       "      <th>1</th>\n",
       "      <td>1</td>\n",
       "      <td>4024</td>\n",
       "      <td>36</td>\n",
       "      <td>среднее</td>\n",
       "      <td>1</td>\n",
       "      <td>женат / замужем</td>\n",
       "      <td>0</td>\n",
       "      <td>F</td>\n",
       "      <td>сотрудник</td>\n",
       "      <td>0</td>\n",
       "      <td>112080.014102</td>\n",
       "      <td>автомобиль</td>\n",
       "      <td>очень низкий</td>\n",
       "    </tr>\n",
       "    <tr>\n",
       "      <th>2</th>\n",
       "      <td>0</td>\n",
       "      <td>5623</td>\n",
       "      <td>33</td>\n",
       "      <td>среднее</td>\n",
       "      <td>1</td>\n",
       "      <td>женат / замужем</td>\n",
       "      <td>0</td>\n",
       "      <td>M</td>\n",
       "      <td>сотрудник</td>\n",
       "      <td>0</td>\n",
       "      <td>145885.952297</td>\n",
       "      <td>недвижимость</td>\n",
       "      <td>очень низкий</td>\n",
       "    </tr>\n",
       "    <tr>\n",
       "      <th>3</th>\n",
       "      <td>3</td>\n",
       "      <td>4124</td>\n",
       "      <td>32</td>\n",
       "      <td>среднее</td>\n",
       "      <td>1</td>\n",
       "      <td>женат / замужем</td>\n",
       "      <td>0</td>\n",
       "      <td>M</td>\n",
       "      <td>сотрудник</td>\n",
       "      <td>0</td>\n",
       "      <td>267628.550329</td>\n",
       "      <td>образование</td>\n",
       "      <td>очень низкий</td>\n",
       "    </tr>\n",
       "    <tr>\n",
       "      <th>4</th>\n",
       "      <td>0</td>\n",
       "      <td>340266</td>\n",
       "      <td>53</td>\n",
       "      <td>среднее</td>\n",
       "      <td>1</td>\n",
       "      <td>гражданский брак</td>\n",
       "      <td>1</td>\n",
       "      <td>F</td>\n",
       "      <td>пенсионер</td>\n",
       "      <td>0</td>\n",
       "      <td>158616.077870</td>\n",
       "      <td>свадьба</td>\n",
       "      <td>очень низкий</td>\n",
       "    </tr>\n",
       "  </tbody>\n",
       "</table>\n",
       "</div>"
      ],
      "text/plain": [
       "   children  days_employed  dob_years education  education_id  \\\n",
       "0         1           8437         42    высшее             3   \n",
       "1         1           4024         36   среднее             1   \n",
       "2         0           5623         33   среднее             1   \n",
       "3         3           4124         32   среднее             1   \n",
       "4         0         340266         53   среднее             1   \n",
       "\n",
       "      family_status  family_status_id gender income_type  debt   total_income  \\\n",
       "0   женат / замужем                 0      F   сотрудник     0  253875.639453   \n",
       "1   женат / замужем                 0      F   сотрудник     0  112080.014102   \n",
       "2   женат / замужем                 0      M   сотрудник     0  145885.952297   \n",
       "3   женат / замужем                 0      M   сотрудник     0  267628.550329   \n",
       "4  гражданский брак                 1      F   пенсионер     0  158616.077870   \n",
       "\n",
       "    purpose_new income_status  \n",
       "0  недвижимость  очень низкий  \n",
       "1    автомобиль  очень низкий  \n",
       "2  недвижимость  очень низкий  \n",
       "3   образование  очень низкий  \n",
       "4       свадьба  очень низкий  "
      ]
     },
     "execution_count": 65,
     "metadata": {},
     "output_type": "execute_result"
    }
   ],
   "source": [
    "df['income_status'] = df['total_income'].apply(income_rank) \n",
    "df.head(5)"
   ]
  },
  {
   "cell_type": "code",
   "execution_count": 66,
   "metadata": {},
   "outputs": [],
   "source": [
    "def number_income(income, debt): \n",
    "    '''функция, которая сначала создает отфильтрованный\n",
    "    по параметрe income (уровень дохода), debt (были ли просрочки) DataFrame, \n",
    "    а потом подсчитывает количество строк, удовлетворяющих фильтру '''    \n",
    "    income_list = df[df['income_status'] == income]  \n",
    "    income_list = income_list[income_list['debt'] == debt] \n",
    "    income_list_count = income_list['income_status'].count()  \n",
    "    return income_list_count"
   ]
  },
  {
   "cell_type": "code",
   "execution_count": 67,
   "metadata": {},
   "outputs": [
    {
     "data": {
      "text/html": [
       "<div>\n",
       "<style scoped>\n",
       "    .dataframe tbody tr th:only-of-type {\n",
       "        vertical-align: middle;\n",
       "    }\n",
       "\n",
       "    .dataframe tbody tr th {\n",
       "        vertical-align: top;\n",
       "    }\n",
       "\n",
       "    .dataframe thead th {\n",
       "        text-align: right;\n",
       "    }\n",
       "</style>\n",
       "<table border=\"1\" class=\"dataframe\">\n",
       "  <thead>\n",
       "    <tr style=\"text-align: right;\">\n",
       "      <th></th>\n",
       "      <th>purpose_count</th>\n",
       "      <th>очень низкий</th>\n",
       "      <th>низкий</th>\n",
       "      <th>средний</th>\n",
       "      <th>высокий</th>\n",
       "      <th>очень высокий</th>\n",
       "    </tr>\n",
       "  </thead>\n",
       "  <tbody>\n",
       "    <tr>\n",
       "      <th>нет просрочки</th>\n",
       "      <td>0</td>\n",
       "      <td>91.7374</td>\n",
       "      <td>94.552529</td>\n",
       "      <td>95.238095</td>\n",
       "      <td>100.0</td>\n",
       "      <td>0.0</td>\n",
       "    </tr>\n",
       "    <tr>\n",
       "      <th>есть просрочка</th>\n",
       "      <td>1</td>\n",
       "      <td>8.2626</td>\n",
       "      <td>5.447471</td>\n",
       "      <td>4.761905</td>\n",
       "      <td>0.0</td>\n",
       "      <td>100.0</td>\n",
       "    </tr>\n",
       "  </tbody>\n",
       "</table>\n",
       "</div>"
      ],
      "text/plain": [
       "                purpose_count  очень низкий     низкий    средний  высокий  \\\n",
       "нет просрочки               0       91.7374  94.552529  95.238095    100.0   \n",
       "есть просрочка              1        8.2626   5.447471   4.761905      0.0   \n",
       "\n",
       "                очень высокий  \n",
       "нет просрочки             0.0  \n",
       "есть просрочка          100.0  "
      ]
     },
     "execution_count": 67,
     "metadata": {},
     "output_type": "execute_result"
    }
   ],
   "source": [
    "name_columns = ['purpose_count','очень низкий', 'низкий', 'средний', 'высокий', 'очень высокий']\n",
    "request_counts = []\n",
    "for item_debt in [0, 1]:\n",
    "    row = []\n",
    "    row.append(item_debt)\n",
    "    for item_income in ['очень низкий', 'низкий', 'средний', 'высокий', 'очень высокий']:\n",
    "        row.append(number_income(item_income, item_debt))\n",
    "    request_counts.append(row)\n",
    "request_income = pd.DataFrame(data = request_counts ,columns = name_columns, index = ['нет просрочки', 'есть просрочка'])\n",
    "for item in ['очень низкий', 'низкий', 'средний', 'высокий', 'очень высокий']:\n",
    "    request_income[item] = request_income[item] / request_income[item].sum()*100\n",
    "request_income"
   ]
  },
  {
   "cell_type": "markdown",
   "metadata": {},
   "source": [
    "Лично меня смутило то, что сначала наблюдалась четкая зависимость между увеличением дохода и уменьшением риска просрочки (уменьшением доли просрочки), но затем в категориях высокий и очень высокий доход что-то произошло. Посморим, сколько вообще записей попадает в эти категории дохода:"
   ]
  },
  {
   "cell_type": "code",
   "execution_count": 68,
   "metadata": {},
   "outputs": [
    {
     "data": {
      "text/plain": [
       "очень низкий     20853\n",
       "низкий             257\n",
       "средний             21\n",
       "высокий              6\n",
       "очень высокий        1\n",
       "Name: income_status, dtype: int64"
      ]
     },
     "execution_count": 68,
     "metadata": {},
     "output_type": "execute_result"
    }
   ],
   "source": [
    "df['income_status'].value_counts()"
   ]
  },
  {
   "cell_type": "markdown",
   "metadata": {},
   "source": [
    "Теперь я конечно понимаю, что разбиение на категории доходов было крайне неудачным. Напишем еще одну функцию, которая сделает разделение на категории по другим интервалам"
   ]
  },
  {
   "cell_type": "code",
   "execution_count": 69,
   "metadata": {},
   "outputs": [
    {
     "data": {
      "text/plain": [
       "918641.9697650606"
      ]
     },
     "execution_count": 69,
     "metadata": {},
     "output_type": "execute_result"
    }
   ],
   "source": [
    "right_border = df['total_income'].min() + (df['total_income'].max()-df['total_income'].min())*2/5\n",
    "right_border"
   ]
  },
  {
   "cell_type": "code",
   "execution_count": 70,
   "metadata": {},
   "outputs": [
    {
     "data": {
      "text/plain": [
       "200262.20498762937"
      ]
     },
     "execution_count": 70,
     "metadata": {},
     "output_type": "execute_result"
    }
   ],
   "source": [
    "right_border = df['total_income'].min() + (df['total_income'].max()-df['total_income'].min())*2/5\n",
    "d = (right_border - df['total_income'].min() ) / 5\n",
    "df['total_income'].min() + d"
   ]
  },
  {
   "cell_type": "code",
   "execution_count": 71,
   "metadata": {},
   "outputs": [],
   "source": [
    "def income_rank_bordered(amount):\n",
    "    ''' функция присваивает категорию от очень низкого до очень высокого сумме дохода,\n",
    "    но берет не весь размах дохода, а только большую часть, весь диапазон разбит на 5 категорий'''\n",
    "    right_border = df['total_income'].min() + (df['total_income'].max()-df['total_income'].min())*2/5\n",
    "    d = (right_border - df['total_income'].min() ) / 5\n",
    "    if (amount >= df['total_income'].min()) and (amount < df['total_income'].min() + d):\n",
    "        return 'очень низкий'\n",
    "    if (amount >= df['total_income'].min() + d) and (amount < df['total_income'].min() + 2*d):\n",
    "        return 'низкий'\n",
    "    if (amount >= df['total_income'].min()+2*d) and (amount < df['total_income'].min() + 3*d):\n",
    "        return 'средний'\n",
    "    if (amount >= df['total_income'].min() + 3*d) and (amount < df['total_income'].min() + 4*d):\n",
    "        return 'высокий'\n",
    "    if (amount >= df['total_income'].min() + 4*d) and (amount < df['total_income'].min() + 5*d):\n",
    "        return 'очень высокий'"
   ]
  },
  {
   "cell_type": "code",
   "execution_count": 72,
   "metadata": {},
   "outputs": [
    {
     "data": {
      "text/html": [
       "<div>\n",
       "<style scoped>\n",
       "    .dataframe tbody tr th:only-of-type {\n",
       "        vertical-align: middle;\n",
       "    }\n",
       "\n",
       "    .dataframe tbody tr th {\n",
       "        vertical-align: top;\n",
       "    }\n",
       "\n",
       "    .dataframe thead th {\n",
       "        text-align: right;\n",
       "    }\n",
       "</style>\n",
       "<table border=\"1\" class=\"dataframe\">\n",
       "  <thead>\n",
       "    <tr style=\"text-align: right;\">\n",
       "      <th></th>\n",
       "      <th>children</th>\n",
       "      <th>days_employed</th>\n",
       "      <th>dob_years</th>\n",
       "      <th>education</th>\n",
       "      <th>education_id</th>\n",
       "      <th>family_status</th>\n",
       "      <th>family_status_id</th>\n",
       "      <th>gender</th>\n",
       "      <th>income_type</th>\n",
       "      <th>debt</th>\n",
       "      <th>total_income</th>\n",
       "      <th>purpose_new</th>\n",
       "      <th>income_status</th>\n",
       "      <th>income_status_bordered</th>\n",
       "    </tr>\n",
       "  </thead>\n",
       "  <tbody>\n",
       "    <tr>\n",
       "      <th>0</th>\n",
       "      <td>1</td>\n",
       "      <td>8437</td>\n",
       "      <td>42</td>\n",
       "      <td>высшее</td>\n",
       "      <td>3</td>\n",
       "      <td>женат / замужем</td>\n",
       "      <td>0</td>\n",
       "      <td>F</td>\n",
       "      <td>сотрудник</td>\n",
       "      <td>0</td>\n",
       "      <td>253875.639453</td>\n",
       "      <td>недвижимость</td>\n",
       "      <td>очень низкий</td>\n",
       "      <td>низкий</td>\n",
       "    </tr>\n",
       "    <tr>\n",
       "      <th>1</th>\n",
       "      <td>1</td>\n",
       "      <td>4024</td>\n",
       "      <td>36</td>\n",
       "      <td>среднее</td>\n",
       "      <td>1</td>\n",
       "      <td>женат / замужем</td>\n",
       "      <td>0</td>\n",
       "      <td>F</td>\n",
       "      <td>сотрудник</td>\n",
       "      <td>0</td>\n",
       "      <td>112080.014102</td>\n",
       "      <td>автомобиль</td>\n",
       "      <td>очень низкий</td>\n",
       "      <td>очень низкий</td>\n",
       "    </tr>\n",
       "    <tr>\n",
       "      <th>2</th>\n",
       "      <td>0</td>\n",
       "      <td>5623</td>\n",
       "      <td>33</td>\n",
       "      <td>среднее</td>\n",
       "      <td>1</td>\n",
       "      <td>женат / замужем</td>\n",
       "      <td>0</td>\n",
       "      <td>M</td>\n",
       "      <td>сотрудник</td>\n",
       "      <td>0</td>\n",
       "      <td>145885.952297</td>\n",
       "      <td>недвижимость</td>\n",
       "      <td>очень низкий</td>\n",
       "      <td>очень низкий</td>\n",
       "    </tr>\n",
       "    <tr>\n",
       "      <th>3</th>\n",
       "      <td>3</td>\n",
       "      <td>4124</td>\n",
       "      <td>32</td>\n",
       "      <td>среднее</td>\n",
       "      <td>1</td>\n",
       "      <td>женат / замужем</td>\n",
       "      <td>0</td>\n",
       "      <td>M</td>\n",
       "      <td>сотрудник</td>\n",
       "      <td>0</td>\n",
       "      <td>267628.550329</td>\n",
       "      <td>образование</td>\n",
       "      <td>очень низкий</td>\n",
       "      <td>низкий</td>\n",
       "    </tr>\n",
       "    <tr>\n",
       "      <th>4</th>\n",
       "      <td>0</td>\n",
       "      <td>340266</td>\n",
       "      <td>53</td>\n",
       "      <td>среднее</td>\n",
       "      <td>1</td>\n",
       "      <td>гражданский брак</td>\n",
       "      <td>1</td>\n",
       "      <td>F</td>\n",
       "      <td>пенсионер</td>\n",
       "      <td>0</td>\n",
       "      <td>158616.077870</td>\n",
       "      <td>свадьба</td>\n",
       "      <td>очень низкий</td>\n",
       "      <td>очень низкий</td>\n",
       "    </tr>\n",
       "  </tbody>\n",
       "</table>\n",
       "</div>"
      ],
      "text/plain": [
       "   children  days_employed  dob_years education  education_id  \\\n",
       "0         1           8437         42    высшее             3   \n",
       "1         1           4024         36   среднее             1   \n",
       "2         0           5623         33   среднее             1   \n",
       "3         3           4124         32   среднее             1   \n",
       "4         0         340266         53   среднее             1   \n",
       "\n",
       "      family_status  family_status_id gender income_type  debt   total_income  \\\n",
       "0   женат / замужем                 0      F   сотрудник     0  253875.639453   \n",
       "1   женат / замужем                 0      F   сотрудник     0  112080.014102   \n",
       "2   женат / замужем                 0      M   сотрудник     0  145885.952297   \n",
       "3   женат / замужем                 0      M   сотрудник     0  267628.550329   \n",
       "4  гражданский брак                 1      F   пенсионер     0  158616.077870   \n",
       "\n",
       "    purpose_new income_status income_status_bordered  \n",
       "0  недвижимость  очень низкий                 низкий  \n",
       "1    автомобиль  очень низкий           очень низкий  \n",
       "2  недвижимость  очень низкий           очень низкий  \n",
       "3   образование  очень низкий                 низкий  \n",
       "4       свадьба  очень низкий           очень низкий  "
      ]
     },
     "execution_count": 72,
     "metadata": {},
     "output_type": "execute_result"
    }
   ],
   "source": [
    "df['income_status_bordered'] = df['total_income'].apply(income_rank_bordered) \n",
    "df.head(5)"
   ]
  },
  {
   "cell_type": "code",
   "execution_count": 73,
   "metadata": {},
   "outputs": [],
   "source": [
    "def number_income_bordered(income, debt): \n",
    "    '''функция, которая сначала создает отфильтрованный\n",
    "    по параметрe income (уровень дохода), debt (были ли просрочки) DataFrame, \n",
    "    а потом подсчитывает количество строк, удовлетворяющих фильтру '''    \n",
    "    income_list = df[df['income_status_bordered'] == income]  \n",
    "    income_list = income_list[income_list['debt'] == debt] \n",
    "    income_list_count = income_list['income_status_bordered'].count()  \n",
    "    return income_list_count"
   ]
  },
  {
   "cell_type": "code",
   "execution_count": 74,
   "metadata": {},
   "outputs": [
    {
     "data": {
      "text/html": [
       "<div>\n",
       "<style scoped>\n",
       "    .dataframe tbody tr th:only-of-type {\n",
       "        vertical-align: middle;\n",
       "    }\n",
       "\n",
       "    .dataframe tbody tr th {\n",
       "        vertical-align: top;\n",
       "    }\n",
       "\n",
       "    .dataframe thead th {\n",
       "        text-align: right;\n",
       "    }\n",
       "</style>\n",
       "<table border=\"1\" class=\"dataframe\">\n",
       "  <thead>\n",
       "    <tr style=\"text-align: right;\">\n",
       "      <th></th>\n",
       "      <th>purpose_count</th>\n",
       "      <th>очень низкий</th>\n",
       "      <th>низкий</th>\n",
       "      <th>средний</th>\n",
       "      <th>высокий</th>\n",
       "      <th>очень высокий</th>\n",
       "    </tr>\n",
       "  </thead>\n",
       "  <tbody>\n",
       "    <tr>\n",
       "      <th>нет просрочки</th>\n",
       "      <td>0</td>\n",
       "      <td>91.406201</td>\n",
       "      <td>92.761516</td>\n",
       "      <td>94.176707</td>\n",
       "      <td>95.652174</td>\n",
       "      <td>90.0</td>\n",
       "    </tr>\n",
       "    <tr>\n",
       "      <th>есть просрочка</th>\n",
       "      <td>1</td>\n",
       "      <td>8.593799</td>\n",
       "      <td>7.238484</td>\n",
       "      <td>5.823293</td>\n",
       "      <td>4.347826</td>\n",
       "      <td>10.0</td>\n",
       "    </tr>\n",
       "  </tbody>\n",
       "</table>\n",
       "</div>"
      ],
      "text/plain": [
       "                purpose_count  очень низкий     низкий    средний    высокий  \\\n",
       "нет просрочки               0     91.406201  92.761516  94.176707  95.652174   \n",
       "есть просрочка              1      8.593799   7.238484   5.823293   4.347826   \n",
       "\n",
       "                очень высокий  \n",
       "нет просрочки            90.0  \n",
       "есть просрочка           10.0  "
      ]
     },
     "execution_count": 74,
     "metadata": {},
     "output_type": "execute_result"
    }
   ],
   "source": [
    "name_columns = ['purpose_count','очень низкий', 'низкий', 'средний', 'высокий', 'очень высокий']\n",
    "request_counts = []\n",
    "for item_debt in [0, 1]:\n",
    "    row = []\n",
    "    row.append(item_debt)\n",
    "    for item_income in ['очень низкий', 'низкий', 'средний', 'высокий', 'очень высокий']:\n",
    "        row.append(number_income_bordered(item_income, item_debt))\n",
    "    request_counts.append(row)\n",
    "request_income = pd.DataFrame(data = request_counts ,columns = name_columns, index = ['нет просрочки', 'есть просрочка'])\n",
    "for item in ['очень низкий', 'низкий', 'средний', 'высокий', 'очень высокий']:\n",
    "    request_income[item] = request_income[item] / request_income[item].sum()*100\n",
    "request_income"
   ]
  },
  {
   "cell_type": "markdown",
   "metadata": {},
   "source": [
    "Все еще есть проблема в столбце очень высокие доходы. Но тогда надо было выяснять при получении данных, какие значения дохода считать \"неправильными\", и договариваться с заказчиком, что делать с этими цифрами - удалять данные строки, или делать их средними. Но, несмотря на эту деталь, прослеживается четкая зависимость, чем выше доход, чем меньше шанс возникновения просрочки платежа, максимальный риск просрочки 8,5 % у категории с очень низким доходом, от 20667 р до 200262 р.\n",
    "Либо пересчитать еще раз границы категориального разделения так, чтобы в каждой категории находилось примерно одинаковое количество строк."
   ]
  },
  {
   "cell_type": "code",
   "execution_count": 75,
   "metadata": {},
   "outputs": [
    {
     "data": {
      "text/plain": [
       "очень низкий     16093\n",
       "низкий            4407\n",
       "средний            498\n",
       "высокий             92\n",
       "очень высокий       20\n",
       "Name: income_status_bordered, dtype: int64"
      ]
     },
     "execution_count": 75,
     "metadata": {},
     "output_type": "execute_result"
    }
   ],
   "source": [
    "df['income_status_bordered'].value_counts()"
   ]
  },
  {
   "cell_type": "markdown",
   "metadata": {},
   "source": [
    "### Как разные цели кредита влияют на его возврат в срок?"
   ]
  },
  {
   "cell_type": "code",
   "execution_count": 76,
   "metadata": {},
   "outputs": [],
   "source": [
    "def number_purpose(purpose, debt): \n",
    "    '''функция, которая сначала создает отфильтрованный\n",
    "    по параметрe purpose (причина), debt (были ли просрочки) DataFrame, \n",
    "    а потом подсчитывает количество строк, удовлетворяющих фильтру '''    \n",
    "    purpose_list = df[df['purpose_new'] == purpose]  \n",
    "    purpose_list = purpose_list[purpose_list['debt'] == debt] \n",
    "    purpose_list_count = purpose_list['purpose_new'].count()  \n",
    "    return purpose_list_count"
   ]
  },
  {
   "cell_type": "code",
   "execution_count": 77,
   "metadata": {},
   "outputs": [
    {
     "data": {
      "text/html": [
       "<div>\n",
       "<style scoped>\n",
       "    .dataframe tbody tr th:only-of-type {\n",
       "        vertical-align: middle;\n",
       "    }\n",
       "\n",
       "    .dataframe tbody tr th {\n",
       "        vertical-align: top;\n",
       "    }\n",
       "\n",
       "    .dataframe thead th {\n",
       "        text-align: right;\n",
       "    }\n",
       "</style>\n",
       "<table border=\"1\" class=\"dataframe\">\n",
       "  <thead>\n",
       "    <tr style=\"text-align: right;\">\n",
       "      <th></th>\n",
       "      <th>purpose_count</th>\n",
       "      <th>автомобиль</th>\n",
       "      <th>образование</th>\n",
       "      <th>свадьба</th>\n",
       "      <th>недвижимость</th>\n",
       "      <th>ремонт</th>\n",
       "    </tr>\n",
       "  </thead>\n",
       "  <tbody>\n",
       "    <tr>\n",
       "      <th>нет просрочки</th>\n",
       "      <td>0</td>\n",
       "      <td>90.587684</td>\n",
       "      <td>90.665994</td>\n",
       "      <td>91.934085</td>\n",
       "      <td>92.53328</td>\n",
       "      <td>94.233937</td>\n",
       "    </tr>\n",
       "    <tr>\n",
       "      <th>есть просрочка</th>\n",
       "      <td>1</td>\n",
       "      <td>9.412316</td>\n",
       "      <td>9.334006</td>\n",
       "      <td>8.065915</td>\n",
       "      <td>7.46672</td>\n",
       "      <td>5.766063</td>\n",
       "    </tr>\n",
       "  </tbody>\n",
       "</table>\n",
       "</div>"
      ],
      "text/plain": [
       "                purpose_count  автомобиль  образование    свадьба  \\\n",
       "нет просрочки               0   90.587684    90.665994  91.934085   \n",
       "есть просрочка              1    9.412316     9.334006   8.065915   \n",
       "\n",
       "                недвижимость     ремонт  \n",
       "нет просрочки       92.53328  94.233937  \n",
       "есть просрочка       7.46672   5.766063  "
      ]
     },
     "execution_count": 77,
     "metadata": {},
     "output_type": "execute_result"
    }
   ],
   "source": [
    "name_columns = ['purpose_count','автомобиль', 'образование', 'свадьба', 'недвижимость', 'ремонт']\n",
    "request_counts = []\n",
    "for item_debt in [0, 1]:\n",
    "    row = []\n",
    "    row.append(item_debt)\n",
    "    for item_purpose in ['автомобиль', 'образование', 'свадьба', 'недвижимость', 'ремонт']:\n",
    "        row.append(number_purpose(item_purpose, item_debt))\n",
    "    request_counts.append(row)\n",
    "request_purpose = pd.DataFrame(data = request_counts ,columns = name_columns, index = ['нет просрочки', 'есть просрочка'])\n",
    "for item in ['автомобиль', 'образование', 'свадьба', 'недвижимость', 'ремонт']:\n",
    "    request_purpose[item] = request_purpose[item] / request_purpose[item].sum()*100\n",
    "request_purpose"
   ]
  },
  {
   "cell_type": "markdown",
   "metadata": {},
   "source": [
    "Самая большая доля просрочки возникает в случае покупки автомобиля. Самая малая доля просрочки возникает в случае покупки ремонта своего жилья. Не очень далеко ушла доля в случае сделок с недвижимостью, видимо все-таки при покупке жилья в кредит оно является единственным у клиентов, и терять его не очень хочется."
   ]
  },
  {
   "cell_type": "markdown",
   "metadata": {},
   "source": [
    "## Общие выводы"
   ]
  },
  {
   "cell_type": "markdown",
   "metadata": {},
   "source": [
    "\n",
    "Если по итогам вопросов сформировать портрет \"положительного клиента\", вероятность просрочки которого будет меньше всего, то это будет бездетный(ая) (риск просрочки 7,5%),\n",
    "женатый(замужняя) (риск просрочки 7,68%), \n",
    "с высоким уровнем дохода (4,35%),\n",
    "который хочет купить недвижимость (7,47% ),\n",
    "или сделать ремонт (5,76% ).\n",
    "\n",
    "\n",
    "Самый \"неблагоприятный клиент\" - это двухдетные (9,44% ), живущие в гражданском браке (9,41% ), или неженатые (9,84% ), с низким уровнем дохода (8,59% ), которые хотят купить автомобиль (9,41%).\n",
    "\n",
    "\n",
    "В целом, с увеличением детей доля просроченных кредитов будет увеличиваться.\n",
    "\n",
    "Семейный статус влияет на частоту возникновения просрочек по кредитам, и женатые/вдовые, видимо обладают большей ответственностью, что конечно влияет на отношение к возникшим обязательствам.\n",
    "\n",
    "При анализе меня смутили значения столбца доход клиента, но я не могу со своей стороны никак на значения повлиять. Тут нужна консультация с заказчиком.\n",
    "Несмотря на это, прослеживается связь между уровнем дохода и частотой возникновения просрочек, чем выше доход, тем реже просрочки.\n",
    "\n",
    "Самая большая доля просрочки возникает в случае покупки автомобиля, самая малая доля просрочки возникает в случае покупки и ремонта своего жилья. Скорее всего, при покупке жилья в кредит оно является единственным у клиентов, и терять его не хочется, и поэтому клиенты также относятся внимательнее к возможным просрочкам."
   ]
  }
 ],
 "metadata": {
  "ExecuteTimeLog": [
   {
    "duration": 3391,
    "start_time": "2021-10-28T04:18:34.614Z"
   },
   {
    "duration": 3782,
    "start_time": "2021-10-28T04:18:38.008Z"
   },
   {
    "duration": -634,
    "start_time": "2021-10-28T04:18:42.427Z"
   },
   {
    "duration": -643,
    "start_time": "2021-10-28T04:18:42.437Z"
   },
   {
    "duration": -648,
    "start_time": "2021-10-28T04:18:42.443Z"
   },
   {
    "duration": -653,
    "start_time": "2021-10-28T04:18:42.449Z"
   },
   {
    "duration": -660,
    "start_time": "2021-10-28T04:18:42.456Z"
   },
   {
    "duration": -665,
    "start_time": "2021-10-28T04:18:42.462Z"
   },
   {
    "duration": -689,
    "start_time": "2021-10-28T04:18:42.487Z"
   },
   {
    "duration": -697,
    "start_time": "2021-10-28T04:18:42.496Z"
   },
   {
    "duration": -703,
    "start_time": "2021-10-28T04:18:42.503Z"
   },
   {
    "duration": -707,
    "start_time": "2021-10-28T04:18:42.508Z"
   },
   {
    "duration": -712,
    "start_time": "2021-10-28T04:18:42.513Z"
   },
   {
    "duration": -718,
    "start_time": "2021-10-28T04:18:42.520Z"
   },
   {
    "duration": -721,
    "start_time": "2021-10-28T04:18:42.524Z"
   },
   {
    "duration": -725,
    "start_time": "2021-10-28T04:18:42.528Z"
   },
   {
    "duration": -729,
    "start_time": "2021-10-28T04:18:42.533Z"
   },
   {
    "duration": -734,
    "start_time": "2021-10-28T04:18:42.539Z"
   },
   {
    "duration": -768,
    "start_time": "2021-10-28T04:18:42.574Z"
   },
   {
    "duration": -774,
    "start_time": "2021-10-28T04:18:42.580Z"
   },
   {
    "duration": -779,
    "start_time": "2021-10-28T04:18:42.586Z"
   },
   {
    "duration": -784,
    "start_time": "2021-10-28T04:18:42.592Z"
   },
   {
    "duration": -789,
    "start_time": "2021-10-28T04:18:42.598Z"
   },
   {
    "duration": -797,
    "start_time": "2021-10-28T04:18:42.606Z"
   },
   {
    "duration": -801,
    "start_time": "2021-10-28T04:18:42.611Z"
   },
   {
    "duration": -828,
    "start_time": "2021-10-28T04:18:42.639Z"
   },
   {
    "duration": -831,
    "start_time": "2021-10-28T04:18:42.642Z"
   },
   {
    "duration": -834,
    "start_time": "2021-10-28T04:18:42.646Z"
   },
   {
    "duration": -846,
    "start_time": "2021-10-28T04:18:42.659Z"
   },
   {
    "duration": -849,
    "start_time": "2021-10-28T04:18:42.663Z"
   },
   {
    "duration": -853,
    "start_time": "2021-10-28T04:18:42.668Z"
   },
   {
    "duration": -965,
    "start_time": "2021-10-28T04:18:42.781Z"
   },
   {
    "duration": -970,
    "start_time": "2021-10-28T04:18:42.786Z"
   },
   {
    "duration": -973,
    "start_time": "2021-10-28T04:18:42.790Z"
   },
   {
    "duration": -977,
    "start_time": "2021-10-28T04:18:42.795Z"
   },
   {
    "duration": -980,
    "start_time": "2021-10-28T04:18:42.799Z"
   },
   {
    "duration": -983,
    "start_time": "2021-10-28T04:18:42.803Z"
   },
   {
    "duration": -988,
    "start_time": "2021-10-28T04:18:42.809Z"
   },
   {
    "duration": -991,
    "start_time": "2021-10-28T04:18:42.812Z"
   },
   {
    "duration": -994,
    "start_time": "2021-10-28T04:18:42.816Z"
   },
   {
    "duration": -999,
    "start_time": "2021-10-28T04:18:42.822Z"
   },
   {
    "duration": -1043,
    "start_time": "2021-10-28T04:18:42.867Z"
   },
   {
    "duration": -1104,
    "start_time": "2021-10-28T04:18:42.929Z"
   },
   {
    "duration": -1109,
    "start_time": "2021-10-28T04:18:42.935Z"
   },
   {
    "duration": -1114,
    "start_time": "2021-10-28T04:18:42.940Z"
   },
   {
    "duration": -1116,
    "start_time": "2021-10-28T04:18:42.943Z"
   },
   {
    "duration": -1119,
    "start_time": "2021-10-28T04:18:42.947Z"
   },
   {
    "duration": -1123,
    "start_time": "2021-10-28T04:18:42.952Z"
   },
   {
    "duration": -1125,
    "start_time": "2021-10-28T04:18:42.955Z"
   },
   {
    "duration": -1128,
    "start_time": "2021-10-28T04:18:42.959Z"
   },
   {
    "duration": -1130,
    "start_time": "2021-10-28T04:18:42.962Z"
   },
   {
    "duration": -1132,
    "start_time": "2021-10-28T04:18:42.965Z"
   },
   {
    "duration": -1136,
    "start_time": "2021-10-28T04:18:42.969Z"
   },
   {
    "duration": -1138,
    "start_time": "2021-10-28T04:18:42.972Z"
   },
   {
    "duration": -1145,
    "start_time": "2021-10-28T04:18:43.024Z"
   },
   {
    "duration": -1167,
    "start_time": "2021-10-28T04:18:43.047Z"
   },
   {
    "duration": -1172,
    "start_time": "2021-10-28T04:18:43.052Z"
   },
   {
    "duration": -1175,
    "start_time": "2021-10-28T04:18:43.056Z"
   },
   {
    "duration": -1177,
    "start_time": "2021-10-28T04:18:43.059Z"
   },
   {
    "duration": -1180,
    "start_time": "2021-10-28T04:18:43.063Z"
   },
   {
    "duration": -1181,
    "start_time": "2021-10-28T04:18:43.065Z"
   },
   {
    "duration": -1186,
    "start_time": "2021-10-28T04:18:43.072Z"
   },
   {
    "duration": -1189,
    "start_time": "2021-10-28T04:18:43.075Z"
   },
   {
    "duration": -1191,
    "start_time": "2021-10-28T04:18:43.079Z"
   },
   {
    "duration": -1194,
    "start_time": "2021-10-28T04:18:43.082Z"
   },
   {
    "duration": 3926,
    "start_time": "2021-10-28T04:20:05.654Z"
   },
   {
    "duration": 1218,
    "start_time": "2021-10-28T04:20:09.582Z"
   },
   {
    "duration": 10,
    "start_time": "2021-10-28T04:20:10.802Z"
   },
   {
    "duration": 6,
    "start_time": "2021-10-28T04:20:10.814Z"
   },
   {
    "duration": 14,
    "start_time": "2021-10-28T04:20:10.822Z"
   },
   {
    "duration": 8,
    "start_time": "2021-10-28T04:20:10.838Z"
   },
   {
    "duration": 19,
    "start_time": "2021-10-28T04:20:10.847Z"
   },
   {
    "duration": 17,
    "start_time": "2021-10-28T04:20:10.870Z"
   },
   {
    "duration": 5,
    "start_time": "2021-10-28T04:20:10.889Z"
   },
   {
    "duration": 3,
    "start_time": "2021-10-28T04:20:10.896Z"
   },
   {
    "duration": 10,
    "start_time": "2021-10-28T04:20:10.901Z"
   },
   {
    "duration": 4,
    "start_time": "2021-10-28T04:20:10.912Z"
   },
   {
    "duration": 8,
    "start_time": "2021-10-28T04:20:10.918Z"
   },
   {
    "duration": 12,
    "start_time": "2021-10-28T04:20:10.928Z"
   },
   {
    "duration": 43,
    "start_time": "2021-10-28T04:20:10.941Z"
   },
   {
    "duration": 3,
    "start_time": "2021-10-28T04:20:10.986Z"
   },
   {
    "duration": 9,
    "start_time": "2021-10-28T04:20:10.990Z"
   },
   {
    "duration": 7,
    "start_time": "2021-10-28T04:20:11.000Z"
   },
   {
    "duration": 3,
    "start_time": "2021-10-28T04:20:11.009Z"
   },
   {
    "duration": 7,
    "start_time": "2021-10-28T04:20:11.013Z"
   },
   {
    "duration": 55,
    "start_time": "2021-10-28T04:20:11.022Z"
   },
   {
    "duration": 9,
    "start_time": "2021-10-28T04:20:11.079Z"
   },
   {
    "duration": 5,
    "start_time": "2021-10-28T04:20:11.092Z"
   },
   {
    "duration": 6,
    "start_time": "2021-10-28T04:20:11.099Z"
   },
   {
    "duration": 5,
    "start_time": "2021-10-28T04:20:11.107Z"
   },
   {
    "duration": 9,
    "start_time": "2021-10-28T04:20:11.114Z"
   },
   {
    "duration": 4,
    "start_time": "2021-10-28T04:20:11.125Z"
   },
   {
    "duration": 7,
    "start_time": "2021-10-28T04:20:11.130Z"
   },
   {
    "duration": 7,
    "start_time": "2021-10-28T04:20:11.139Z"
   },
   {
    "duration": 7,
    "start_time": "2021-10-28T04:20:11.147Z"
   },
   {
    "duration": 8,
    "start_time": "2021-10-28T04:20:11.156Z"
   },
   {
    "duration": 14,
    "start_time": "2021-10-28T04:20:11.165Z"
   },
   {
    "duration": 8,
    "start_time": "2021-10-28T04:20:11.181Z"
   },
   {
    "duration": 6,
    "start_time": "2021-10-28T04:20:11.191Z"
   },
   {
    "duration": 699,
    "start_time": "2021-10-28T04:20:11.199Z"
   },
   {
    "duration": 4,
    "start_time": "2021-10-28T04:20:11.900Z"
   },
   {
    "duration": 29,
    "start_time": "2021-10-28T04:20:11.906Z"
   },
   {
    "duration": 52,
    "start_time": "2021-10-28T04:20:11.937Z"
   },
   {
    "duration": 6,
    "start_time": "2021-10-28T04:20:11.991Z"
   },
   {
    "duration": 23,
    "start_time": "2021-10-28T04:20:11.998Z"
   },
   {
    "duration": 16,
    "start_time": "2021-10-28T04:20:12.023Z"
   },
   {
    "duration": 34,
    "start_time": "2021-10-28T04:20:12.041Z"
   },
   {
    "duration": 10,
    "start_time": "2021-10-28T04:20:12.076Z"
   },
   {
    "duration": 6,
    "start_time": "2021-10-28T04:20:12.087Z"
   },
   {
    "duration": 4,
    "start_time": "2021-10-28T04:20:12.094Z"
   },
   {
    "duration": 53,
    "start_time": "2021-10-28T04:20:12.099Z"
   },
   {
    "duration": 5,
    "start_time": "2021-10-28T04:20:12.154Z"
   },
   {
    "duration": 23,
    "start_time": "2021-10-28T04:20:12.160Z"
   },
   {
    "duration": 5,
    "start_time": "2021-10-28T04:20:12.184Z"
   },
   {
    "duration": 56,
    "start_time": "2021-10-28T04:20:12.190Z"
   },
   {
    "duration": 7,
    "start_time": "2021-10-28T04:20:12.247Z"
   },
   {
    "duration": 22,
    "start_time": "2021-10-28T04:20:12.256Z"
   },
   {
    "duration": 10034,
    "start_time": "2021-10-28T04:20:12.280Z"
   },
   {
    "duration": 3,
    "start_time": "2021-10-28T04:20:22.316Z"
   },
   {
    "duration": 60,
    "start_time": "2021-10-28T04:20:22.321Z"
   },
   {
    "duration": 7,
    "start_time": "2021-10-28T04:20:22.383Z"
   },
   {
    "duration": 7,
    "start_time": "2021-10-28T04:20:22.391Z"
   },
   {
    "duration": 6,
    "start_time": "2021-10-28T04:20:22.400Z"
   },
   {
    "duration": 5,
    "start_time": "2021-10-28T04:20:22.408Z"
   },
   {
    "duration": 15194,
    "start_time": "2021-10-28T04:20:22.415Z"
   },
   {
    "duration": 4,
    "start_time": "2021-10-28T04:20:37.612Z"
   },
   {
    "duration": 65,
    "start_time": "2021-10-28T04:20:37.617Z"
   },
   {
    "duration": 8,
    "start_time": "2021-10-28T04:20:37.684Z"
   },
   {
    "duration": 4,
    "start_time": "2021-10-28T04:20:37.694Z"
   },
   {
    "duration": 77,
    "start_time": "2021-10-28T04:20:37.700Z"
   },
   {
    "duration": 339,
    "start_time": "2021-10-28T10:21:59.981Z"
   },
   {
    "duration": 4144,
    "start_time": "2021-10-28T10:22:14.579Z"
   },
   {
    "duration": 1502,
    "start_time": "2021-10-28T10:22:18.726Z"
   },
   {
    "duration": 87,
    "start_time": "2021-10-28T10:22:20.231Z"
   },
   {
    "duration": 19,
    "start_time": "2021-10-28T10:22:20.321Z"
   },
   {
    "duration": 63,
    "start_time": "2021-10-28T10:22:20.343Z"
   },
   {
    "duration": 20,
    "start_time": "2021-10-28T10:22:20.408Z"
   },
   {
    "duration": 10,
    "start_time": "2021-10-28T10:22:20.433Z"
   },
   {
    "duration": 8,
    "start_time": "2021-10-28T10:22:20.446Z"
   },
   {
    "duration": 26,
    "start_time": "2021-10-28T10:22:20.458Z"
   },
   {
    "duration": 43,
    "start_time": "2021-10-28T10:22:20.487Z"
   },
   {
    "duration": 9,
    "start_time": "2021-10-28T10:22:20.533Z"
   },
   {
    "duration": 19,
    "start_time": "2021-10-28T10:22:20.544Z"
   },
   {
    "duration": 19,
    "start_time": "2021-10-28T10:22:20.566Z"
   },
   {
    "duration": 16,
    "start_time": "2021-10-28T10:22:20.587Z"
   },
   {
    "duration": 33,
    "start_time": "2021-10-28T10:22:20.605Z"
   },
   {
    "duration": 25,
    "start_time": "2021-10-28T10:22:20.640Z"
   },
   {
    "duration": 16,
    "start_time": "2021-10-28T10:22:20.668Z"
   },
   {
    "duration": 6,
    "start_time": "2021-10-28T10:22:20.687Z"
   },
   {
    "duration": 40,
    "start_time": "2021-10-28T10:22:20.696Z"
   },
   {
    "duration": 11,
    "start_time": "2021-10-28T10:22:20.739Z"
   },
   {
    "duration": 21,
    "start_time": "2021-10-28T10:22:20.752Z"
   },
   {
    "duration": 29,
    "start_time": "2021-10-28T10:22:20.775Z"
   },
   {
    "duration": 42,
    "start_time": "2021-10-28T10:22:20.806Z"
   },
   {
    "duration": 24,
    "start_time": "2021-10-28T10:22:20.851Z"
   },
   {
    "duration": 19,
    "start_time": "2021-10-28T10:22:20.877Z"
   },
   {
    "duration": 38,
    "start_time": "2021-10-28T10:22:20.898Z"
   },
   {
    "duration": 21,
    "start_time": "2021-10-28T10:22:20.943Z"
   },
   {
    "duration": 24,
    "start_time": "2021-10-28T10:22:20.967Z"
   },
   {
    "duration": 36,
    "start_time": "2021-10-28T10:22:20.993Z"
   },
   {
    "duration": 19,
    "start_time": "2021-10-28T10:22:21.031Z"
   },
   {
    "duration": 21,
    "start_time": "2021-10-28T10:22:21.053Z"
   },
   {
    "duration": 30,
    "start_time": "2021-10-28T10:22:21.077Z"
   },
   {
    "duration": 31,
    "start_time": "2021-10-28T10:22:21.110Z"
   },
   {
    "duration": 16,
    "start_time": "2021-10-28T10:22:21.144Z"
   },
   {
    "duration": 36,
    "start_time": "2021-10-28T10:22:21.162Z"
   },
   {
    "duration": 9,
    "start_time": "2021-10-28T10:22:21.200Z"
   },
   {
    "duration": 1003,
    "start_time": "2021-10-28T10:22:21.211Z"
   },
   {
    "duration": 14,
    "start_time": "2021-10-28T10:22:22.222Z"
   },
   {
    "duration": 14,
    "start_time": "2021-10-28T10:22:22.239Z"
   },
   {
    "duration": 72,
    "start_time": "2021-10-28T10:22:22.256Z"
   },
   {
    "duration": 11,
    "start_time": "2021-10-28T10:22:22.331Z"
   },
   {
    "duration": 28,
    "start_time": "2021-10-28T10:22:22.346Z"
   },
   {
    "duration": 63,
    "start_time": "2021-10-28T10:22:22.377Z"
   },
   {
    "duration": 48,
    "start_time": "2021-10-28T10:22:22.444Z"
   },
   {
    "duration": 48,
    "start_time": "2021-10-28T10:22:22.494Z"
   },
   {
    "duration": 12,
    "start_time": "2021-10-28T10:22:22.545Z"
   },
   {
    "duration": 19,
    "start_time": "2021-10-28T10:22:22.560Z"
   },
   {
    "duration": 104,
    "start_time": "2021-10-28T10:22:22.582Z"
   },
   {
    "duration": 7,
    "start_time": "2021-10-28T10:22:22.689Z"
   },
   {
    "duration": 24,
    "start_time": "2021-10-28T10:22:22.698Z"
   },
   {
    "duration": 7,
    "start_time": "2021-10-28T10:22:22.728Z"
   },
   {
    "duration": 102,
    "start_time": "2021-10-28T10:22:22.738Z"
   },
   {
    "duration": 17,
    "start_time": "2021-10-28T10:22:22.844Z"
   },
   {
    "duration": 8,
    "start_time": "2021-10-28T10:22:22.864Z"
   },
   {
    "duration": 19727,
    "start_time": "2021-10-28T10:22:22.875Z"
   },
   {
    "duration": 4,
    "start_time": "2021-10-28T10:22:42.605Z"
   },
   {
    "duration": 91,
    "start_time": "2021-10-28T10:22:42.611Z"
   },
   {
    "duration": 21,
    "start_time": "2021-10-28T10:22:42.704Z"
   },
   {
    "duration": 9,
    "start_time": "2021-10-28T10:22:42.728Z"
   },
   {
    "duration": 14,
    "start_time": "2021-10-28T10:22:42.740Z"
   },
   {
    "duration": 10,
    "start_time": "2021-10-28T10:22:42.757Z"
   },
   {
    "duration": 32218,
    "start_time": "2021-10-28T10:22:42.769Z"
   },
   {
    "duration": 5,
    "start_time": "2021-10-28T10:23:14.989Z"
   },
   {
    "duration": 97,
    "start_time": "2021-10-28T10:23:14.996Z"
   },
   {
    "duration": 9,
    "start_time": "2021-10-28T10:23:15.095Z"
   },
   {
    "duration": 10,
    "start_time": "2021-10-28T10:23:15.126Z"
   },
   {
    "duration": 88,
    "start_time": "2021-10-28T10:23:15.140Z"
   },
   {
    "duration": 168,
    "start_time": "2021-10-28T10:29:16.529Z"
   },
   {
    "duration": 43,
    "start_time": "2021-10-28T10:34:20.250Z"
   },
   {
    "duration": 31,
    "start_time": "2021-10-28T10:37:40.345Z"
   },
   {
    "duration": 251,
    "start_time": "2021-10-28T10:39:20.020Z"
   },
   {
    "duration": 3620,
    "start_time": "2021-10-28T12:29:29.448Z"
   },
   {
    "duration": 1462,
    "start_time": "2021-10-28T12:29:33.071Z"
   },
   {
    "duration": 82,
    "start_time": "2021-10-28T12:29:34.536Z"
   },
   {
    "duration": 14,
    "start_time": "2021-10-28T12:29:34.621Z"
   },
   {
    "duration": 47,
    "start_time": "2021-10-28T12:29:34.638Z"
   },
   {
    "duration": 34,
    "start_time": "2021-10-28T12:29:34.688Z"
   },
   {
    "duration": 9,
    "start_time": "2021-10-28T12:29:34.725Z"
   },
   {
    "duration": 11,
    "start_time": "2021-10-28T12:29:34.738Z"
   },
   {
    "duration": 17,
    "start_time": "2021-10-28T12:29:34.752Z"
   },
   {
    "duration": 52,
    "start_time": "2021-10-28T12:29:34.771Z"
   },
   {
    "duration": 7,
    "start_time": "2021-10-28T12:29:34.825Z"
   },
   {
    "duration": 5,
    "start_time": "2021-10-28T12:29:34.834Z"
   },
   {
    "duration": 16,
    "start_time": "2021-10-28T12:29:34.841Z"
   },
   {
    "duration": 5,
    "start_time": "2021-10-28T12:29:34.859Z"
   },
   {
    "duration": 5,
    "start_time": "2021-10-28T12:29:34.867Z"
   },
   {
    "duration": 53,
    "start_time": "2021-10-28T12:29:34.875Z"
   },
   {
    "duration": 13,
    "start_time": "2021-10-28T12:29:34.930Z"
   },
   {
    "duration": 133,
    "start_time": "2021-10-28T12:29:34.945Z"
   },
   {
    "duration": 53,
    "start_time": "2021-10-28T12:29:35.080Z"
   },
   {
    "duration": 29,
    "start_time": "2021-10-28T12:29:35.136Z"
   },
   {
    "duration": 204,
    "start_time": "2021-10-28T12:29:35.167Z"
   },
   {
    "duration": 4,
    "start_time": "2021-10-28T12:29:35.373Z"
   },
   {
    "duration": 10,
    "start_time": "2021-10-28T12:29:35.383Z"
   },
   {
    "duration": 12,
    "start_time": "2021-10-28T12:29:35.423Z"
   },
   {
    "duration": 6,
    "start_time": "2021-10-28T12:29:35.438Z"
   },
   {
    "duration": 10,
    "start_time": "2021-10-28T12:29:35.447Z"
   },
   {
    "duration": 23,
    "start_time": "2021-10-28T12:29:35.460Z"
   },
   {
    "duration": 44,
    "start_time": "2021-10-28T12:29:35.486Z"
   },
   {
    "duration": 11,
    "start_time": "2021-10-28T12:29:35.532Z"
   },
   {
    "duration": 9,
    "start_time": "2021-10-28T12:29:35.546Z"
   },
   {
    "duration": 8,
    "start_time": "2021-10-28T12:29:35.558Z"
   },
   {
    "duration": 59,
    "start_time": "2021-10-28T12:29:35.569Z"
   },
   {
    "duration": 7,
    "start_time": "2021-10-28T12:29:35.631Z"
   },
   {
    "duration": 11,
    "start_time": "2021-10-28T12:29:35.641Z"
   },
   {
    "duration": 11,
    "start_time": "2021-10-28T12:29:35.655Z"
   },
   {
    "duration": 58,
    "start_time": "2021-10-28T12:29:35.669Z"
   },
   {
    "duration": 11,
    "start_time": "2021-10-28T12:29:35.729Z"
   },
   {
    "duration": 8,
    "start_time": "2021-10-28T12:29:35.742Z"
   },
   {
    "duration": 6,
    "start_time": "2021-10-28T12:29:35.752Z"
   },
   {
    "duration": 8,
    "start_time": "2021-10-28T12:29:35.760Z"
   },
   {
    "duration": 945,
    "start_time": "2021-10-28T12:29:35.771Z"
   },
   {
    "duration": 6,
    "start_time": "2021-10-28T12:29:36.718Z"
   },
   {
    "duration": 6,
    "start_time": "2021-10-28T12:29:36.726Z"
   },
   {
    "duration": 46,
    "start_time": "2021-10-28T12:29:36.735Z"
   },
   {
    "duration": 44,
    "start_time": "2021-10-28T12:29:36.783Z"
   },
   {
    "duration": 28,
    "start_time": "2021-10-28T12:29:36.830Z"
   },
   {
    "duration": 23,
    "start_time": "2021-10-28T12:29:36.861Z"
   },
   {
    "duration": 77,
    "start_time": "2021-10-28T12:29:36.886Z"
   },
   {
    "duration": 16,
    "start_time": "2021-10-28T12:29:36.966Z"
   },
   {
    "duration": 8,
    "start_time": "2021-10-28T12:29:36.985Z"
   },
   {
    "duration": 7,
    "start_time": "2021-10-28T12:29:37.022Z"
   },
   {
    "duration": 94,
    "start_time": "2021-10-28T12:29:37.032Z"
   },
   {
    "duration": 10,
    "start_time": "2021-10-28T12:29:37.129Z"
   },
   {
    "duration": 10,
    "start_time": "2021-10-28T12:29:37.142Z"
   },
   {
    "duration": 7,
    "start_time": "2021-10-28T12:29:37.154Z"
   },
   {
    "duration": 104,
    "start_time": "2021-10-28T12:29:37.163Z"
   },
   {
    "duration": 9,
    "start_time": "2021-10-28T12:29:37.269Z"
   },
   {
    "duration": 7,
    "start_time": "2021-10-28T12:29:37.280Z"
   },
   {
    "duration": 17999,
    "start_time": "2021-10-28T12:29:37.290Z"
   },
   {
    "duration": 4,
    "start_time": "2021-10-28T12:29:55.292Z"
   },
   {
    "duration": 95,
    "start_time": "2021-10-28T12:29:55.299Z"
   },
   {
    "duration": 27,
    "start_time": "2021-10-28T12:29:55.397Z"
   },
   {
    "duration": 8,
    "start_time": "2021-10-28T12:29:55.427Z"
   },
   {
    "duration": 16,
    "start_time": "2021-10-28T12:29:55.437Z"
   },
   {
    "duration": 15,
    "start_time": "2021-10-28T12:29:55.455Z"
   },
   {
    "duration": 28619,
    "start_time": "2021-10-28T12:29:55.473Z"
   },
   {
    "duration": 4,
    "start_time": "2021-10-28T12:30:24.095Z"
   },
   {
    "duration": 94,
    "start_time": "2021-10-28T12:30:24.106Z"
   },
   {
    "duration": 29,
    "start_time": "2021-10-28T12:30:24.203Z"
   },
   {
    "duration": 6,
    "start_time": "2021-10-28T12:30:24.235Z"
   },
   {
    "duration": 101,
    "start_time": "2021-10-28T12:30:24.244Z"
   },
   {
    "duration": 17,
    "start_time": "2021-10-28T12:33:56.475Z"
   },
   {
    "duration": 9,
    "start_time": "2021-10-28T12:38:06.011Z"
   },
   {
    "duration": 8,
    "start_time": "2021-10-28T12:38:15.364Z"
   },
   {
    "duration": 9,
    "start_time": "2021-10-28T12:38:21.628Z"
   },
   {
    "duration": 9,
    "start_time": "2021-10-28T12:38:34.247Z"
   },
   {
    "duration": 9,
    "start_time": "2021-10-28T12:38:45.484Z"
   },
   {
    "duration": 9,
    "start_time": "2021-10-28T12:39:02.243Z"
   },
   {
    "duration": 8,
    "start_time": "2021-10-28T12:39:06.856Z"
   },
   {
    "duration": 8,
    "start_time": "2021-10-28T12:39:14.528Z"
   },
   {
    "duration": 9,
    "start_time": "2021-10-28T12:39:21.099Z"
   },
   {
    "duration": 9,
    "start_time": "2021-10-28T12:39:26.025Z"
   },
   {
    "duration": 8,
    "start_time": "2021-10-28T12:42:31.333Z"
   },
   {
    "duration": 4,
    "start_time": "2021-10-28T12:45:01.266Z"
   },
   {
    "duration": 8,
    "start_time": "2021-10-28T12:45:13.829Z"
   },
   {
    "duration": 8,
    "start_time": "2021-10-28T12:45:27.227Z"
   },
   {
    "duration": 98,
    "start_time": "2021-10-28T12:51:14.106Z"
   },
   {
    "duration": 139,
    "start_time": "2021-10-28T12:51:20.993Z"
   },
   {
    "duration": 124,
    "start_time": "2021-10-28T12:51:29.334Z"
   },
   {
    "duration": 455,
    "start_time": "2021-10-28T12:51:43.213Z"
   },
   {
    "duration": 150,
    "start_time": "2021-10-28T12:57:33.931Z"
   },
   {
    "duration": 92,
    "start_time": "2021-10-28T12:58:09.534Z"
   },
   {
    "duration": 8,
    "start_time": "2021-10-28T13:00:28.136Z"
   },
   {
    "duration": 3491,
    "start_time": "2021-10-28T13:01:06.898Z"
   },
   {
    "duration": 6,
    "start_time": "2021-10-28T13:01:39.391Z"
   },
   {
    "duration": 398,
    "start_time": "2021-10-28T14:25:22.032Z"
   },
   {
    "duration": 324,
    "start_time": "2021-10-28T14:26:13.487Z"
   },
   {
    "duration": 3943,
    "start_time": "2021-10-28T14:27:59.278Z"
   },
   {
    "duration": 1477,
    "start_time": "2021-10-28T14:28:03.225Z"
   },
   {
    "duration": 81,
    "start_time": "2021-10-28T14:28:04.705Z"
   },
   {
    "duration": 32,
    "start_time": "2021-10-28T14:28:04.790Z"
   },
   {
    "duration": 49,
    "start_time": "2021-10-28T14:28:04.824Z"
   },
   {
    "duration": 7,
    "start_time": "2021-10-28T14:28:04.875Z"
   },
   {
    "duration": 40,
    "start_time": "2021-10-28T14:28:04.884Z"
   },
   {
    "duration": 8,
    "start_time": "2021-10-28T14:28:04.928Z"
   },
   {
    "duration": 14,
    "start_time": "2021-10-28T14:28:04.940Z"
   },
   {
    "duration": 18,
    "start_time": "2021-10-28T14:28:04.956Z"
   },
   {
    "duration": 49,
    "start_time": "2021-10-28T14:28:04.976Z"
   },
   {
    "duration": 5,
    "start_time": "2021-10-28T14:28:05.027Z"
   },
   {
    "duration": 18,
    "start_time": "2021-10-28T14:28:05.035Z"
   },
   {
    "duration": 7,
    "start_time": "2021-10-28T14:28:05.056Z"
   },
   {
    "duration": 7,
    "start_time": "2021-10-28T14:28:05.065Z"
   },
   {
    "duration": 436,
    "start_time": "2021-10-28T14:28:05.074Z"
   },
   {
    "duration": 222,
    "start_time": "2021-10-28T14:28:05.293Z"
   },
   {
    "duration": 219,
    "start_time": "2021-10-28T14:28:05.298Z"
   },
   {
    "duration": 206,
    "start_time": "2021-10-28T14:28:05.312Z"
   },
   {
    "duration": 198,
    "start_time": "2021-10-28T14:28:05.321Z"
   },
   {
    "duration": 189,
    "start_time": "2021-10-28T14:28:05.332Z"
   },
   {
    "duration": 187,
    "start_time": "2021-10-28T14:28:05.336Z"
   },
   {
    "duration": 177,
    "start_time": "2021-10-28T14:28:05.347Z"
   },
   {
    "duration": 174,
    "start_time": "2021-10-28T14:28:05.351Z"
   },
   {
    "duration": 164,
    "start_time": "2021-10-28T14:28:05.362Z"
   },
   {
    "duration": 161,
    "start_time": "2021-10-28T14:28:05.366Z"
   },
   {
    "duration": 150,
    "start_time": "2021-10-28T14:28:05.379Z"
   },
   {
    "duration": 146,
    "start_time": "2021-10-28T14:28:05.384Z"
   },
   {
    "duration": 134,
    "start_time": "2021-10-28T14:28:05.397Z"
   },
   {
    "duration": 131,
    "start_time": "2021-10-28T14:28:05.401Z"
   },
   {
    "duration": 121,
    "start_time": "2021-10-28T14:28:05.412Z"
   },
   {
    "duration": 118,
    "start_time": "2021-10-28T14:28:05.417Z"
   },
   {
    "duration": 114,
    "start_time": "2021-10-28T14:28:05.422Z"
   },
   {
    "duration": 112,
    "start_time": "2021-10-28T14:28:05.425Z"
   },
   {
    "duration": 108,
    "start_time": "2021-10-28T14:28:05.430Z"
   },
   {
    "duration": 106,
    "start_time": "2021-10-28T14:28:05.434Z"
   },
   {
    "duration": 102,
    "start_time": "2021-10-28T14:28:05.439Z"
   },
   {
    "duration": 77,
    "start_time": "2021-10-28T14:28:05.465Z"
   },
   {
    "duration": 74,
    "start_time": "2021-10-28T14:28:05.469Z"
   },
   {
    "duration": 72,
    "start_time": "2021-10-28T14:28:05.473Z"
   },
   {
    "duration": 68,
    "start_time": "2021-10-28T14:28:05.478Z"
   },
   {
    "duration": 65,
    "start_time": "2021-10-28T14:28:05.482Z"
   },
   {
    "duration": 62,
    "start_time": "2021-10-28T14:28:05.487Z"
   },
   {
    "duration": 60,
    "start_time": "2021-10-28T14:28:05.490Z"
   },
   {
    "duration": 24,
    "start_time": "2021-10-28T14:28:05.527Z"
   },
   {
    "duration": 21,
    "start_time": "2021-10-28T14:28:05.532Z"
   },
   {
    "duration": 1,
    "start_time": "2021-10-28T14:28:05.553Z"
   },
   {
    "duration": -8,
    "start_time": "2021-10-28T14:28:05.564Z"
   },
   {
    "duration": -20,
    "start_time": "2021-10-28T14:28:05.577Z"
   },
   {
    "duration": -21,
    "start_time": "2021-10-28T14:28:05.580Z"
   },
   {
    "duration": -54,
    "start_time": "2021-10-28T14:28:05.614Z"
   },
   {
    "duration": -70,
    "start_time": "2021-10-28T14:28:05.631Z"
   },
   {
    "duration": -14,
    "start_time": "2021-10-28T14:28:05.636Z"
   },
   {
    "duration": -23,
    "start_time": "2021-10-28T14:28:05.647Z"
   },
   {
    "duration": -28,
    "start_time": "2021-10-28T14:28:05.654Z"
   },
   {
    "duration": -38,
    "start_time": "2021-10-28T14:28:05.665Z"
   },
   {
    "duration": -68,
    "start_time": "2021-10-28T14:28:05.697Z"
   },
   {
    "duration": -71,
    "start_time": "2021-10-28T14:28:05.701Z"
   },
   {
    "duration": -81,
    "start_time": "2021-10-28T14:28:05.712Z"
   },
   {
    "duration": -83,
    "start_time": "2021-10-28T14:28:05.716Z"
   },
   {
    "duration": -87,
    "start_time": "2021-10-28T14:28:05.721Z"
   },
   {
    "duration": -96,
    "start_time": "2021-10-28T14:28:05.731Z"
   },
   {
    "duration": -128,
    "start_time": "2021-10-28T14:28:05.764Z"
   },
   {
    "duration": -145,
    "start_time": "2021-10-28T14:28:05.782Z"
   },
   {
    "duration": -155,
    "start_time": "2021-10-28T14:28:05.793Z"
   },
   {
    "duration": -162,
    "start_time": "2021-10-28T14:28:05.802Z"
   },
   {
    "duration": -178,
    "start_time": "2021-10-28T14:28:05.819Z"
   },
   {
    "duration": -193,
    "start_time": "2021-10-28T14:28:05.835Z"
   },
   {
    "duration": -203,
    "start_time": "2021-10-28T14:28:05.846Z"
   },
   {
    "duration": -206,
    "start_time": "2021-10-28T14:28:05.850Z"
   },
   {
    "duration": -216,
    "start_time": "2021-10-28T14:28:05.861Z"
   },
   {
    "duration": -219,
    "start_time": "2021-10-28T14:28:05.865Z"
   },
   {
    "duration": -233,
    "start_time": "2021-10-28T14:28:05.881Z"
   },
   {
    "duration": 5689,
    "start_time": "2021-10-28T14:31:26.365Z"
   },
   {
    "duration": 432,
    "start_time": "2021-10-28T14:32:31.907Z"
   },
   {
    "duration": 799,
    "start_time": "2021-10-28T14:32:49.467Z"
   },
   {
    "duration": 7001,
    "start_time": "2021-10-28T14:33:22.357Z"
   },
   {
    "duration": 6,
    "start_time": "2021-10-28T14:33:42.895Z"
   },
   {
    "duration": 7,
    "start_time": "2021-10-28T14:35:14.362Z"
   },
   {
    "duration": 4123,
    "start_time": "2021-10-28T14:41:17.210Z"
   },
   {
    "duration": 1452,
    "start_time": "2021-10-28T14:41:21.336Z"
   },
   {
    "duration": 112,
    "start_time": "2021-10-28T14:41:22.792Z"
   },
   {
    "duration": 25,
    "start_time": "2021-10-28T14:41:22.907Z"
   },
   {
    "duration": 64,
    "start_time": "2021-10-28T14:41:22.935Z"
   },
   {
    "duration": 23,
    "start_time": "2021-10-28T14:41:23.002Z"
   },
   {
    "duration": 10,
    "start_time": "2021-10-28T14:41:23.028Z"
   },
   {
    "duration": 10,
    "start_time": "2021-10-28T14:41:23.040Z"
   },
   {
    "duration": 14,
    "start_time": "2021-10-28T14:41:23.054Z"
   },
   {
    "duration": 60,
    "start_time": "2021-10-28T14:41:23.071Z"
   },
   {
    "duration": 6,
    "start_time": "2021-10-28T14:41:23.133Z"
   },
   {
    "duration": 4,
    "start_time": "2021-10-28T14:41:23.142Z"
   },
   {
    "duration": 16,
    "start_time": "2021-10-28T14:41:23.148Z"
   },
   {
    "duration": 6,
    "start_time": "2021-10-28T14:41:23.166Z"
   },
   {
    "duration": 4,
    "start_time": "2021-10-28T14:41:23.175Z"
   },
   {
    "duration": 5087,
    "start_time": "2021-10-28T14:41:23.222Z"
   },
   {
    "duration": 17,
    "start_time": "2021-10-28T14:41:28.311Z"
   },
   {
    "duration": 16,
    "start_time": "2021-10-28T14:41:28.331Z"
   },
   {
    "duration": 190,
    "start_time": "2021-10-28T14:41:28.350Z"
   },
   {
    "duration": 46,
    "start_time": "2021-10-28T14:41:28.542Z"
   },
   {
    "duration": 61,
    "start_time": "2021-10-28T14:41:28.591Z"
   },
   {
    "duration": 199,
    "start_time": "2021-10-28T14:41:28.655Z"
   },
   {
    "duration": 6,
    "start_time": "2021-10-28T14:41:28.857Z"
   },
   {
    "duration": 11,
    "start_time": "2021-10-28T14:41:28.866Z"
   },
   {
    "duration": 45,
    "start_time": "2021-10-28T14:41:28.880Z"
   },
   {
    "duration": 6,
    "start_time": "2021-10-28T14:41:28.928Z"
   },
   {
    "duration": 8,
    "start_time": "2021-10-28T14:41:28.942Z"
   },
   {
    "duration": 18,
    "start_time": "2021-10-28T14:41:28.955Z"
   },
   {
    "duration": 54,
    "start_time": "2021-10-28T14:41:28.976Z"
   },
   {
    "duration": 9,
    "start_time": "2021-10-28T14:41:29.033Z"
   },
   {
    "duration": 10,
    "start_time": "2021-10-28T14:41:29.045Z"
   },
   {
    "duration": 9,
    "start_time": "2021-10-28T14:41:29.058Z"
   },
   {
    "duration": 55,
    "start_time": "2021-10-28T14:41:29.069Z"
   },
   {
    "duration": 6,
    "start_time": "2021-10-28T14:41:29.127Z"
   },
   {
    "duration": 8,
    "start_time": "2021-10-28T14:41:29.136Z"
   },
   {
    "duration": 10,
    "start_time": "2021-10-28T14:41:29.146Z"
   },
   {
    "duration": 10,
    "start_time": "2021-10-28T14:41:29.158Z"
   },
   {
    "duration": 60,
    "start_time": "2021-10-28T14:41:29.170Z"
   },
   {
    "duration": 6,
    "start_time": "2021-10-28T14:41:29.233Z"
   },
   {
    "duration": 7,
    "start_time": "2021-10-28T14:41:29.242Z"
   },
   {
    "duration": 9,
    "start_time": "2021-10-28T14:41:29.251Z"
   },
   {
    "duration": 967,
    "start_time": "2021-10-28T14:41:29.262Z"
   },
   {
    "duration": 6,
    "start_time": "2021-10-28T14:41:30.232Z"
   },
   {
    "duration": 20,
    "start_time": "2021-10-28T14:41:30.241Z"
   },
   {
    "duration": 60,
    "start_time": "2021-10-28T14:41:30.264Z"
   },
   {
    "duration": 8,
    "start_time": "2021-10-28T14:41:30.326Z"
   },
   {
    "duration": 35,
    "start_time": "2021-10-28T14:41:30.336Z"
   },
   {
    "duration": 24,
    "start_time": "2021-10-28T14:41:30.374Z"
   },
   {
    "duration": 45,
    "start_time": "2021-10-28T14:41:30.422Z"
   },
   {
    "duration": 16,
    "start_time": "2021-10-28T14:41:30.469Z"
   },
   {
    "duration": 39,
    "start_time": "2021-10-28T14:41:30.487Z"
   },
   {
    "duration": 6,
    "start_time": "2021-10-28T14:41:30.529Z"
   },
   {
    "duration": 92,
    "start_time": "2021-10-28T14:41:30.538Z"
   },
   {
    "duration": 10,
    "start_time": "2021-10-28T14:41:30.633Z"
   },
   {
    "duration": 28,
    "start_time": "2021-10-28T14:41:30.646Z"
   },
   {
    "duration": 20,
    "start_time": "2021-10-28T14:41:30.677Z"
   },
   {
    "duration": 87,
    "start_time": "2021-10-28T14:41:30.700Z"
   },
   {
    "duration": 10,
    "start_time": "2021-10-28T14:41:30.790Z"
   },
   {
    "duration": 25,
    "start_time": "2021-10-28T14:41:30.803Z"
   },
   {
    "duration": 18576,
    "start_time": "2021-10-28T14:41:30.831Z"
   },
   {
    "duration": 4,
    "start_time": "2021-10-28T14:41:49.409Z"
   },
   {
    "duration": 71,
    "start_time": "2021-10-28T14:41:49.423Z"
   },
   {
    "duration": 28,
    "start_time": "2021-10-28T14:41:49.496Z"
   },
   {
    "duration": 8,
    "start_time": "2021-10-28T14:41:49.526Z"
   },
   {
    "duration": 8,
    "start_time": "2021-10-28T14:41:49.536Z"
   },
   {
    "duration": 9,
    "start_time": "2021-10-28T14:41:49.547Z"
   },
   {
    "duration": 32518,
    "start_time": "2021-10-28T14:41:49.559Z"
   },
   {
    "duration": 4,
    "start_time": "2021-10-28T14:42:22.080Z"
   },
   {
    "duration": 89,
    "start_time": "2021-10-28T14:42:22.087Z"
   },
   {
    "duration": 9,
    "start_time": "2021-10-28T14:42:22.179Z"
   },
   {
    "duration": 5,
    "start_time": "2021-10-28T14:42:22.191Z"
   },
   {
    "duration": 70,
    "start_time": "2021-10-28T14:42:22.222Z"
   },
   {
    "duration": 77,
    "start_time": "2021-10-28T14:48:29.670Z"
   },
   {
    "duration": 16,
    "start_time": "2021-10-28T14:57:35.130Z"
   },
   {
    "duration": 7817,
    "start_time": "2021-10-28T14:58:16.688Z"
   },
   {
    "duration": 13,
    "start_time": "2021-10-28T14:59:07.577Z"
   },
   {
    "duration": 17,
    "start_time": "2021-10-28T15:00:03.393Z"
   },
   {
    "duration": 34,
    "start_time": "2021-10-28T15:01:01.191Z"
   },
   {
    "duration": 295,
    "start_time": "2021-10-28T15:05:17.561Z"
   },
   {
    "duration": 294,
    "start_time": "2021-10-28T15:05:25.927Z"
   },
   {
    "duration": 7,
    "start_time": "2021-10-28T15:06:25.259Z"
   },
   {
    "duration": 8,
    "start_time": "2021-10-28T15:06:38.662Z"
   },
   {
    "duration": 31,
    "start_time": "2021-10-28T15:11:18.562Z"
   },
   {
    "duration": 58,
    "start_time": "2021-10-28T15:22:17.608Z"
   },
   {
    "duration": 71,
    "start_time": "2021-10-28T15:24:24.847Z"
   },
   {
    "duration": 7,
    "start_time": "2021-10-28T15:28:02.407Z"
   },
   {
    "duration": 10,
    "start_time": "2021-10-28T15:28:06.609Z"
   },
   {
    "duration": 6651,
    "start_time": "2021-10-28T15:40:14.970Z"
   },
   {
    "duration": 36,
    "start_time": "2021-10-28T15:42:04.108Z"
   },
   {
    "duration": 35,
    "start_time": "2021-10-28T15:42:26.398Z"
   },
   {
    "duration": 35,
    "start_time": "2021-10-28T15:42:45.855Z"
   },
   {
    "duration": 33,
    "start_time": "2021-10-28T15:44:36.543Z"
   },
   {
    "duration": 53,
    "start_time": "2021-10-28T15:51:13.891Z"
   },
   {
    "duration": 62,
    "start_time": "2021-10-28T15:53:08.518Z"
   },
   {
    "duration": 3878,
    "start_time": "2021-10-28T16:03:18.652Z"
   },
   {
    "duration": 1597,
    "start_time": "2021-10-28T16:03:22.533Z"
   },
   {
    "duration": 83,
    "start_time": "2021-10-28T16:03:24.134Z"
   },
   {
    "duration": 21,
    "start_time": "2021-10-28T16:03:24.221Z"
   },
   {
    "duration": 88,
    "start_time": "2021-10-28T16:03:24.246Z"
   },
   {
    "duration": 8,
    "start_time": "2021-10-28T16:03:24.337Z"
   },
   {
    "duration": 13,
    "start_time": "2021-10-28T16:03:24.348Z"
   },
   {
    "duration": 11,
    "start_time": "2021-10-28T16:03:24.366Z"
   },
   {
    "duration": 54,
    "start_time": "2021-10-28T16:03:24.381Z"
   },
   {
    "duration": 23,
    "start_time": "2021-10-28T16:03:24.438Z"
   },
   {
    "duration": 14,
    "start_time": "2021-10-28T16:03:24.464Z"
   },
   {
    "duration": 6,
    "start_time": "2021-10-28T16:03:24.480Z"
   },
   {
    "duration": 42,
    "start_time": "2021-10-28T16:03:24.489Z"
   },
   {
    "duration": 9,
    "start_time": "2021-10-28T16:03:24.534Z"
   },
   {
    "duration": 6,
    "start_time": "2021-10-28T16:03:24.546Z"
   },
   {
    "duration": 5427,
    "start_time": "2021-10-28T16:03:24.555Z"
   },
   {
    "duration": 14,
    "start_time": "2021-10-28T16:03:29.985Z"
   },
   {
    "duration": 34,
    "start_time": "2021-10-28T16:03:30.002Z"
   },
   {
    "duration": 134,
    "start_time": "2021-10-28T16:03:30.039Z"
   },
   {
    "duration": 57,
    "start_time": "2021-10-28T16:03:30.177Z"
   },
   {
    "duration": 32,
    "start_time": "2021-10-28T16:03:30.237Z"
   },
   {
    "duration": 206,
    "start_time": "2021-10-28T16:03:30.272Z"
   },
   {
    "duration": 6,
    "start_time": "2021-10-28T16:03:30.488Z"
   },
   {
    "duration": 34,
    "start_time": "2021-10-28T16:03:30.498Z"
   },
   {
    "duration": 51,
    "start_time": "2021-10-28T16:03:30.534Z"
   },
   {
    "duration": 39,
    "start_time": "2021-10-28T16:03:30.587Z"
   },
   {
    "duration": 24,
    "start_time": "2021-10-28T16:03:30.628Z"
   },
   {
    "duration": 35,
    "start_time": "2021-10-28T16:03:30.654Z"
   },
   {
    "duration": 59,
    "start_time": "2021-10-28T16:03:30.692Z"
   },
   {
    "duration": 20,
    "start_time": "2021-10-28T16:03:30.753Z"
   },
   {
    "duration": 47,
    "start_time": "2021-10-28T16:03:30.776Z"
   },
   {
    "duration": 37,
    "start_time": "2021-10-28T16:03:30.825Z"
   },
   {
    "duration": 9,
    "start_time": "2021-10-28T16:03:30.866Z"
   },
   {
    "duration": 25,
    "start_time": "2021-10-28T16:03:30.878Z"
   },
   {
    "duration": 37,
    "start_time": "2021-10-28T16:03:30.923Z"
   },
   {
    "duration": 11,
    "start_time": "2021-10-28T16:03:30.963Z"
   },
   {
    "duration": 45,
    "start_time": "2021-10-28T16:03:30.977Z"
   },
   {
    "duration": 28,
    "start_time": "2021-10-28T16:03:31.025Z"
   },
   {
    "duration": 14,
    "start_time": "2021-10-28T16:03:31.056Z"
   },
   {
    "duration": 11,
    "start_time": "2021-10-28T16:03:31.073Z"
   },
   {
    "duration": 13,
    "start_time": "2021-10-28T16:03:31.087Z"
   },
   {
    "duration": 8,
    "start_time": "2021-10-28T16:03:31.123Z"
   },
   {
    "duration": 22,
    "start_time": "2021-10-28T16:03:31.133Z"
   },
   {
    "duration": 22,
    "start_time": "2021-10-28T16:03:31.158Z"
   },
   {
    "duration": 1139,
    "start_time": "2021-10-28T16:03:31.183Z"
   },
   {
    "duration": 6,
    "start_time": "2021-10-28T16:03:32.325Z"
   },
   {
    "duration": 12,
    "start_time": "2021-10-28T16:03:32.333Z"
   },
   {
    "duration": 77,
    "start_time": "2021-10-28T16:03:32.347Z"
   },
   {
    "duration": 8,
    "start_time": "2021-10-28T16:03:32.427Z"
   },
   {
    "duration": 31,
    "start_time": "2021-10-28T16:03:32.438Z"
   },
   {
    "duration": 9,
    "start_time": "2021-10-28T16:03:32.472Z"
   },
   {
    "duration": 62,
    "start_time": "2021-10-28T16:03:32.484Z"
   },
   {
    "duration": 50,
    "start_time": "2021-10-28T16:03:32.549Z"
   },
   {
    "duration": 18,
    "start_time": "2021-10-28T16:03:32.624Z"
   },
   {
    "duration": 8,
    "start_time": "2021-10-28T16:03:32.645Z"
   },
   {
    "duration": 6,
    "start_time": "2021-10-28T16:03:32.655Z"
   },
   {
    "duration": 114,
    "start_time": "2021-10-28T16:03:32.664Z"
   },
   {
    "duration": 9,
    "start_time": "2021-10-28T16:03:32.781Z"
   },
   {
    "duration": 32,
    "start_time": "2021-10-28T16:03:32.793Z"
   },
   {
    "duration": 10,
    "start_time": "2021-10-28T16:03:32.828Z"
   },
   {
    "duration": 92,
    "start_time": "2021-10-28T16:03:32.840Z"
   },
   {
    "duration": 11,
    "start_time": "2021-10-28T16:03:32.935Z"
   },
   {
    "duration": 8,
    "start_time": "2021-10-28T16:03:32.949Z"
   },
   {
    "duration": 19149,
    "start_time": "2021-10-28T16:03:32.959Z"
   },
   {
    "duration": 12,
    "start_time": "2021-10-28T16:03:52.111Z"
   },
   {
    "duration": 74,
    "start_time": "2021-10-28T16:03:52.126Z"
   },
   {
    "duration": 25,
    "start_time": "2021-10-28T16:03:52.202Z"
   },
   {
    "duration": 7,
    "start_time": "2021-10-28T16:03:52.236Z"
   },
   {
    "duration": 9,
    "start_time": "2021-10-28T16:03:52.246Z"
   },
   {
    "duration": 9,
    "start_time": "2021-10-28T16:03:52.257Z"
   },
   {
    "duration": 30226,
    "start_time": "2021-10-28T16:03:52.268Z"
   },
   {
    "duration": 5,
    "start_time": "2021-10-28T16:04:22.498Z"
   },
   {
    "duration": 86,
    "start_time": "2021-10-28T16:04:22.506Z"
   },
   {
    "duration": 31,
    "start_time": "2021-10-28T16:04:22.595Z"
   },
   {
    "duration": 7,
    "start_time": "2021-10-28T16:04:22.629Z"
   },
   {
    "duration": 95,
    "start_time": "2021-10-28T16:04:22.638Z"
   }
  ],
  "kernelspec": {
   "display_name": "Python 3 (ipykernel)",
   "language": "python",
   "name": "python3"
  },
  "language_info": {
   "codemirror_mode": {
    "name": "ipython",
    "version": 3
   },
   "file_extension": ".py",
   "mimetype": "text/x-python",
   "name": "python",
   "nbconvert_exporter": "python",
   "pygments_lexer": "ipython3",
   "version": "3.9.12"
  },
  "toc": {
   "base_numbering": 1,
   "nav_menu": {},
   "number_sections": true,
   "sideBar": false,
   "skip_h1_title": true,
   "title_cell": "Table of Contents",
   "title_sidebar": "Contents",
   "toc_cell": false,
   "toc_position": {
    "height": "565.6px",
    "left": "1168px",
    "top": "124px",
    "width": "307.2px"
   },
   "toc_section_display": false,
   "toc_window_display": true
  }
 },
 "nbformat": 4,
 "nbformat_minor": 4
}
