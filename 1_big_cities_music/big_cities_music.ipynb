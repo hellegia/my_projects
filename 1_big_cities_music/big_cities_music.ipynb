{
 "cells": [
  {
   "cell_type": "markdown",
   "metadata": {
    "id": "Ml1hmfXC_Zcs"
   },
   "source": [
    "## Обзор данных\n",
    "\n",
    "Составим первое представление о данных Яндекс.Музыки."
   ]
  },
  {
   "cell_type": "code",
   "execution_count": 1,
   "metadata": {
    "id": "AXN7PHPN_Zcs"
   },
   "outputs": [],
   "source": [
    "import pandas as pd\n",
    "import numpy as np"
   ]
  },
  {
   "cell_type": "code",
   "execution_count": 2,
   "metadata": {
    "id": "fFVu7vqh_Zct"
   },
   "outputs": [],
   "source": [
    "df = pd.read_csv('yandex_music_project.csv') # чтение файла с данными и сохранение в df"
   ]
  },
  {
   "cell_type": "code",
   "execution_count": 3,
   "metadata": {
    "id": "oWTVX3gW_Zct"
   },
   "outputs": [
    {
     "data": {
      "text/html": [
       "<div>\n",
       "<style scoped>\n",
       "    .dataframe tbody tr th:only-of-type {\n",
       "        vertical-align: middle;\n",
       "    }\n",
       "\n",
       "    .dataframe tbody tr th {\n",
       "        vertical-align: top;\n",
       "    }\n",
       "\n",
       "    .dataframe thead th {\n",
       "        text-align: right;\n",
       "    }\n",
       "</style>\n",
       "<table border=\"1\" class=\"dataframe\">\n",
       "  <thead>\n",
       "    <tr style=\"text-align: right;\">\n",
       "      <th></th>\n",
       "      <th>userID</th>\n",
       "      <th>Track</th>\n",
       "      <th>artist</th>\n",
       "      <th>genre</th>\n",
       "      <th>City</th>\n",
       "      <th>time</th>\n",
       "      <th>Day</th>\n",
       "    </tr>\n",
       "  </thead>\n",
       "  <tbody>\n",
       "    <tr>\n",
       "      <th>0</th>\n",
       "      <td>FFB692EC</td>\n",
       "      <td>Kamigata To Boots</td>\n",
       "      <td>The Mass Missile</td>\n",
       "      <td>rock</td>\n",
       "      <td>Saint-Petersburg</td>\n",
       "      <td>20:28:33</td>\n",
       "      <td>Wednesday</td>\n",
       "    </tr>\n",
       "    <tr>\n",
       "      <th>1</th>\n",
       "      <td>55204538</td>\n",
       "      <td>Delayed Because of Accident</td>\n",
       "      <td>Andreas Rönnberg</td>\n",
       "      <td>rock</td>\n",
       "      <td>Moscow</td>\n",
       "      <td>14:07:09</td>\n",
       "      <td>Friday</td>\n",
       "    </tr>\n",
       "    <tr>\n",
       "      <th>2</th>\n",
       "      <td>20EC38</td>\n",
       "      <td>Funiculì funiculà</td>\n",
       "      <td>Mario Lanza</td>\n",
       "      <td>pop</td>\n",
       "      <td>Saint-Petersburg</td>\n",
       "      <td>20:58:07</td>\n",
       "      <td>Wednesday</td>\n",
       "    </tr>\n",
       "    <tr>\n",
       "      <th>3</th>\n",
       "      <td>A3DD03C9</td>\n",
       "      <td>Dragons in the Sunset</td>\n",
       "      <td>Fire + Ice</td>\n",
       "      <td>folk</td>\n",
       "      <td>Saint-Petersburg</td>\n",
       "      <td>08:37:09</td>\n",
       "      <td>Monday</td>\n",
       "    </tr>\n",
       "    <tr>\n",
       "      <th>4</th>\n",
       "      <td>E2DC1FAE</td>\n",
       "      <td>Soul People</td>\n",
       "      <td>Space Echo</td>\n",
       "      <td>dance</td>\n",
       "      <td>Moscow</td>\n",
       "      <td>08:34:34</td>\n",
       "      <td>Monday</td>\n",
       "    </tr>\n",
       "    <tr>\n",
       "      <th>5</th>\n",
       "      <td>842029A1</td>\n",
       "      <td>Преданная</td>\n",
       "      <td>IMPERVTOR</td>\n",
       "      <td>rusrap</td>\n",
       "      <td>Saint-Petersburg</td>\n",
       "      <td>13:09:41</td>\n",
       "      <td>Friday</td>\n",
       "    </tr>\n",
       "    <tr>\n",
       "      <th>6</th>\n",
       "      <td>4CB90AA5</td>\n",
       "      <td>True</td>\n",
       "      <td>Roman Messer</td>\n",
       "      <td>dance</td>\n",
       "      <td>Moscow</td>\n",
       "      <td>13:00:07</td>\n",
       "      <td>Wednesday</td>\n",
       "    </tr>\n",
       "    <tr>\n",
       "      <th>7</th>\n",
       "      <td>F03E1C1F</td>\n",
       "      <td>Feeling This Way</td>\n",
       "      <td>Polina Griffith</td>\n",
       "      <td>dance</td>\n",
       "      <td>Moscow</td>\n",
       "      <td>20:47:49</td>\n",
       "      <td>Wednesday</td>\n",
       "    </tr>\n",
       "    <tr>\n",
       "      <th>8</th>\n",
       "      <td>8FA1D3BE</td>\n",
       "      <td>И вновь продолжается бой</td>\n",
       "      <td>NaN</td>\n",
       "      <td>ruspop</td>\n",
       "      <td>Moscow</td>\n",
       "      <td>09:17:40</td>\n",
       "      <td>Friday</td>\n",
       "    </tr>\n",
       "    <tr>\n",
       "      <th>9</th>\n",
       "      <td>E772D5C0</td>\n",
       "      <td>Pessimist</td>\n",
       "      <td>NaN</td>\n",
       "      <td>dance</td>\n",
       "      <td>Saint-Petersburg</td>\n",
       "      <td>21:20:49</td>\n",
       "      <td>Wednesday</td>\n",
       "    </tr>\n",
       "  </tbody>\n",
       "</table>\n",
       "</div>"
      ],
      "text/plain": [
       "     userID                        Track            artist   genre  \\\n",
       "0  FFB692EC            Kamigata To Boots  The Mass Missile    rock   \n",
       "1  55204538  Delayed Because of Accident  Andreas Rönnberg    rock   \n",
       "2    20EC38            Funiculì funiculà       Mario Lanza     pop   \n",
       "3  A3DD03C9        Dragons in the Sunset        Fire + Ice    folk   \n",
       "4  E2DC1FAE                  Soul People        Space Echo   dance   \n",
       "5  842029A1                    Преданная         IMPERVTOR  rusrap   \n",
       "6  4CB90AA5                         True      Roman Messer   dance   \n",
       "7  F03E1C1F             Feeling This Way   Polina Griffith   dance   \n",
       "8  8FA1D3BE     И вновь продолжается бой               NaN  ruspop   \n",
       "9  E772D5C0                    Pessimist               NaN   dance   \n",
       "\n",
       "             City        time        Day  \n",
       "0  Saint-Petersburg  20:28:33  Wednesday  \n",
       "1            Moscow  14:07:09     Friday  \n",
       "2  Saint-Petersburg  20:58:07  Wednesday  \n",
       "3  Saint-Petersburg  08:37:09     Monday  \n",
       "4            Moscow  08:34:34     Monday  \n",
       "5  Saint-Petersburg  13:09:41     Friday  \n",
       "6            Moscow  13:00:07  Wednesday  \n",
       "7            Moscow  20:47:49  Wednesday  \n",
       "8            Moscow  09:17:40     Friday  \n",
       "9  Saint-Petersburg  21:20:49  Wednesday  "
      ]
     },
     "metadata": {},
     "output_type": "display_data"
    }
   ],
   "source": [
    "display(df.head(10)) # получение первых 10 строк таблицы df"
   ]
  },
  {
   "cell_type": "code",
   "execution_count": 4,
   "metadata": {
    "id": "DSf2kIb-_Zct"
   },
   "outputs": [
    {
     "name": "stdout",
     "output_type": "stream",
     "text": [
      "<class 'pandas.core.frame.DataFrame'>\n",
      "RangeIndex: 65079 entries, 0 to 65078\n",
      "Data columns (total 7 columns):\n",
      " #   Column    Non-Null Count  Dtype \n",
      "---  ------    --------------  ----- \n",
      " 0     userID  65079 non-null  object\n",
      " 1   Track     63848 non-null  object\n",
      " 2   artist    57876 non-null  object\n",
      " 3   genre     63881 non-null  object\n",
      " 4     City    65079 non-null  object\n",
      " 5   time      65079 non-null  object\n",
      " 6   Day       65079 non-null  object\n",
      "dtypes: object(7)\n",
      "memory usage: 3.5+ MB\n"
     ]
    }
   ],
   "source": [
    "df.info() # получение общей информации о данных в таблице df"
   ]
  },
  {
   "cell_type": "markdown",
   "metadata": {
    "id": "TaQ2Iwbr_Zct"
   },
   "source": [
    "Итак, в таблице семь столбцов. Тип данных во всех столбцах — `object`.\n",
    "\n",
    "Согласно документации к данным:\n",
    "* `userID` — идентификатор пользователя;\n",
    "* `Track` — название трека;  \n",
    "* `artist` — имя исполнителя;\n",
    "* `genre` — название жанра;\n",
    "* `City` — город пользователя;\n",
    "* `time` — время начала прослушивания;\n",
    "* `Day` — день недели.\n",
    "\n",
    "В названиях колонок видны три нарушения стиля:\n",
    "1. Строчные буквы сочетаются с прописными.\n",
    "2. Встречаются пробелы.\n",
    "3. Найдите ещё одну проблему в названии колонок и опишите её в этом пункте.\n",
    "\n",
    "\n",
    "\n",
    "Количество значений в столбцах различается. Значит, в данных есть пропущенные значения.\n"
   ]
  },
  {
   "cell_type": "code",
   "execution_count": 5,
   "metadata": {},
   "outputs": [
    {
     "data": {
      "text/html": [
       "<div>\n",
       "<style scoped>\n",
       "    .dataframe tbody tr th:only-of-type {\n",
       "        vertical-align: middle;\n",
       "    }\n",
       "\n",
       "    .dataframe tbody tr th {\n",
       "        vertical-align: top;\n",
       "    }\n",
       "\n",
       "    .dataframe thead th {\n",
       "        text-align: right;\n",
       "    }\n",
       "</style>\n",
       "<table border=\"1\" class=\"dataframe\">\n",
       "  <thead>\n",
       "    <tr style=\"text-align: right;\">\n",
       "      <th></th>\n",
       "      <th>userID</th>\n",
       "      <th>Track</th>\n",
       "      <th>artist</th>\n",
       "      <th>genre</th>\n",
       "      <th>City</th>\n",
       "      <th>time</th>\n",
       "      <th>Day</th>\n",
       "    </tr>\n",
       "  </thead>\n",
       "  <tbody>\n",
       "    <tr>\n",
       "      <th>count</th>\n",
       "      <td>65079</td>\n",
       "      <td>63848</td>\n",
       "      <td>57876</td>\n",
       "      <td>63881</td>\n",
       "      <td>65079</td>\n",
       "      <td>65079</td>\n",
       "      <td>65079</td>\n",
       "    </tr>\n",
       "    <tr>\n",
       "      <th>unique</th>\n",
       "      <td>41748</td>\n",
       "      <td>47245</td>\n",
       "      <td>43605</td>\n",
       "      <td>289</td>\n",
       "      <td>2</td>\n",
       "      <td>20392</td>\n",
       "      <td>3</td>\n",
       "    </tr>\n",
       "    <tr>\n",
       "      <th>top</th>\n",
       "      <td>A8AE9169</td>\n",
       "      <td>Intro</td>\n",
       "      <td>Sasha</td>\n",
       "      <td>pop</td>\n",
       "      <td>Moscow</td>\n",
       "      <td>08:14:07</td>\n",
       "      <td>Friday</td>\n",
       "    </tr>\n",
       "    <tr>\n",
       "      <th>freq</th>\n",
       "      <td>76</td>\n",
       "      <td>34</td>\n",
       "      <td>6</td>\n",
       "      <td>8850</td>\n",
       "      <td>45360</td>\n",
       "      <td>14</td>\n",
       "      <td>23149</td>\n",
       "    </tr>\n",
       "  </tbody>\n",
       "</table>\n",
       "</div>"
      ],
      "text/plain": [
       "          userID  Track artist  genre   City        time     Day\n",
       "count      65079  63848  57876  63881    65079     65079   65079\n",
       "unique     41748  47245  43605    289        2     20392       3\n",
       "top     A8AE9169  Intro  Sasha    pop   Moscow  08:14:07  Friday\n",
       "freq          76     34      6   8850    45360        14   23149"
      ]
     },
     "execution_count": 5,
     "metadata": {},
     "output_type": "execute_result"
    }
   ],
   "source": [
    "df.describe()"
   ]
  },
  {
   "cell_type": "markdown",
   "metadata": {
    "id": "MCB6-dXG_Zct"
   },
   "source": [
    "В каждой строке таблицы — данные о прослушанном треке. Часть колонок описывает саму композицию: название, исполнителя и жанр. Остальные данные рассказывают о пользователе: из какого он города, когда он слушал музыку. \n",
    "\n",
    "Предварительно можно утверждать, что, данных достаточно для проверки гипотез. Но встречаются пропуски в данных, а в названиях колонок — расхождения с хорошим стилем.\n",
    "\n",
    "Чтобы двигаться дальше, нужно устранить проблемы в данных."
   ]
  },
  {
   "cell_type": "markdown",
   "metadata": {
    "id": "SjYF6Ub9_Zct"
   },
   "source": [
    "## Предобработка данных\n",
    "Исправим стиль в заголовках столбцов, исключим пропуски. Затем проверим данные на дубликаты."
   ]
  },
  {
   "cell_type": "markdown",
   "metadata": {
    "id": "dIaKXr29_Zct"
   },
   "source": [
    "### Стиль заголовков\n",
    "Выведем на экран названия столбцов:"
   ]
  },
  {
   "cell_type": "code",
   "execution_count": 6,
   "metadata": {
    "id": "oKOTdF_Q_Zct"
   },
   "outputs": [
    {
     "data": {
      "text/plain": [
       "Index(['  userID', 'Track', 'artist', 'genre', '  City  ', 'time', 'Day'], dtype='object')"
      ]
     },
     "execution_count": 6,
     "metadata": {},
     "output_type": "execute_result"
    }
   ],
   "source": [
    "df.columns # перечень названий столбцов таблицы df"
   ]
  },
  {
   "cell_type": "markdown",
   "metadata": {
    "id": "zj5534cv_Zct"
   },
   "source": [
    "Приведем названия в соответствие с хорошим стилем:\n",
    "* несколько слов в названии запишем в «змеином_регистре»,\n",
    "* все символы сделаем строчными,\n",
    "* устраним пробелы.\n",
    "\n",
    "Для этого переименуем колонки так:\n",
    "* `'  userID'` → `'user_id'`;\n",
    "* `'Track'` → `'track'`;\n",
    "* `'  City  '` → `'city'`;\n",
    "* `'Day'` → `'day'`."
   ]
  },
  {
   "cell_type": "code",
   "execution_count": 7,
   "metadata": {
    "id": "ISlFqs5y_Zct"
   },
   "outputs": [],
   "source": [
    "df = df.rename(columns = {'  userID':'user_id',\n",
    "                          'Track':'track',\n",
    "                          '  City  ':'city',\n",
    "                          'Day':'day'}) # переименование столбцов"
   ]
  },
  {
   "cell_type": "markdown",
   "metadata": {
    "id": "1dqbh00J_Zct"
   },
   "source": [
    "Проверим результат. Для этого ещё раз выведем на экран названия столбцов:"
   ]
  },
  {
   "cell_type": "code",
   "execution_count": 8,
   "metadata": {
    "id": "d4NOAmTW_Zct"
   },
   "outputs": [
    {
     "data": {
      "text/plain": [
       "Index(['user_id', 'track', 'artist', 'genre', 'city', 'time', 'day'], dtype='object')"
      ]
     },
     "metadata": {},
     "output_type": "display_data"
    }
   ],
   "source": [
    "display(df.columns) # проверка результатов - перечень названий столбцов"
   ]
  },
  {
   "cell_type": "markdown",
   "metadata": {
    "id": "5ISfbcfY_Zct"
   },
   "source": [
    "### Пропуски значений\n",
    "Сначала посчитаем, сколько в таблице пропущенных значений. Для этого достаточно двух методов `pandas`:"
   ]
  },
  {
   "cell_type": "code",
   "execution_count": 9,
   "metadata": {
    "id": "RskX29qr_Zct"
   },
   "outputs": [
    {
     "data": {
      "text/plain": [
       "user_id       0\n",
       "track      1231\n",
       "artist     7203\n",
       "genre      1198\n",
       "city          0\n",
       "time          0\n",
       "day           0\n",
       "dtype: int64"
      ]
     },
     "metadata": {},
     "output_type": "display_data"
    }
   ],
   "source": [
    "display(df.isna().sum()) # подсчёт пропусков"
   ]
  },
  {
   "cell_type": "markdown",
   "metadata": {
    "id": "qubhgnlO_Zct"
   },
   "source": [
    "Не все пропущенные значения влияют на исследование. Так в `track` и `artist` пропуски не важны для нашей работы. Достаточно заменить их явными обозначениями.\n",
    "\n",
    "Но пропуски в `genre` могут помешать сравнению музыкальных вкусов в Москве и Санкт-Петербурге. На практике было бы правильно установить причину пропусков и восстановить данные. Такой возможности нет в учебном проекте. Придётся:\n",
    "* заполнить и эти пропуски явными обозначениями,\n",
    "* оценить, насколько они повредят расчётам. "
   ]
  },
  {
   "cell_type": "code",
   "execution_count": 10,
   "metadata": {
    "id": "KplB5qWs_Zct"
   },
   "outputs": [],
   "source": [
    "columns_to_replace = ['track', 'artist', 'genre']    # объявите список columns_to_replace с названиями столбцов track, artist, genre\n",
    "df[columns_to_replace] = df[columns_to_replace].fillna('unknown') #замена пропущенных значений на 'unknown'"
   ]
  },
  {
   "cell_type": "markdown",
   "metadata": {
    "id": "Ilsm-MZo_Zct"
   },
   "source": [
    "Убедимся, что в таблице не осталось пропусков. Для этого ещё раз посчитаем пропущенные значения."
   ]
  },
  {
   "cell_type": "code",
   "execution_count": 11,
   "metadata": {
    "id": "Tq4nYRX4_Zct"
   },
   "outputs": [
    {
     "data": {
      "text/plain": [
       "user_id    0\n",
       "track      0\n",
       "artist     0\n",
       "genre      0\n",
       "city       0\n",
       "time       0\n",
       "day        0\n",
       "dtype: int64"
      ]
     },
     "metadata": {},
     "output_type": "display_data"
    }
   ],
   "source": [
    "display(df.isna().sum()) # подсчёт пропусков"
   ]
  },
  {
   "cell_type": "markdown",
   "metadata": {
    "id": "BWKRtBJ3_Zct"
   },
   "source": [
    "### Дубликаты\n",
    "Посчитаем явные дубликаты, удалим их:"
   ]
  },
  {
   "cell_type": "code",
   "execution_count": 12,
   "metadata": {
    "id": "36eES_S0_Zct"
   },
   "outputs": [
    {
     "data": {
      "text/plain": [
       "3826"
      ]
     },
     "metadata": {},
     "output_type": "display_data"
    }
   ],
   "source": [
    "display(df.duplicated().sum()) # подсчёт явных дубликатов"
   ]
  },
  {
   "cell_type": "code",
   "execution_count": 13,
   "metadata": {
    "id": "exFHq6tt_Zct"
   },
   "outputs": [],
   "source": [
    "df=df.drop_duplicates().reset_index(drop=True)  # удаление явных дубликатов (с удалением старых индексов и формированием новых)"
   ]
  },
  {
   "cell_type": "code",
   "execution_count": 14,
   "metadata": {
    "id": "-8PuNWQ0_Zct"
   },
   "outputs": [
    {
     "data": {
      "text/plain": [
       "0"
      ]
     },
     "metadata": {},
     "output_type": "display_data"
    }
   ],
   "source": [
    "display(df.duplicated().sum()) # проверка на отсутствие дубликатов"
   ]
  },
  {
   "cell_type": "markdown",
   "metadata": {
    "id": "QlFBsxAr_Zct"
   },
   "source": [
    "Теперь избавимся от неявных дубликатов в колонке `genre`. Например, название одного и того же жанра может быть записано немного по-разному. Такие ошибки тоже повлияют на результат исследования."
   ]
  },
  {
   "cell_type": "markdown",
   "metadata": {
    "id": "eSjWwsOh_Zct"
   },
   "source": [
    "Выведем на экран список уникальных названий жанров, отсортированный в алфавитном порядке:"
   ]
  },
  {
   "cell_type": "code",
   "execution_count": 38,
   "metadata": {
    "id": "JIUcqzZN_Zct",
    "scrolled": false
   },
   "outputs": [
    {
     "name": "stdout",
     "output_type": "stream",
     "text": [
      "['acid' 'acoustic' 'action' 'adult' 'africa' 'afrikaans' 'alternative'\n",
      " 'alternativepunk' 'ambient' 'americana' 'animated' 'anime' 'arabesk'\n",
      " 'arabic' 'arena' 'argentinetango' 'art' 'audiobook' 'author' 'avantgarde'\n",
      " 'axé' 'baile' 'balkan' 'beats' 'bigroom' 'black' 'bluegrass' 'blues'\n",
      " 'bollywood' 'bossa' 'brazilian' 'breakbeat' 'breaks' 'broadway'\n",
      " 'cantautori' 'cantopop' 'canzone' 'caribbean' 'caucasian' 'celtic'\n",
      " 'chamber' 'chanson' 'children' 'chill' 'chinese' 'choral' 'christian'\n",
      " 'christmas' 'classical' 'classicmetal' 'club' 'colombian' 'comedy'\n",
      " 'conjazz' 'contemporary' 'country' 'cuban' 'dance' 'dancehall' 'dancepop'\n",
      " 'dark' 'death' 'deep' 'deutschrock' 'deutschspr' 'dirty' 'disco' 'dnb'\n",
      " 'documentary' 'downbeat' 'downtempo' 'drum' 'dub' 'dubstep' 'eastern'\n",
      " 'easy' 'electronic' 'electropop' 'emo' 'entehno' 'epicmetal' 'estrada'\n",
      " 'ethnic' 'eurofolk' 'european' 'experimental' 'extrememetal' 'fado'\n",
      " 'fairytail' 'film' 'fitness' 'flamenco' 'folk' 'folklore' 'folkmetal'\n",
      " 'folkrock' 'folktronica' 'forró' 'frankreich' 'französisch' 'french'\n",
      " 'funk' 'future' 'gangsta' 'garage' 'german' 'ghazal' 'gitarre' 'glitch'\n",
      " 'gospel' 'gothic' 'grime' 'grunge' 'gypsy' 'handsup' \"hard'n'heavy\"\n",
      " 'hardcore' 'hardstyle' 'hardtechno' 'hiphop' 'historisch' 'holiday'\n",
      " 'horror' 'house' 'hymn' 'idm' 'independent' 'indian' 'indie' 'indipop'\n",
      " 'industrial' 'inspirational' 'instrumental' 'international' 'irish' 'jam'\n",
      " 'japanese' 'jazz' 'jewish' 'jpop' 'jungle' 'k-pop' 'karadeniz' 'karaoke'\n",
      " 'kayokyoku' 'korean' 'laiko' 'latin' 'latino' 'leftfield' 'local'\n",
      " 'lounge' 'loungeelectronic' 'lovers' 'malaysian' 'mandopop' 'marschmusik'\n",
      " 'meditative' 'mediterranean' 'melodic' 'metal' 'metalcore' 'mexican'\n",
      " 'middle' 'minimal' 'miscellaneous' 'modern' 'mood' 'mpb' 'muslim'\n",
      " 'native' 'neoklassik' 'neue' 'new' 'newage' 'newwave' 'nu' 'nujazz'\n",
      " 'numetal' 'oceania' 'old' 'opera' 'orchestral' 'other' 'piano' 'podcasts'\n",
      " 'pop' 'popdance' 'popelectronic' 'popeurodance' 'poprussian' 'post'\n",
      " 'posthardcore' 'postrock' 'power' 'progmetal' 'progressive' 'psychedelic'\n",
      " 'punjabi' 'punk' 'quebecois' 'ragga' 'ram' 'rancheras' 'rap' 'rave'\n",
      " 'reggae' 'reggaeton' 'regional' 'relax' 'religious' 'retro' 'rhythm'\n",
      " 'rnb' 'rnr' 'rock' 'rockabilly' 'rockalternative' 'rockindie' 'rockother'\n",
      " 'romance' 'roots' 'ruspop' 'rusrap' 'rusrock' 'russian' 'salsa' 'samba'\n",
      " 'scenic' 'schlager' 'self' 'sertanejo' 'shanson' 'shoegazing' 'showtunes'\n",
      " 'singer' 'ska' 'skarock' 'slow' 'smooth' 'soft' 'soul' 'soulful' 'sound'\n",
      " 'soundtrack' 'southern' 'specialty' 'speech' 'spiritual' 'sport'\n",
      " 'stonerrock' 'surf' 'swing' 'synthpop' 'synthrock' 'sängerportrait'\n",
      " 'tango' 'tanzorchester' 'taraftar' 'tatar' 'tech' 'techno' 'teen'\n",
      " 'thrash' 'top' 'traditional' 'tradjazz' 'trance' 'tribal' 'trip'\n",
      " 'triphop' 'tropical' 'türk' 'türkçe' 'ukrrock' 'unknown' 'urban' 'uzbek'\n",
      " 'variété' 'vi' 'videogame' 'vocal' 'western' 'world' 'worldbeat'\n",
      " 'электроника']\n"
     ]
    }
   ],
   "source": [
    "genre_sorted = sorted(df['genre'].unique())\n",
    "print(np.transpose(genre_sorted) )"
   ]
  },
  {
   "cell_type": "markdown",
   "metadata": {
    "id": "qej-Qmuo_Zct"
   },
   "source": [
    "Просмотрим список и найдем неявные дубликаты названия `hiphop`. Это могут быть названия с ошибками или альтернативные названия того же жанра.\n",
    "\n",
    "Мы увидим следующие неявные дубликаты:\n",
    "* *hip*,\n",
    "* *hop*,\n",
    "* *hip-hop*.\n",
    "\n",
    "Чтобы очистить от них таблицу, напишем функцию `replace_wrong_genres()` с двумя параметрами: \n",
    "* `wrong_genres` — список дубликатов,\n",
    "* `correct_genre` — строка с правильным значением.\n",
    "\n",
    "Функция должна исправить колонку `genre` в таблице `df`: заменить каждое значение из списка `wrong_genres` на значение из `correct_genre`."
   ]
  },
  {
   "cell_type": "code",
   "execution_count": 16,
   "metadata": {
    "id": "ErNDkmns_Zct"
   },
   "outputs": [],
   "source": [
    "def replace_wrong_genres(wrong_genres,correct_genre): # Функция для замены неявных дубликатов\n",
    "    for wrong_genre in wrong_genres:  # перебираем неправильные имена\n",
    "        df['genre'] = df['genre'].replace(wrong_genre, correct_genre) # и для каждого неправильного имени вызываем метод replace()"
   ]
  },
  {
   "cell_type": "markdown",
   "metadata": {
    "id": "aDoBJxbA_Zct"
   },
   "source": [
    "Вызовем `replace_wrong_genres()` и передадим ей такие аргументы, чтобы она устранила неявные дубликаты: вместо `hip`, `hop` и `hip-hop` в таблице должно быть значение `hiphop`:"
   ]
  },
  {
   "cell_type": "code",
   "execution_count": 17,
   "metadata": {
    "id": "YN5i2hpmSo09"
   },
   "outputs": [],
   "source": [
    "duplicates = ['hip', 'hop', 'hip-hop']\n",
    "correct_name = 'hiphop'  \n",
    "\n",
    "df['genre'] = df['genre'].replace(duplicates, correct_name) # Устранение неявных дубликатов"
   ]
  },
  {
   "cell_type": "markdown",
   "metadata": {
    "id": "zQKF16_RG15m"
   },
   "source": [
    "Проверим, что заменили неправильные названия:\n",
    "\n",
    "*   hip\n",
    "*   hop\n",
    "*   hip-hop\n",
    "\n",
    "Выведем отсортированный список уникальных значений столбца `genre`:"
   ]
  },
  {
   "cell_type": "code",
   "execution_count": 18,
   "metadata": {
    "id": "wvixALnFG15m",
    "scrolled": false
   },
   "outputs": [
    {
     "name": "stdout",
     "output_type": "stream",
     "text": [
      "acid,  acoustic,  action,  adult,  africa,  afrikaans,  alternative,  alternativepunk,  ambient,  americana,  animated,  anime,  arabesk,  arabic,  arena,  argentinetango,  art,  audiobook,  author,  avantgarde,  axé,  baile,  balkan,  beats,  bigroom,  black,  bluegrass,  blues,  bollywood,  bossa,  brazilian,  breakbeat,  breaks,  broadway,  cantautori,  cantopop,  canzone,  caribbean,  caucasian,  celtic,  chamber,  chanson,  children,  chill,  chinese,  choral,  christian,  christmas,  classical,  classicmetal,  club,  colombian,  comedy,  conjazz,  contemporary,  country,  cuban,  dance,  dancehall,  dancepop,  dark,  death,  deep,  deutschrock,  deutschspr,  dirty,  disco,  dnb,  documentary,  downbeat,  downtempo,  drum,  dub,  dubstep,  eastern,  easy,  electronic,  electropop,  emo,  entehno,  epicmetal,  estrada,  ethnic,  eurofolk,  european,  experimental,  extrememetal,  fado,  fairytail,  film,  fitness,  flamenco,  folk,  folklore,  folkmetal,  folkrock,  folktronica,  forró,  frankreich,  französisch,  french,  funk,  future,  gangsta,  garage,  german,  ghazal,  gitarre,  glitch,  gospel,  gothic,  grime,  grunge,  gypsy,  handsup,  hard'n'heavy,  hardcore,  hardstyle,  hardtechno,  hiphop,  historisch,  holiday,  horror,  house,  hymn,  idm,  independent,  indian,  indie,  indipop,  industrial,  inspirational,  instrumental,  international,  irish,  jam,  japanese,  jazz,  jewish,  jpop,  jungle,  k-pop,  karadeniz,  karaoke,  kayokyoku,  korean,  laiko,  latin,  latino,  leftfield,  local,  lounge,  loungeelectronic,  lovers,  malaysian,  mandopop,  marschmusik,  meditative,  mediterranean,  melodic,  metal,  metalcore,  mexican,  middle,  minimal,  miscellaneous,  modern,  mood,  mpb,  muslim,  native,  neoklassik,  neue,  new,  newage,  newwave,  nu,  nujazz,  numetal,  oceania,  old,  opera,  orchestral,  other,  piano,  podcasts,  pop,  popdance,  popelectronic,  popeurodance,  poprussian,  post,  posthardcore,  postrock,  power,  progmetal,  progressive,  psychedelic,  punjabi,  punk,  quebecois,  ragga,  ram,  rancheras,  rap,  rave,  reggae,  reggaeton,  regional,  relax,  religious,  retro,  rhythm,  rnb,  rnr,  rock,  rockabilly,  rockalternative,  rockindie,  rockother,  romance,  roots,  ruspop,  rusrap,  rusrock,  russian,  salsa,  samba,  scenic,  schlager,  self,  sertanejo,  shanson,  shoegazing,  showtunes,  singer,  ska,  skarock,  slow,  smooth,  soft,  soul,  soulful,  sound,  soundtrack,  southern,  specialty,  speech,  spiritual,  sport,  stonerrock,  surf,  swing,  synthpop,  synthrock,  sängerportrait,  tango,  tanzorchester,  taraftar,  tatar,  tech,  techno,  teen,  thrash,  top,  traditional,  tradjazz,  trance,  tribal,  trip,  triphop,  tropical,  türk,  türkçe,  ukrrock,  unknown,  urban,  uzbek,  variété,  vi,  videogame,  vocal,  western,  world,  worldbeat,  ïîï,  электроника,  "
     ]
    }
   ],
   "source": [
    "genre_sorted = sorted(df['genre'].unique())\n",
    "for item in genre_sorted:\n",
    "    print(item, end=',  ')         # Проверка на неявные дубликаты"
   ]
  },
  {
   "cell_type": "markdown",
   "metadata": {},
   "source": [
    "Также, при просмотре уникальных жанров музыки, я обнаружила жанр 'ïîï' - где видимо случились проблемы с кодировкой, разобравшись с кодировкой, это оказался неявный дубликат жанра 'pop'. Поэтому, запустим функцию по замене дубликатов еще раз, с другими входными данными (и проверим потом еще раз через вывод, что данный дубликат устранен):"
   ]
  },
  {
   "cell_type": "code",
   "execution_count": 19,
   "metadata": {
    "scrolled": false
   },
   "outputs": [
    {
     "name": "stdout",
     "output_type": "stream",
     "text": [
      "acid,  acoustic,  action,  adult,  africa,  afrikaans,  alternative,  alternativepunk,  ambient,  americana,  animated,  anime,  arabesk,  arabic,  arena,  argentinetango,  art,  audiobook,  author,  avantgarde,  axé,  baile,  balkan,  beats,  bigroom,  black,  bluegrass,  blues,  bollywood,  bossa,  brazilian,  breakbeat,  breaks,  broadway,  cantautori,  cantopop,  canzone,  caribbean,  caucasian,  celtic,  chamber,  chanson,  children,  chill,  chinese,  choral,  christian,  christmas,  classical,  classicmetal,  club,  colombian,  comedy,  conjazz,  contemporary,  country,  cuban,  dance,  dancehall,  dancepop,  dark,  death,  deep,  deutschrock,  deutschspr,  dirty,  disco,  dnb,  documentary,  downbeat,  downtempo,  drum,  dub,  dubstep,  eastern,  easy,  electronic,  electropop,  emo,  entehno,  epicmetal,  estrada,  ethnic,  eurofolk,  european,  experimental,  extrememetal,  fado,  fairytail,  film,  fitness,  flamenco,  folk,  folklore,  folkmetal,  folkrock,  folktronica,  forró,  frankreich,  französisch,  french,  funk,  future,  gangsta,  garage,  german,  ghazal,  gitarre,  glitch,  gospel,  gothic,  grime,  grunge,  gypsy,  handsup,  hard'n'heavy,  hardcore,  hardstyle,  hardtechno,  hiphop,  historisch,  holiday,  horror,  house,  hymn,  idm,  independent,  indian,  indie,  indipop,  industrial,  inspirational,  instrumental,  international,  irish,  jam,  japanese,  jazz,  jewish,  jpop,  jungle,  k-pop,  karadeniz,  karaoke,  kayokyoku,  korean,  laiko,  latin,  latino,  leftfield,  local,  lounge,  loungeelectronic,  lovers,  malaysian,  mandopop,  marschmusik,  meditative,  mediterranean,  melodic,  metal,  metalcore,  mexican,  middle,  minimal,  miscellaneous,  modern,  mood,  mpb,  muslim,  native,  neoklassik,  neue,  new,  newage,  newwave,  nu,  nujazz,  numetal,  oceania,  old,  opera,  orchestral,  other,  piano,  podcasts,  pop,  popdance,  popelectronic,  popeurodance,  poprussian,  post,  posthardcore,  postrock,  power,  progmetal,  progressive,  psychedelic,  punjabi,  punk,  quebecois,  ragga,  ram,  rancheras,  rap,  rave,  reggae,  reggaeton,  regional,  relax,  religious,  retro,  rhythm,  rnb,  rnr,  rock,  rockabilly,  rockalternative,  rockindie,  rockother,  romance,  roots,  ruspop,  rusrap,  rusrock,  russian,  salsa,  samba,  scenic,  schlager,  self,  sertanejo,  shanson,  shoegazing,  showtunes,  singer,  ska,  skarock,  slow,  smooth,  soft,  soul,  soulful,  sound,  soundtrack,  southern,  specialty,  speech,  spiritual,  sport,  stonerrock,  surf,  swing,  synthpop,  synthrock,  sängerportrait,  tango,  tanzorchester,  taraftar,  tatar,  tech,  techno,  teen,  thrash,  top,  traditional,  tradjazz,  trance,  tribal,  trip,  triphop,  tropical,  türk,  türkçe,  ukrrock,  unknown,  urban,  uzbek,  variété,  vi,  videogame,  vocal,  western,  world,  worldbeat,  электроника,  "
     ]
    }
   ],
   "source": [
    "duplicates = ['ïîï']\n",
    "name = 'pop'\n",
    "replace_wrong_genres(duplicates, name) # Устранение неявных дубликатов\n",
    "genre_sorted = sorted(df['genre'].unique())\n",
    "for item in genre_sorted:\n",
    "    print(item, end=',  ')"
   ]
  },
  {
   "cell_type": "markdown",
   "metadata": {},
   "source": [
    "Мы обнаружили еще несколько похожих жанров, например 'africa' и 'afrikaans', но я не стала их исправлять, так как они далеки от поп музыки. Если `pop`  в неправильной кодировке был, а обычно он относится к популярным жанрам, то такой дубликат исказит анализ. с другой стороны,  'afrikaans' вряд-ли относится к популярным жанрам, и исказит анализ меньше."
   ]
  },
  {
   "cell_type": "markdown",
   "metadata": {
    "id": "jz6a9-7HQUDd"
   },
   "source": [
    "В итоге, предобработка обнаружила три проблемы в данных:\n",
    "\n",
    "- нарушения в стиле заголовков,\n",
    "- пропущенные значения,\n",
    "- дубликаты — явные и неявные.\n",
    "\n",
    "Мы исправили заголовки, чтобы упростить работу с таблицей. Без дубликатов исследование станет более точным.\n",
    "\n",
    "Пропущенные значения мы заменили на `'unknown'`. Ещё предстоит увидеть, не повредят ли исследованию пропуски в колонке `genre`."
   ]
  },
  {
   "cell_type": "markdown",
   "metadata": {
    "id": "WttZHXH0SqKk"
   },
   "source": [
    "## Проверка гипотез"
   ]
  },
  {
   "cell_type": "markdown",
   "metadata": {
    "id": "Im936VVi_Zcu"
   },
   "source": [
    "### Сравнение поведения пользователей двух столиц"
   ]
  },
  {
   "cell_type": "markdown",
   "metadata": {
    "id": "nwt_MuaL_Zcu"
   },
   "source": [
    "Первая гипотеза утверждает, что пользователи по-разному слушают музыку в Москве и Санкт-Петербурге. Проверим это предположение по данным о трёх днях недели — понедельнике, среде и пятнице. Для этого:\n",
    "\n",
    "* Разделим пользователей Москвы и Санкт-Петербурга\n",
    "* Сравним, сколько треков послушала каждая группа пользователей в понедельник, среду и пятницу.\n"
   ]
  },
  {
   "cell_type": "markdown",
   "metadata": {
    "id": "8Dw_YMmT_Zcu"
   },
   "source": [
    "Сгруппируем данные по городу и посчитаем прослушивания в каждой группе:"
   ]
  },
  {
   "cell_type": "code",
   "execution_count": 20,
   "metadata": {
    "id": "0_Qs96oh_Zcu"
   },
   "outputs": [
    {
     "data": {
      "text/plain": [
       "city\n",
       "Moscow              42741\n",
       "Saint-Petersburg    18512\n",
       "Name: city, dtype: int64"
      ]
     },
     "metadata": {},
     "output_type": "display_data"
    }
   ],
   "source": [
    "display(df.groupby('city')['city'].count()) # Подсчёт прослушиваний в каждом городе"
   ]
  },
  {
   "cell_type": "markdown",
   "metadata": {
    "id": "dzli3w8o_Zcu"
   },
   "source": [
    "В Москве прослушиваний больше, чем в Петербурге. Из этого не следует, что московские пользователи чаще слушают музыку. Просто самих пользователей в Москве больше.\n",
    "\n",
    "Теперь сгруппируем данные по дню недели и подсчитайте прослушивания в понедельник, среду и пятницу. Учтем, что в данных есть информация только о прослушиваниях только за эти дни.\n"
   ]
  },
  {
   "cell_type": "code",
   "execution_count": 21,
   "metadata": {
    "id": "uZMKjiJz_Zcu"
   },
   "outputs": [
    {
     "data": {
      "text/plain": [
       "day\n",
       "Friday       21840\n",
       "Monday       21354\n",
       "Wednesday    18059\n",
       "Name: day, dtype: int64"
      ]
     },
     "metadata": {},
     "output_type": "display_data"
    }
   ],
   "source": [
    "display(df.groupby('day')['day'].count()) # Подсчёт прослушиваний в каждый из трёх дней"
   ]
  },
  {
   "cell_type": "markdown",
   "metadata": {
    "id": "cC2tNrlL_Zcu"
   },
   "source": [
    "В среднем пользователи из двух городов менее активны по средам. Но картина может измениться, если рассмотреть каждый город в отдельности."
   ]
  },
  {
   "cell_type": "markdown",
   "metadata": {
    "id": "POzs8bGa_Zcu"
   },
   "source": [
    "Создадим функцию `number_tracks()`, которая посчитает прослушивания для заданного дня и города. Ей понадобятся два параметра:\n",
    "* день недели,\n",
    "* название города.\n",
    "\n",
    "В функции сохраним в переменную строки исходной таблицы, у которых значение:\n",
    "  * в колонке `day` равно параметру `day`,\n",
    "  * в колонке `city` равно параметру `city`.\n",
    "\n",
    "Затем посчитаем значения в столбце `user_id` получившейся таблицы, результат сохраним в новую переменную и вернем ее из функции."
   ]
  },
  {
   "cell_type": "code",
   "execution_count": 22,
   "metadata": {
    "id": "Nz3GdQB1_Zcu"
   },
   "outputs": [],
   "source": [
    "def number_tracks(day, city): \n",
    "    '''функция, которая сначала создает отфильтрованный\n",
    "    по параметрам day (день недели), city (город) DataFrame, \n",
    "    а потом подсчитывает количество строк, удовлетворяющих фильтру '''    \n",
    "    track_list = df[df['day'] == day]  \n",
    "    track_list = track_list[track_list['city'] == city] \n",
    "    track_list_count = track_list['user_id'].count()  \n",
    "    return track_list_count"
   ]
  },
  {
   "cell_type": "markdown",
   "metadata": {},
   "source": [
    "Посчитаем с помощью функции сколько в какой день было прослушиваний:"
   ]
  },
  {
   "cell_type": "code",
   "execution_count": 23,
   "metadata": {},
   "outputs": [
    {
     "name": "stdout",
     "output_type": "stream",
     "text": [
      "Количество прослушиваний в городе Moscow в Monday равно 15740\n",
      "Количество прослушиваний в городе Moscow в Wednesday равно 11056\n",
      "Количество прослушиваний в городе Moscow в Friday равно 15945\n",
      "Количество прослушиваний в городе Saint-Petersburg в Monday равно 5614\n",
      "Количество прослушиваний в городе Saint-Petersburg в Wednesday равно 7003\n",
      "Количество прослушиваний в городе Saint-Petersburg в Friday равно 5895\n"
     ]
    }
   ],
   "source": [
    "for weekday, city in zip(['Monday', 'Wednesday', 'Friday']*2, sorted(['Moscow', 'Saint-Petersburg']*3)):\n",
    "    print(f'Количество прослушиваний в городе {city} в {weekday} равно {number_tracks(weekday, city)}')"
   ]
  },
  {
   "cell_type": "markdown",
   "metadata": {
    "id": "7QXffbO-_Zcu"
   },
   "source": [
    "Создадим c помощью конструктора `pd.DataFrame` таблицу, где\n",
    "* названия колонок — `['city', 'monday', 'wednesday', 'friday']`;\n",
    "* данные — результаты, которые вы получили с помощью `number_tracks`."
   ]
  },
  {
   "cell_type": "code",
   "execution_count": 24,
   "metadata": {
    "id": "APAcLpOr_Zcu"
   },
   "outputs": [
    {
     "data": {
      "text/html": [
       "<div>\n",
       "<style scoped>\n",
       "    .dataframe tbody tr th:only-of-type {\n",
       "        vertical-align: middle;\n",
       "    }\n",
       "\n",
       "    .dataframe tbody tr th {\n",
       "        vertical-align: top;\n",
       "    }\n",
       "\n",
       "    .dataframe thead th {\n",
       "        text-align: right;\n",
       "    }\n",
       "</style>\n",
       "<table border=\"1\" class=\"dataframe\">\n",
       "  <thead>\n",
       "    <tr style=\"text-align: right;\">\n",
       "      <th></th>\n",
       "      <th>city</th>\n",
       "      <th>monday</th>\n",
       "      <th>wednesday</th>\n",
       "      <th>friday</th>\n",
       "    </tr>\n",
       "  </thead>\n",
       "  <tbody>\n",
       "    <tr>\n",
       "      <th>0</th>\n",
       "      <td>Moscow</td>\n",
       "      <td>15740</td>\n",
       "      <td>11056</td>\n",
       "      <td>15945</td>\n",
       "    </tr>\n",
       "    <tr>\n",
       "      <th>1</th>\n",
       "      <td>Saint-Petersburg</td>\n",
       "      <td>5614</td>\n",
       "      <td>7003</td>\n",
       "      <td>5895</td>\n",
       "    </tr>\n",
       "  </tbody>\n",
       "</table>\n",
       "</div>"
      ],
      "text/plain": [
       "               city  monday  wednesday  friday\n",
       "0            Moscow   15740      11056   15945\n",
       "1  Saint-Petersburg    5614       7003    5895"
      ]
     },
     "metadata": {},
     "output_type": "display_data"
    }
   ],
   "source": [
    "name_columns = ['city', 'monday', 'wednesday', 'friday']\n",
    "track_city_counts = []\n",
    "for item_city in ['Moscow', 'Saint-Petersburg']:\n",
    "    row = []\n",
    "    row.append(item_city)\n",
    "    for item_day in ['Monday', 'Wednesday', 'Friday']:\n",
    "        row.append(number_tracks(item_day, item_city))\n",
    "    track_city_counts.append(row)\n",
    "display(pd.DataFrame(data = track_city_counts ,columns = name_columns) )   # Таблица с результатами"
   ]
  },
  {
   "cell_type": "markdown",
   "metadata": {
    "id": "-EgPIHYu_Zcu"
   },
   "source": [
    "**Выводы**\n",
    "\n",
    "Данные показывают разницу поведения пользователей:\n",
    "\n",
    "- В Москве пик прослушиваний приходится на понедельник и пятницу, а в среду заметен спад.\n",
    "- В Петербурге, наоборот, больше слушают музыку по средам. Активность в понедельник и пятницу здесь почти в равной мере уступает среде.\n",
    "\n",
    "Значит, данные говорят в пользу первой гипотезы."
   ]
  },
  {
   "cell_type": "markdown",
   "metadata": {
    "id": "atZAxtq4_Zcu"
   },
   "source": [
    "### Музыка в начале и в конце недели"
   ]
  },
  {
   "cell_type": "markdown",
   "metadata": {
    "id": "eXrQqXFH_Zcu"
   },
   "source": [
    "Согласно второй гипотезе, утром в понедельник в Москве преобладают одни жанры, а в Петербурге — другие. Так же и вечером пятницы преобладают разные жанры — в зависимости от города."
   ]
  },
  {
   "cell_type": "markdown",
   "metadata": {
    "id": "S8UcW6Hw_Zcu"
   },
   "source": [
    "Сохраним таблицы с данными в две переменные:\n",
    "* по Москве — в `moscow_general`;\n",
    "* по Санкт-Петербургу — в `spb_general`."
   ]
  },
  {
   "cell_type": "code",
   "execution_count": 25,
   "metadata": {
    "id": "qeaFfM_P_Zcu"
   },
   "outputs": [
    {
     "data": {
      "text/html": [
       "<div>\n",
       "<style scoped>\n",
       "    .dataframe tbody tr th:only-of-type {\n",
       "        vertical-align: middle;\n",
       "    }\n",
       "\n",
       "    .dataframe tbody tr th {\n",
       "        vertical-align: top;\n",
       "    }\n",
       "\n",
       "    .dataframe thead th {\n",
       "        text-align: right;\n",
       "    }\n",
       "</style>\n",
       "<table border=\"1\" class=\"dataframe\">\n",
       "  <thead>\n",
       "    <tr style=\"text-align: right;\">\n",
       "      <th></th>\n",
       "      <th>user_id</th>\n",
       "      <th>track</th>\n",
       "      <th>artist</th>\n",
       "      <th>genre</th>\n",
       "      <th>city</th>\n",
       "      <th>time</th>\n",
       "      <th>day</th>\n",
       "    </tr>\n",
       "  </thead>\n",
       "  <tbody>\n",
       "    <tr>\n",
       "      <th>1</th>\n",
       "      <td>55204538</td>\n",
       "      <td>Delayed Because of Accident</td>\n",
       "      <td>Andreas Rönnberg</td>\n",
       "      <td>rock</td>\n",
       "      <td>Moscow</td>\n",
       "      <td>14:07:09</td>\n",
       "      <td>Friday</td>\n",
       "    </tr>\n",
       "    <tr>\n",
       "      <th>4</th>\n",
       "      <td>E2DC1FAE</td>\n",
       "      <td>Soul People</td>\n",
       "      <td>Space Echo</td>\n",
       "      <td>dance</td>\n",
       "      <td>Moscow</td>\n",
       "      <td>08:34:34</td>\n",
       "      <td>Monday</td>\n",
       "    </tr>\n",
       "    <tr>\n",
       "      <th>6</th>\n",
       "      <td>4CB90AA5</td>\n",
       "      <td>True</td>\n",
       "      <td>Roman Messer</td>\n",
       "      <td>dance</td>\n",
       "      <td>Moscow</td>\n",
       "      <td>13:00:07</td>\n",
       "      <td>Wednesday</td>\n",
       "    </tr>\n",
       "    <tr>\n",
       "      <th>7</th>\n",
       "      <td>F03E1C1F</td>\n",
       "      <td>Feeling This Way</td>\n",
       "      <td>Polina Griffith</td>\n",
       "      <td>dance</td>\n",
       "      <td>Moscow</td>\n",
       "      <td>20:47:49</td>\n",
       "      <td>Wednesday</td>\n",
       "    </tr>\n",
       "    <tr>\n",
       "      <th>8</th>\n",
       "      <td>8FA1D3BE</td>\n",
       "      <td>И вновь продолжается бой</td>\n",
       "      <td>unknown</td>\n",
       "      <td>ruspop</td>\n",
       "      <td>Moscow</td>\n",
       "      <td>09:17:40</td>\n",
       "      <td>Friday</td>\n",
       "    </tr>\n",
       "    <tr>\n",
       "      <th>...</th>\n",
       "      <td>...</td>\n",
       "      <td>...</td>\n",
       "      <td>...</td>\n",
       "      <td>...</td>\n",
       "      <td>...</td>\n",
       "      <td>...</td>\n",
       "      <td>...</td>\n",
       "    </tr>\n",
       "    <tr>\n",
       "      <th>61247</th>\n",
       "      <td>83A474E7</td>\n",
       "      <td>I Worship Only What You Bleed</td>\n",
       "      <td>The Black Dahlia Murder</td>\n",
       "      <td>extrememetal</td>\n",
       "      <td>Moscow</td>\n",
       "      <td>21:07:12</td>\n",
       "      <td>Monday</td>\n",
       "    </tr>\n",
       "    <tr>\n",
       "      <th>61248</th>\n",
       "      <td>729CBB09</td>\n",
       "      <td>My Name</td>\n",
       "      <td>McLean</td>\n",
       "      <td>rnb</td>\n",
       "      <td>Moscow</td>\n",
       "      <td>13:32:28</td>\n",
       "      <td>Wednesday</td>\n",
       "    </tr>\n",
       "    <tr>\n",
       "      <th>61250</th>\n",
       "      <td>C5E3A0D5</td>\n",
       "      <td>Jalopiina</td>\n",
       "      <td>unknown</td>\n",
       "      <td>industrial</td>\n",
       "      <td>Moscow</td>\n",
       "      <td>20:09:26</td>\n",
       "      <td>Friday</td>\n",
       "    </tr>\n",
       "    <tr>\n",
       "      <th>61251</th>\n",
       "      <td>321D0506</td>\n",
       "      <td>Freight Train</td>\n",
       "      <td>Chas McDevitt</td>\n",
       "      <td>rock</td>\n",
       "      <td>Moscow</td>\n",
       "      <td>21:43:59</td>\n",
       "      <td>Friday</td>\n",
       "    </tr>\n",
       "    <tr>\n",
       "      <th>61252</th>\n",
       "      <td>3A64EF84</td>\n",
       "      <td>Tell Me Sweet Little Lies</td>\n",
       "      <td>Monica Lopez</td>\n",
       "      <td>country</td>\n",
       "      <td>Moscow</td>\n",
       "      <td>21:59:46</td>\n",
       "      <td>Friday</td>\n",
       "    </tr>\n",
       "  </tbody>\n",
       "</table>\n",
       "<p>42741 rows × 7 columns</p>\n",
       "</div>"
      ],
      "text/plain": [
       "        user_id                          track                   artist  \\\n",
       "1      55204538    Delayed Because of Accident         Andreas Rönnberg   \n",
       "4      E2DC1FAE                    Soul People               Space Echo   \n",
       "6      4CB90AA5                           True             Roman Messer   \n",
       "7      F03E1C1F               Feeling This Way          Polina Griffith   \n",
       "8      8FA1D3BE       И вновь продолжается бой                  unknown   \n",
       "...         ...                            ...                      ...   \n",
       "61247  83A474E7  I Worship Only What You Bleed  The Black Dahlia Murder   \n",
       "61248  729CBB09                        My Name                   McLean   \n",
       "61250  C5E3A0D5                      Jalopiina                  unknown   \n",
       "61251  321D0506                  Freight Train            Chas McDevitt   \n",
       "61252  3A64EF84      Tell Me Sweet Little Lies             Monica Lopez   \n",
       "\n",
       "              genre    city      time        day  \n",
       "1              rock  Moscow  14:07:09     Friday  \n",
       "4             dance  Moscow  08:34:34     Monday  \n",
       "6             dance  Moscow  13:00:07  Wednesday  \n",
       "7             dance  Moscow  20:47:49  Wednesday  \n",
       "8            ruspop  Moscow  09:17:40     Friday  \n",
       "...             ...     ...       ...        ...  \n",
       "61247  extrememetal  Moscow  21:07:12     Monday  \n",
       "61248           rnb  Moscow  13:32:28  Wednesday  \n",
       "61250    industrial  Moscow  20:09:26     Friday  \n",
       "61251          rock  Moscow  21:43:59     Friday  \n",
       "61252       country  Moscow  21:59:46     Friday  \n",
       "\n",
       "[42741 rows x 7 columns]"
      ]
     },
     "metadata": {},
     "output_type": "display_data"
    }
   ],
   "source": [
    "moscow_general = df[df['city'] == 'Moscow']# получение таблицы moscow_general из тех строк таблицы df, \n",
    "# для которых значение в столбце 'city' равно 'Moscow'\n",
    "display(moscow_general)"
   ]
  },
  {
   "cell_type": "code",
   "execution_count": 26,
   "metadata": {
    "id": "ORaVRKto_Zcu"
   },
   "outputs": [
    {
     "data": {
      "text/html": [
       "<div>\n",
       "<style scoped>\n",
       "    .dataframe tbody tr th:only-of-type {\n",
       "        vertical-align: middle;\n",
       "    }\n",
       "\n",
       "    .dataframe tbody tr th {\n",
       "        vertical-align: top;\n",
       "    }\n",
       "\n",
       "    .dataframe thead th {\n",
       "        text-align: right;\n",
       "    }\n",
       "</style>\n",
       "<table border=\"1\" class=\"dataframe\">\n",
       "  <thead>\n",
       "    <tr style=\"text-align: right;\">\n",
       "      <th></th>\n",
       "      <th>user_id</th>\n",
       "      <th>track</th>\n",
       "      <th>artist</th>\n",
       "      <th>genre</th>\n",
       "      <th>city</th>\n",
       "      <th>time</th>\n",
       "      <th>day</th>\n",
       "    </tr>\n",
       "  </thead>\n",
       "  <tbody>\n",
       "    <tr>\n",
       "      <th>0</th>\n",
       "      <td>FFB692EC</td>\n",
       "      <td>Kamigata To Boots</td>\n",
       "      <td>The Mass Missile</td>\n",
       "      <td>rock</td>\n",
       "      <td>Saint-Petersburg</td>\n",
       "      <td>20:28:33</td>\n",
       "      <td>Wednesday</td>\n",
       "    </tr>\n",
       "    <tr>\n",
       "      <th>2</th>\n",
       "      <td>20EC38</td>\n",
       "      <td>Funiculì funiculà</td>\n",
       "      <td>Mario Lanza</td>\n",
       "      <td>pop</td>\n",
       "      <td>Saint-Petersburg</td>\n",
       "      <td>20:58:07</td>\n",
       "      <td>Wednesday</td>\n",
       "    </tr>\n",
       "    <tr>\n",
       "      <th>3</th>\n",
       "      <td>A3DD03C9</td>\n",
       "      <td>Dragons in the Sunset</td>\n",
       "      <td>Fire + Ice</td>\n",
       "      <td>folk</td>\n",
       "      <td>Saint-Petersburg</td>\n",
       "      <td>08:37:09</td>\n",
       "      <td>Monday</td>\n",
       "    </tr>\n",
       "    <tr>\n",
       "      <th>5</th>\n",
       "      <td>842029A1</td>\n",
       "      <td>Преданная</td>\n",
       "      <td>IMPERVTOR</td>\n",
       "      <td>rusrap</td>\n",
       "      <td>Saint-Petersburg</td>\n",
       "      <td>13:09:41</td>\n",
       "      <td>Friday</td>\n",
       "    </tr>\n",
       "    <tr>\n",
       "      <th>9</th>\n",
       "      <td>E772D5C0</td>\n",
       "      <td>Pessimist</td>\n",
       "      <td>unknown</td>\n",
       "      <td>dance</td>\n",
       "      <td>Saint-Petersburg</td>\n",
       "      <td>21:20:49</td>\n",
       "      <td>Wednesday</td>\n",
       "    </tr>\n",
       "    <tr>\n",
       "      <th>...</th>\n",
       "      <td>...</td>\n",
       "      <td>...</td>\n",
       "      <td>...</td>\n",
       "      <td>...</td>\n",
       "      <td>...</td>\n",
       "      <td>...</td>\n",
       "      <td>...</td>\n",
       "    </tr>\n",
       "    <tr>\n",
       "      <th>61239</th>\n",
       "      <td>D94F810B</td>\n",
       "      <td>Theme from the Walking Dead</td>\n",
       "      <td>Proyecto Halloween</td>\n",
       "      <td>film</td>\n",
       "      <td>Saint-Petersburg</td>\n",
       "      <td>21:14:40</td>\n",
       "      <td>Monday</td>\n",
       "    </tr>\n",
       "    <tr>\n",
       "      <th>61240</th>\n",
       "      <td>BC8EC5CF</td>\n",
       "      <td>Red Lips: Gta (Rover Rework)</td>\n",
       "      <td>Rover</td>\n",
       "      <td>electronic</td>\n",
       "      <td>Saint-Petersburg</td>\n",
       "      <td>21:06:50</td>\n",
       "      <td>Monday</td>\n",
       "    </tr>\n",
       "    <tr>\n",
       "      <th>61241</th>\n",
       "      <td>29E04611</td>\n",
       "      <td>Bre Petrunko</td>\n",
       "      <td>Perunika Trio</td>\n",
       "      <td>world</td>\n",
       "      <td>Saint-Petersburg</td>\n",
       "      <td>13:56:00</td>\n",
       "      <td>Monday</td>\n",
       "    </tr>\n",
       "    <tr>\n",
       "      <th>61242</th>\n",
       "      <td>1B91C621</td>\n",
       "      <td>(Hello) Cloud Mountain</td>\n",
       "      <td>sleepmakeswaves</td>\n",
       "      <td>postrock</td>\n",
       "      <td>Saint-Petersburg</td>\n",
       "      <td>09:22:13</td>\n",
       "      <td>Monday</td>\n",
       "    </tr>\n",
       "    <tr>\n",
       "      <th>61249</th>\n",
       "      <td>D08D4A55</td>\n",
       "      <td>Maybe One Day (feat. Black Spade)</td>\n",
       "      <td>Blu &amp; Exile</td>\n",
       "      <td>hiphop</td>\n",
       "      <td>Saint-Petersburg</td>\n",
       "      <td>10:00:00</td>\n",
       "      <td>Monday</td>\n",
       "    </tr>\n",
       "  </tbody>\n",
       "</table>\n",
       "<p>18512 rows × 7 columns</p>\n",
       "</div>"
      ],
      "text/plain": [
       "        user_id                              track              artist  \\\n",
       "0      FFB692EC                  Kamigata To Boots    The Mass Missile   \n",
       "2        20EC38                  Funiculì funiculà         Mario Lanza   \n",
       "3      A3DD03C9              Dragons in the Sunset          Fire + Ice   \n",
       "5      842029A1                          Преданная           IMPERVTOR   \n",
       "9      E772D5C0                          Pessimist             unknown   \n",
       "...         ...                                ...                 ...   \n",
       "61239  D94F810B        Theme from the Walking Dead  Proyecto Halloween   \n",
       "61240  BC8EC5CF       Red Lips: Gta (Rover Rework)               Rover   \n",
       "61241  29E04611                       Bre Petrunko       Perunika Trio   \n",
       "61242  1B91C621             (Hello) Cloud Mountain     sleepmakeswaves   \n",
       "61249  D08D4A55  Maybe One Day (feat. Black Spade)         Blu & Exile   \n",
       "\n",
       "            genre              city      time        day  \n",
       "0            rock  Saint-Petersburg  20:28:33  Wednesday  \n",
       "2             pop  Saint-Petersburg  20:58:07  Wednesday  \n",
       "3            folk  Saint-Petersburg  08:37:09     Monday  \n",
       "5          rusrap  Saint-Petersburg  13:09:41     Friday  \n",
       "9           dance  Saint-Petersburg  21:20:49  Wednesday  \n",
       "...           ...               ...       ...        ...  \n",
       "61239        film  Saint-Petersburg  21:14:40     Monday  \n",
       "61240  electronic  Saint-Petersburg  21:06:50     Monday  \n",
       "61241       world  Saint-Petersburg  13:56:00     Monday  \n",
       "61242    postrock  Saint-Petersburg  09:22:13     Monday  \n",
       "61249      hiphop  Saint-Petersburg  10:00:00     Monday  \n",
       "\n",
       "[18512 rows x 7 columns]"
      ]
     },
     "metadata": {},
     "output_type": "display_data"
    }
   ],
   "source": [
    "spb_general = df[df['city'] == 'Saint-Petersburg']# получение таблицы spb_general из тех строк таблицы df,\n",
    "# для которых значение в столбце 'city' равно 'Saint-Petersburg'\n",
    "display(spb_general)"
   ]
  },
  {
   "cell_type": "markdown",
   "metadata": {
    "id": "MEJV-CX2_Zcu"
   },
   "source": [
    "Создадим функцию `genre_weekday()` с четырьмя параметрами:\n",
    "* таблица (датафрейм) с данными,\n",
    "* день недели,\n",
    "* начальная временная метка в формате 'hh:mm', \n",
    "* последняя временная метка в формате 'hh:mm'.\n",
    "\n",
    "Функция должна вернуть информацию о топ-10 жанров тех треков, которые прослушивали в указанный день, в промежутке между двумя отметками времени."
   ]
  },
  {
   "cell_type": "code",
   "execution_count": 27,
   "metadata": {
    "id": "laJT9BYl_Zcu"
   },
   "outputs": [],
   "source": [
    "def genre_weekday(table, day, time1, time2):\n",
    "    '''Функция возвращает объект Series на основе таблицы (table) о 10 самых популярных жанрах \n",
    "    в указанный день (day) в заданное время (от time1 до time2 не включая границ)'''\n",
    "    genre_df = table[table['day'] == day]\n",
    "    genre_df = genre_df [genre_df['time'] > time1]\n",
    "    genre_df = genre_df [genre_df['time'] < time2]\n",
    "    genre_df_count = genre_df.groupby('genre')['user_id'].count()\n",
    "    genre_df_sorted = genre_df_count.sort_values(ascending=False)\n",
    "    return genre_df_sorted.head(10)"
   ]
  },
  {
   "cell_type": "markdown",
   "metadata": {
    "id": "la2s2_PF_Zcu"
   },
   "source": [
    "Cравним результаты функции `genre_weekday()` для Москвы и Санкт-Петербурга в понедельник утром (с 7:00 до 11:00) и в пятницу вечером (с 17:00 до 23:00):"
   ]
  },
  {
   "cell_type": "code",
   "execution_count": 28,
   "metadata": {
    "id": "yz7itPUQ_Zcu"
   },
   "outputs": [
    {
     "data": {
      "text/plain": [
       "genre\n",
       "pop            781\n",
       "dance          549\n",
       "electronic     480\n",
       "rock           474\n",
       "hiphop         286\n",
       "ruspop         186\n",
       "world          181\n",
       "rusrap         175\n",
       "alternative    164\n",
       "unknown        161\n",
       "Name: user_id, dtype: int64"
      ]
     },
     "execution_count": 28,
     "metadata": {},
     "output_type": "execute_result"
    }
   ],
   "source": [
    "# вызов функции для утра понедельника в Москве (вместо df — таблица moscow_general)\n",
    "genre_weekday(moscow_general, 'Monday', '07:00', '11:00')\n",
    "# объекты, хранящие время, являются строками и сравниваются как строки\n",
    "# пример вызова: genre_weekday(moscow_general, 'Monday', '07:00', '11:00')"
   ]
  },
  {
   "cell_type": "code",
   "execution_count": 29,
   "metadata": {
    "id": "kwUcHPdy_Zcu"
   },
   "outputs": [
    {
     "data": {
      "text/plain": [
       "genre\n",
       "pop            218\n",
       "dance          182\n",
       "rock           162\n",
       "electronic     147\n",
       "hiphop          80\n",
       "ruspop          64\n",
       "alternative     58\n",
       "rusrap          55\n",
       "jazz            44\n",
       "classical       40\n",
       "Name: user_id, dtype: int64"
      ]
     },
     "execution_count": 29,
     "metadata": {},
     "output_type": "execute_result"
    }
   ],
   "source": [
    "# вызов функции для утра понедельника в Петербурге (вместо df — таблица spb_general)\n",
    "genre_weekday(spb_general, 'Monday', '07:00', '11:00')"
   ]
  },
  {
   "cell_type": "code",
   "execution_count": 30,
   "metadata": {
    "id": "EzXVRE1o_Zcu"
   },
   "outputs": [
    {
     "data": {
      "text/plain": [
       "genre\n",
       "pop            713\n",
       "rock           517\n",
       "dance          495\n",
       "electronic     482\n",
       "hiphop         273\n",
       "world          208\n",
       "ruspop         170\n",
       "alternative    163\n",
       "classical      163\n",
       "rusrap         142\n",
       "Name: user_id, dtype: int64"
      ]
     },
     "execution_count": 30,
     "metadata": {},
     "output_type": "execute_result"
    }
   ],
   "source": [
    "# вызов функции для вечера пятницы в Москве\n",
    "genre_weekday(moscow_general, 'Friday', '17:00', '23:00')"
   ]
  },
  {
   "cell_type": "code",
   "execution_count": 31,
   "metadata": {
    "id": "JZaEKu5v_Zcu"
   },
   "outputs": [
    {
     "data": {
      "text/plain": [
       "genre\n",
       "pop            256\n",
       "electronic     216\n",
       "rock           216\n",
       "dance          210\n",
       "hiphop          97\n",
       "alternative     63\n",
       "jazz            61\n",
       "classical       60\n",
       "rusrap          59\n",
       "world           54\n",
       "Name: user_id, dtype: int64"
      ]
     },
     "execution_count": 31,
     "metadata": {},
     "output_type": "execute_result"
    }
   ],
   "source": [
    "# вызов функции для вечера пятницы в Петербурге\n",
    "genre_weekday(spb_general, 'Friday', '17:00', '23:00')"
   ]
  },
  {
   "cell_type": "markdown",
   "metadata": {
    "id": "wrCe4MNX_Zcu"
   },
   "source": [
    "**Выводы**\n",
    "\n",
    "Если сравнить топ-10 жанров в понедельник утром, можно сделать такие выводы:\n",
    "\n",
    "1. В Москве и Петербурге слушают похожую музыку. Единственное отличие — в московский рейтинг вошёл жанр “world”, а в петербургский — джаз и классика.\n",
    "\n",
    "2. В Москве пропущенных значений оказалось так много, что значение `'unknown'` заняло десятое место среди самых популярных жанров. Значит, пропущенные значения занимают существенную долю в данных и угрожают достоверности исследования.\n",
    "\n",
    "Вечер пятницы не меняет эту картину. Некоторые жанры поднимаются немного выше, другие спускаются, но в целом топ-10 остаётся тем же самым.\n",
    "\n",
    "Таким образом, вторая гипотеза подтвердилась лишь частично:\n",
    "* Пользователи слушают похожую музыку в начале недели и в конце.\n",
    "* Разница между Москвой и Петербургом не слишком выражена. В Москве чаще слушают русскую популярную музыку, в Петербурге — джаз.\n",
    "\n",
    "Однако пропуски в данных ставят под сомнение этот результат. В Москве их так много, что рейтинг топ-10 мог бы выглядеть иначе, если бы не утерянные  данные о жанрах."
   ]
  },
  {
   "cell_type": "markdown",
   "metadata": {
    "id": "JolODAqr_Zcu"
   },
   "source": [
    "### Жанровые предпочтения в Москве и Петербурге\n",
    "\n",
    "Гипотеза: Петербург — столица рэпа, музыку этого жанра там слушают чаще, чем в Москве.  А Москва — город контрастов, в котором, тем не менее, преобладает поп-музыка."
   ]
  },
  {
   "cell_type": "markdown",
   "metadata": {
    "id": "DlegSvaT_Zcu"
   },
   "source": [
    "Сгруппируем таблицу `moscow_general` по жанру и посчитаем прослушивания треков каждого жанра методом `count()`. Затем отсортируем результат в порядке убывания и сохраним его в таблице `moscow_genres`."
   ]
  },
  {
   "cell_type": "code",
   "execution_count": 32,
   "metadata": {
    "id": "r19lIPke_Zcu"
   },
   "outputs": [],
   "source": [
    "moscow_genres = moscow_general.groupby('genre')['user_id'].count().sort_values(ascending=False)"
   ]
  },
  {
   "cell_type": "code",
   "execution_count": 33,
   "metadata": {
    "id": "WhCSooF8_Zcv"
   },
   "outputs": [
    {
     "data": {
      "text/html": [
       "<div>\n",
       "<style scoped>\n",
       "    .dataframe tbody tr th:only-of-type {\n",
       "        vertical-align: middle;\n",
       "    }\n",
       "\n",
       "    .dataframe tbody tr th {\n",
       "        vertical-align: top;\n",
       "    }\n",
       "\n",
       "    .dataframe thead th {\n",
       "        text-align: right;\n",
       "    }\n",
       "</style>\n",
       "<table border=\"1\" class=\"dataframe\">\n",
       "  <thead>\n",
       "    <tr style=\"text-align: right;\">\n",
       "      <th></th>\n",
       "      <th>user_id</th>\n",
       "    </tr>\n",
       "    <tr>\n",
       "      <th>genre</th>\n",
       "      <th></th>\n",
       "    </tr>\n",
       "  </thead>\n",
       "  <tbody>\n",
       "    <tr>\n",
       "      <th>pop</th>\n",
       "      <td>5893</td>\n",
       "    </tr>\n",
       "    <tr>\n",
       "      <th>dance</th>\n",
       "      <td>4435</td>\n",
       "    </tr>\n",
       "    <tr>\n",
       "      <th>rock</th>\n",
       "      <td>3965</td>\n",
       "    </tr>\n",
       "    <tr>\n",
       "      <th>electronic</th>\n",
       "      <td>3786</td>\n",
       "    </tr>\n",
       "    <tr>\n",
       "      <th>hiphop</th>\n",
       "      <td>2096</td>\n",
       "    </tr>\n",
       "    <tr>\n",
       "      <th>classical</th>\n",
       "      <td>1616</td>\n",
       "    </tr>\n",
       "    <tr>\n",
       "      <th>world</th>\n",
       "      <td>1432</td>\n",
       "    </tr>\n",
       "    <tr>\n",
       "      <th>alternative</th>\n",
       "      <td>1379</td>\n",
       "    </tr>\n",
       "    <tr>\n",
       "      <th>ruspop</th>\n",
       "      <td>1372</td>\n",
       "    </tr>\n",
       "    <tr>\n",
       "      <th>rusrap</th>\n",
       "      <td>1161</td>\n",
       "    </tr>\n",
       "  </tbody>\n",
       "</table>\n",
       "</div>"
      ],
      "text/plain": [
       "             user_id\n",
       "genre               \n",
       "pop             5893\n",
       "dance           4435\n",
       "rock            3965\n",
       "electronic      3786\n",
       "hiphop          2096\n",
       "classical       1616\n",
       "world           1432\n",
       "alternative     1379\n",
       "ruspop          1372\n",
       "rusrap          1161"
      ]
     },
     "execution_count": 33,
     "metadata": {},
     "output_type": "execute_result"
    }
   ],
   "source": [
    "# просмотр первых 10 строк moscow_genres\n",
    "moscow_genres.to_frame().head(10)"
   ]
  },
  {
   "cell_type": "markdown",
   "metadata": {
    "id": "cnPG2vnN_Zcv"
   },
   "source": [
    "Теперь повторим то же и для Петербурга, сгруппируем таблицу `spb_general` по жанру, посчитаем прослушивания треков каждого жанра. Результат отсортируем в порядке убывания и сохраним в таблице `spb_genres`:\n"
   ]
  },
  {
   "cell_type": "code",
   "execution_count": 39,
   "metadata": {
    "id": "gluLIpE7_Zcv"
   },
   "outputs": [
    {
     "data": {
      "text/plain": [
       "genre\n",
       "pop            2431\n",
       "dance          1932\n",
       "rock           1879\n",
       "electronic     1736\n",
       "hiphop          960\n",
       "alternative     649\n",
       "classical       646\n",
       "rusrap          564\n",
       "ruspop          538\n",
       "world           515\n",
       "Name: user_id, dtype: int64"
      ]
     },
     "metadata": {},
     "output_type": "display_data"
    }
   ],
   "source": [
    "spb_genres = spb_general.groupby('genre')['user_id'].count().sort_values(ascending=False)\n",
    "display(spb_genres.head(10))"
   ]
  },
  {
   "cell_type": "markdown",
   "metadata": {
    "id": "RY51YJYu_Zcv"
   },
   "source": [
    "**Выводы**"
   ]
  },
  {
   "cell_type": "markdown",
   "metadata": {
    "id": "nVhnJEm__Zcv"
   },
   "source": [
    "Гипотеза частично подтвердилась:\n",
    "* Поп-музыка — самый популярный жанр в Москве, как и предполагала гипотеза. Более того, в топ-10 жанров встречается близкий жанр — русская популярная музыка.\n",
    "* Вопреки ожиданиям, рэп одинаково популярен в Москве и Петербурге. \n"
   ]
  },
  {
   "cell_type": "markdown",
   "metadata": {
    "id": "ykKQ0N65_Zcv"
   },
   "source": [
    "## Выводы\n",
    "Мы проверили три гипотезы и установили:\n",
    "\n",
    "1. День недели по-разному влияет на активность пользователей в Москве и Петербурге. \n",
    "\n",
    "Первая гипотеза полностью подтвердилась.\n",
    "\n",
    "2. Музыкальные предпочтения не сильно меняются в течение недели — будь то Москва или Петербург. Небольшие различия заметны в начале недели, по понедельникам:\n",
    "* в Москве слушают музыку жанра “world”,\n",
    "* в Петербурге — джаз и классику.\n",
    "\n",
    "Таким образом, вторая гипотеза подтвердилась лишь отчасти. Этот результат мог оказаться иным, если бы не пропуски в данных.\n",
    "\n",
    "3. Во вкусах пользователей Москвы и Петербурга больше общего чем различий. Вопреки ожиданиям, предпочтения жанров в Петербурге напоминают московские.\n",
    "\n",
    "Третья гипотеза не подтвердилась. Если различия в предпочтениях и существуют, на основной массе пользователей они незаметны."
   ]
  }
 ],
 "metadata": {
  "ExecuteTimeLog": [
   {
    "duration": 805,
    "start_time": "2021-10-13T02:03:01.675Z"
   },
   {
    "duration": 200,
    "start_time": "2021-10-13T02:06:01.509Z"
   },
   {
    "duration": 26,
    "start_time": "2021-10-13T02:07:58.198Z"
   },
   {
    "duration": 12,
    "start_time": "2021-10-13T02:08:23.343Z"
   },
   {
    "duration": 13,
    "start_time": "2021-10-13T02:08:34.484Z"
   },
   {
    "duration": 12,
    "start_time": "2021-10-13T02:08:47.685Z"
   },
   {
    "duration": 6,
    "start_time": "2021-10-13T02:09:15.576Z"
   },
   {
    "duration": 28,
    "start_time": "2021-10-13T02:13:46.571Z"
   },
   {
    "duration": 5,
    "start_time": "2021-10-13T02:13:58.059Z"
   },
   {
    "duration": 35,
    "start_time": "2021-10-13T02:15:34.787Z"
   },
   {
    "duration": 25,
    "start_time": "2021-10-13T02:19:04.252Z"
   },
   {
    "duration": 31,
    "start_time": "2021-10-13T02:19:18.920Z"
   },
   {
    "duration": 87,
    "start_time": "2021-10-13T02:20:07.348Z"
   },
   {
    "duration": 105,
    "start_time": "2021-10-13T02:22:37.392Z"
   },
   {
    "duration": 81,
    "start_time": "2021-10-13T02:22:48.362Z"
   },
   {
    "duration": 918,
    "start_time": "2021-10-13T02:25:31.709Z"
   },
   {
    "duration": 4,
    "start_time": "2021-10-13T02:43:41.520Z"
   },
   {
    "duration": 14,
    "start_time": "2021-10-13T02:43:46.754Z"
   },
   {
    "duration": 814,
    "start_time": "2021-10-13T02:44:28.086Z"
   },
   {
    "duration": 848,
    "start_time": "2021-10-13T02:48:41.671Z"
   },
   {
    "duration": 47,
    "start_time": "2021-10-13T02:53:10.051Z"
   },
   {
    "duration": 14,
    "start_time": "2021-10-13T02:53:26.422Z"
   },
   {
    "duration": 14,
    "start_time": "2021-10-13T02:55:10.509Z"
   },
   {
    "duration": 22,
    "start_time": "2021-10-13T02:55:22.648Z"
   },
   {
    "duration": 14,
    "start_time": "2021-10-13T02:55:42.159Z"
   },
   {
    "duration": 23,
    "start_time": "2021-10-13T02:55:52.846Z"
   },
   {
    "duration": 15,
    "start_time": "2021-10-13T02:56:34.539Z"
   },
   {
    "duration": 88,
    "start_time": "2021-10-13T03:07:37.771Z"
   },
   {
    "duration": 5,
    "start_time": "2021-10-13T03:08:01.081Z"
   },
   {
    "duration": 24,
    "start_time": "2021-10-13T03:13:47.103Z"
   },
   {
    "duration": 22,
    "start_time": "2021-10-13T03:13:53.966Z"
   },
   {
    "duration": 21,
    "start_time": "2021-10-13T03:14:01.544Z"
   },
   {
    "duration": 19,
    "start_time": "2021-10-13T03:17:16.226Z"
   },
   {
    "duration": 22,
    "start_time": "2021-10-13T03:17:18.581Z"
   },
   {
    "duration": 21,
    "start_time": "2021-10-13T03:17:24.171Z"
   },
   {
    "duration": 448,
    "start_time": "2021-10-13T03:24:00.264Z"
   },
   {
    "duration": 44,
    "start_time": "2021-10-13T03:24:07.412Z"
   },
   {
    "duration": 43,
    "start_time": "2021-10-13T03:24:38.259Z"
   },
   {
    "duration": 44,
    "start_time": "2021-10-13T03:25:49.838Z"
   },
   {
    "duration": 43,
    "start_time": "2021-10-13T03:26:45.522Z"
   },
   {
    "duration": 42,
    "start_time": "2021-10-13T03:29:33.161Z"
   },
   {
    "duration": 48,
    "start_time": "2021-10-13T03:30:46.854Z"
   },
   {
    "duration": 42,
    "start_time": "2021-10-13T03:30:55.243Z"
   },
   {
    "duration": 43,
    "start_time": "2021-10-13T03:31:30.697Z"
   },
   {
    "duration": 290,
    "start_time": "2021-10-13T03:31:54.114Z"
   },
   {
    "duration": 281,
    "start_time": "2021-10-13T03:32:26.515Z"
   },
   {
    "duration": 42,
    "start_time": "2021-10-13T03:32:55.588Z"
   },
   {
    "duration": 42,
    "start_time": "2021-10-13T03:33:41.641Z"
   },
   {
    "duration": 43,
    "start_time": "2021-10-13T03:34:00.462Z"
   },
   {
    "duration": 50,
    "start_time": "2021-10-13T03:34:45.102Z"
   },
   {
    "duration": 11,
    "start_time": "2021-10-13T03:35:26.417Z"
   },
   {
    "duration": 5,
    "start_time": "2021-10-13T03:35:33.010Z"
   },
   {
    "duration": 14,
    "start_time": "2021-10-13T03:35:38.041Z"
   },
   {
    "duration": 107,
    "start_time": "2021-10-13T03:36:22.128Z"
   },
   {
    "duration": 100,
    "start_time": "2021-10-13T03:37:10.872Z"
   },
   {
    "duration": 97,
    "start_time": "2021-10-13T03:37:41.972Z"
   },
   {
    "duration": 94,
    "start_time": "2021-10-13T03:42:27.177Z"
   },
   {
    "duration": 43,
    "start_time": "2021-10-13T03:42:34.331Z"
   },
   {
    "duration": 27,
    "start_time": "2021-10-13T03:43:12.009Z"
   },
   {
    "duration": 104,
    "start_time": "2021-10-13T04:00:17.153Z"
   },
   {
    "duration": 5,
    "start_time": "2021-10-13T04:00:24.151Z"
   },
   {
    "duration": 23,
    "start_time": "2021-10-13T04:01:34.339Z"
   },
   {
    "duration": 21,
    "start_time": "2021-10-13T04:02:06.271Z"
   },
   {
    "duration": 20,
    "start_time": "2021-10-13T04:02:09.894Z"
   },
   {
    "duration": 20,
    "start_time": "2021-10-13T04:02:51.516Z"
   },
   {
    "duration": 6,
    "start_time": "2021-10-13T04:03:53.712Z"
   },
   {
    "duration": 20,
    "start_time": "2021-10-13T04:03:57.600Z"
   },
   {
    "duration": 15,
    "start_time": "2021-10-13T04:04:10.923Z"
   },
   {
    "duration": 23,
    "start_time": "2021-10-13T04:04:30.228Z"
   },
   {
    "duration": 17,
    "start_time": "2021-10-13T04:04:34.498Z"
   },
   {
    "duration": 15,
    "start_time": "2021-10-13T04:04:42.273Z"
   },
   {
    "duration": 20,
    "start_time": "2021-10-13T04:04:47.055Z"
   },
   {
    "duration": 17,
    "start_time": "2021-10-13T04:05:03.801Z"
   },
   {
    "duration": 27,
    "start_time": "2021-10-13T04:05:06.528Z"
   },
   {
    "duration": 47,
    "start_time": "2021-10-13T04:08:00.522Z"
   },
   {
    "duration": 15,
    "start_time": "2021-10-13T04:08:19.316Z"
   },
   {
    "duration": 15,
    "start_time": "2021-10-13T04:09:03.766Z"
   },
   {
    "duration": 7,
    "start_time": "2021-10-13T04:09:36.138Z"
   },
   {
    "duration": 9,
    "start_time": "2021-10-13T04:10:12.918Z"
   },
   {
    "duration": 6,
    "start_time": "2021-10-13T04:10:32.717Z"
   },
   {
    "duration": 779,
    "start_time": "2021-10-13T04:26:44.777Z"
   },
   {
    "duration": 185,
    "start_time": "2021-10-13T04:26:45.559Z"
   },
   {
    "duration": 25,
    "start_time": "2021-10-13T04:26:45.747Z"
   },
   {
    "duration": 28,
    "start_time": "2021-10-13T04:26:45.775Z"
   },
   {
    "duration": 6,
    "start_time": "2021-10-13T04:26:45.805Z"
   },
   {
    "duration": 27,
    "start_time": "2021-10-13T04:26:45.813Z"
   },
   {
    "duration": 5,
    "start_time": "2021-10-13T04:26:45.843Z"
   },
   {
    "duration": 68,
    "start_time": "2021-10-13T04:26:45.851Z"
   },
   {
    "duration": 23,
    "start_time": "2021-10-13T04:26:45.922Z"
   },
   {
    "duration": 52,
    "start_time": "2021-10-13T04:26:45.948Z"
   },
   {
    "duration": 98,
    "start_time": "2021-10-13T04:26:46.003Z"
   },
   {
    "duration": 106,
    "start_time": "2021-10-13T04:26:46.103Z"
   },
   {
    "duration": 87,
    "start_time": "2021-10-13T04:26:46.212Z"
   },
   {
    "duration": 812,
    "start_time": "2021-10-13T04:26:46.301Z"
   },
   {
    "duration": 4,
    "start_time": "2021-10-13T04:26:47.115Z"
   },
   {
    "duration": 20,
    "start_time": "2021-10-13T04:26:47.121Z"
   },
   {
    "duration": 988,
    "start_time": "2021-10-13T04:26:47.143Z"
   },
   {
    "duration": 901,
    "start_time": "2021-10-13T04:26:48.133Z"
   },
   {
    "duration": 70,
    "start_time": "2021-10-13T04:26:49.036Z"
   },
   {
    "duration": 13,
    "start_time": "2021-10-13T04:26:49.108Z"
   },
   {
    "duration": 4,
    "start_time": "2021-10-13T04:26:49.124Z"
   },
   {
    "duration": 88,
    "start_time": "2021-10-13T04:26:49.130Z"
   },
   {
    "duration": 21,
    "start_time": "2021-10-13T04:26:49.222Z"
   },
   {
    "duration": 20,
    "start_time": "2021-10-13T04:26:49.302Z"
   },
   {
    "duration": 20,
    "start_time": "2021-10-13T04:26:49.324Z"
   },
   {
    "duration": 32,
    "start_time": "2021-10-13T04:26:49.402Z"
   },
   {
    "duration": 83,
    "start_time": "2021-10-13T04:26:49.437Z"
   },
   {
    "duration": 236,
    "start_time": "2021-10-13T04:26:49.523Z"
   },
   {
    "duration": 43,
    "start_time": "2021-10-13T04:26:49.762Z"
   },
   {
    "duration": 28,
    "start_time": "2021-10-13T04:26:49.809Z"
   },
   {
    "duration": 7,
    "start_time": "2021-10-13T04:26:49.840Z"
   },
   {
    "duration": 65,
    "start_time": "2021-10-13T04:26:49.850Z"
   },
   {
    "duration": 19,
    "start_time": "2021-10-13T04:26:49.919Z"
   },
   {
    "duration": 26,
    "start_time": "2021-10-13T04:26:49.941Z"
   },
   {
    "duration": 19,
    "start_time": "2021-10-13T04:26:50.002Z"
   },
   {
    "duration": 14,
    "start_time": "2021-10-13T04:26:50.024Z"
   },
   {
    "duration": 7,
    "start_time": "2021-10-13T04:26:50.040Z"
   },
   {
    "duration": 52,
    "start_time": "2021-10-13T04:26:50.050Z"
   },
   {
    "duration": 7,
    "start_time": "2021-10-13T04:26:50.105Z"
   },
   {
    "duration": 10,
    "start_time": "2021-10-13T04:32:11.256Z"
   },
   {
    "duration": 92,
    "start_time": "2021-10-13T04:35:33.867Z"
   },
   {
    "duration": 31,
    "start_time": "2021-10-13T05:08:03.917Z"
   },
   {
    "duration": 88,
    "start_time": "2021-10-13T05:14:38.658Z"
   },
   {
    "duration": 5,
    "start_time": "2021-10-13T05:18:24.819Z"
   },
   {
    "duration": 85,
    "start_time": "2021-10-13T05:19:02.266Z"
   },
   {
    "duration": 16,
    "start_time": "2021-10-13T05:24:12.406Z"
   },
   {
    "duration": 15,
    "start_time": "2021-10-13T06:55:54.705Z"
   },
   {
    "duration": 1404,
    "start_time": "2021-10-13T06:56:44.709Z"
   },
   {
    "duration": 208,
    "start_time": "2021-10-13T06:56:46.116Z"
   },
   {
    "duration": 28,
    "start_time": "2021-10-13T06:56:46.328Z"
   },
   {
    "duration": 68,
    "start_time": "2021-10-13T06:56:46.360Z"
   },
   {
    "duration": 7,
    "start_time": "2021-10-13T06:56:46.431Z"
   },
   {
    "duration": 33,
    "start_time": "2021-10-13T06:56:46.441Z"
   },
   {
    "duration": 7,
    "start_time": "2021-10-13T06:56:46.502Z"
   },
   {
    "duration": 36,
    "start_time": "2021-10-13T06:56:46.514Z"
   },
   {
    "duration": 62,
    "start_time": "2021-10-13T06:56:46.553Z"
   },
   {
    "duration": 30,
    "start_time": "2021-10-13T06:56:46.618Z"
   },
   {
    "duration": 118,
    "start_time": "2021-10-13T06:56:46.651Z"
   },
   {
    "duration": 117,
    "start_time": "2021-10-13T06:56:46.771Z"
   },
   {
    "duration": 95,
    "start_time": "2021-10-13T06:56:46.890Z"
   },
   {
    "duration": 29,
    "start_time": "2021-10-13T06:56:46.987Z"
   },
   {
    "duration": 4,
    "start_time": "2021-10-13T06:56:47.018Z"
   },
   {
    "duration": 17,
    "start_time": "2021-10-13T06:56:47.025Z"
   },
   {
    "duration": 1066,
    "start_time": "2021-10-13T06:56:47.044Z"
   },
   {
    "duration": 1019,
    "start_time": "2021-10-13T06:56:48.113Z"
   },
   {
    "duration": 68,
    "start_time": "2021-10-13T06:56:49.135Z"
   },
   {
    "duration": 19,
    "start_time": "2021-10-13T06:56:49.206Z"
   },
   {
    "duration": 5,
    "start_time": "2021-10-13T06:56:49.227Z"
   },
   {
    "duration": 90,
    "start_time": "2021-10-13T06:56:49.235Z"
   },
   {
    "duration": 19,
    "start_time": "2021-10-13T06:56:49.330Z"
   },
   {
    "duration": 29,
    "start_time": "2021-10-13T06:56:49.403Z"
   },
   {
    "duration": 19,
    "start_time": "2021-10-13T06:56:49.434Z"
   },
   {
    "duration": 74,
    "start_time": "2021-10-13T06:56:49.455Z"
   },
   {
    "duration": 21,
    "start_time": "2021-10-13T06:56:49.531Z"
   },
   {
    "duration": 126,
    "start_time": "2021-10-13T06:56:49.555Z"
   },
   {
    "duration": 123,
    "start_time": "2021-10-13T06:56:49.683Z"
   },
   {
    "duration": 32,
    "start_time": "2021-10-13T06:56:49.810Z"
   },
   {
    "duration": 57,
    "start_time": "2021-10-13T06:56:49.845Z"
   },
   {
    "duration": 9,
    "start_time": "2021-10-13T06:56:49.905Z"
   },
   {
    "duration": 33,
    "start_time": "2021-10-13T06:56:49.917Z"
   },
   {
    "duration": 49,
    "start_time": "2021-10-13T06:56:49.953Z"
   },
   {
    "duration": 27,
    "start_time": "2021-10-13T06:56:50.006Z"
   },
   {
    "duration": 15,
    "start_time": "2021-10-13T06:56:50.036Z"
   },
   {
    "duration": 11,
    "start_time": "2021-10-13T06:56:50.054Z"
   },
   {
    "duration": 14,
    "start_time": "2021-10-13T06:56:50.102Z"
   },
   {
    "duration": 14,
    "start_time": "2021-10-13T06:56:50.119Z"
   },
   {
    "duration": 8,
    "start_time": "2021-10-13T06:56:50.135Z"
   },
   {
    "duration": 2449,
    "start_time": "2021-10-13T07:04:45.717Z"
   },
   {
    "duration": 215,
    "start_time": "2021-10-13T07:04:48.168Z"
   },
   {
    "duration": 35,
    "start_time": "2021-10-13T07:04:48.386Z"
   },
   {
    "duration": 39,
    "start_time": "2021-10-13T07:04:48.424Z"
   },
   {
    "duration": 11,
    "start_time": "2021-10-13T07:04:48.466Z"
   },
   {
    "duration": 53,
    "start_time": "2021-10-13T07:04:48.480Z"
   },
   {
    "duration": 10,
    "start_time": "2021-10-13T07:04:48.536Z"
   },
   {
    "duration": 54,
    "start_time": "2021-10-13T07:04:48.549Z"
   },
   {
    "duration": 42,
    "start_time": "2021-10-13T07:04:48.609Z"
   },
   {
    "duration": 49,
    "start_time": "2021-10-13T07:04:48.654Z"
   },
   {
    "duration": 114,
    "start_time": "2021-10-13T07:04:48.706Z"
   },
   {
    "duration": 129,
    "start_time": "2021-10-13T07:04:48.823Z"
   },
   {
    "duration": 94,
    "start_time": "2021-10-13T07:04:48.955Z"
   },
   {
    "duration": 14,
    "start_time": "2021-10-13T07:04:49.052Z"
   },
   {
    "duration": 4,
    "start_time": "2021-10-13T07:04:49.068Z"
   },
   {
    "duration": 34,
    "start_time": "2021-10-13T07:04:49.074Z"
   },
   {
    "duration": 989,
    "start_time": "2021-10-13T07:04:49.111Z"
   },
   {
    "duration": 996,
    "start_time": "2021-10-13T07:04:50.105Z"
   },
   {
    "duration": 21,
    "start_time": "2021-10-13T07:04:51.104Z"
   },
   {
    "duration": 14,
    "start_time": "2021-10-13T07:04:51.128Z"
   },
   {
    "duration": 57,
    "start_time": "2021-10-13T07:04:51.144Z"
   },
   {
    "duration": 36,
    "start_time": "2021-10-13T07:04:51.205Z"
   },
   {
    "duration": 79,
    "start_time": "2021-10-13T07:04:51.243Z"
   },
   {
    "duration": 88,
    "start_time": "2021-10-13T07:04:51.325Z"
   },
   {
    "duration": 19,
    "start_time": "2021-10-13T07:04:51.416Z"
   },
   {
    "duration": 82,
    "start_time": "2021-10-13T07:04:51.437Z"
   },
   {
    "duration": 24,
    "start_time": "2021-10-13T07:04:51.523Z"
   },
   {
    "duration": 136,
    "start_time": "2021-10-13T07:04:51.551Z"
   },
   {
    "duration": 129,
    "start_time": "2021-10-13T07:04:51.690Z"
   },
   {
    "duration": 32,
    "start_time": "2021-10-13T07:04:51.822Z"
   },
   {
    "duration": 66,
    "start_time": "2021-10-13T07:04:51.857Z"
   },
   {
    "duration": 6,
    "start_time": "2021-10-13T07:04:51.926Z"
   },
   {
    "duration": 42,
    "start_time": "2021-10-13T07:04:51.935Z"
   },
   {
    "duration": 35,
    "start_time": "2021-10-13T07:04:51.980Z"
   },
   {
    "duration": 28,
    "start_time": "2021-10-13T07:04:52.018Z"
   },
   {
    "duration": 51,
    "start_time": "2021-10-13T07:04:52.049Z"
   },
   {
    "duration": 16,
    "start_time": "2021-10-13T07:04:52.104Z"
   },
   {
    "duration": 10,
    "start_time": "2021-10-13T07:04:52.122Z"
   },
   {
    "duration": 29,
    "start_time": "2021-10-13T07:04:52.134Z"
   },
   {
    "duration": 17,
    "start_time": "2021-10-13T07:04:52.166Z"
   }
  ],
  "colab": {
   "collapsed_sections": [
    "E0vqbgi9ay0H",
    "VUC88oWjTJw2"
   ],
   "name": "yandex_music_project_2021.2.ipynb",
   "provenance": []
  },
  "kernelspec": {
   "display_name": "Python 3 (ipykernel)",
   "language": "python",
   "name": "python3"
  },
  "language_info": {
   "codemirror_mode": {
    "name": "ipython",
    "version": 3
   },
   "file_extension": ".py",
   "mimetype": "text/x-python",
   "name": "python",
   "nbconvert_exporter": "python",
   "pygments_lexer": "ipython3",
   "version": "3.9.12"
  },
  "toc": {
   "base_numbering": 1,
   "nav_menu": {},
   "number_sections": true,
   "sideBar": true,
   "skip_h1_title": true,
   "title_cell": "Table of Contents",
   "title_sidebar": "Contents",
   "toc_cell": false,
   "toc_position": {},
   "toc_section_display": true,
   "toc_window_display": false
  }
 },
 "nbformat": 4,
 "nbformat_minor": 1
}
